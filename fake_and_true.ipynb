{
 "cells": [
  {
   "cell_type": "markdown",
   "metadata": {},
   "source": [
    "# Importations des bases"
   ]
  },
  {
   "cell_type": "code",
   "execution_count": 1,
   "metadata": {},
   "outputs": [],
   "source": [
    "import pandas as pd"
   ]
  },
  {
   "cell_type": "code",
   "execution_count": null,
   "metadata": {},
   "outputs": [],
   "source": [
    "#Lien vers la page kaggle où les données sont disponibles\n",
    "# https://www.kaggle.com/clmentbisaillon/fake-and-real-news-dataset"
   ]
  },
  {
   "cell_type": "code",
   "execution_count": 2,
   "metadata": {},
   "outputs": [],
   "source": [
    "fake = pd.read_csv(\"D:/Cours_AMSE/Machine_Learning/Fake.csv\", header = 0 ,sep=\",\")"
   ]
  },
  {
   "cell_type": "code",
   "execution_count": 3,
   "metadata": {},
   "outputs": [],
   "source": [
    "true = pd.read_csv(\"D:/Cours_AMSE/Machine_Learning/True.csv\", header = 0 ,sep=\",\")"
   ]
  },
  {
   "cell_type": "code",
   "execution_count": 4,
   "metadata": {},
   "outputs": [
    {
     "name": "stdout",
     "output_type": "stream",
     "text": [
      "23481\n",
      "21417\n"
     ]
    }
   ],
   "source": [
    "print(len(fake))\n",
    "print(len(true))"
   ]
  },
  {
   "cell_type": "code",
   "execution_count": 5,
   "metadata": {
    "scrolled": false
   },
   "outputs": [
    {
     "data": {
      "text/plain": [
       "'Donald Trump just couldn t wish all Americans a Happy New Year and leave it at that. Instead, he had to give a shout out to his enemies, haters and  the very dishonest fake news media.  The former reality show star had just one job to do and he couldn t do it. As our Country rapidly grows stronger and smarter, I want to wish all of my friends, supporters, enemies, haters, and even the very dishonest Fake News Media, a Happy and Healthy New Year,  President Angry Pants tweeted.  2018 will be a great year for America! As our Country rapidly grows stronger and smarter, I want to wish all of my friends, supporters, enemies, haters, and even the very dishonest Fake News Media, a Happy and Healthy New Year. 2018 will be a great year for America!  Donald J. Trump (@realDonaldTrump) December 31, 2017Trump s tweet went down about as welll as you d expect.What kind of president sends a New Year s greeting like this despicable, petty, infantile gibberish? Only Trump! His lack of decency won t even allow him to rise above the gutter long enough to wish the American citizens a happy new year!  Bishop Talbert Swan (@TalbertSwan) December 31, 2017no one likes you  Calvin (@calvinstowell) December 31, 2017Your impeachment would make 2018 a great year for America, but I ll also accept regaining control of Congress.  Miranda Yaver (@mirandayaver) December 31, 2017Do you hear yourself talk? When you have to include that many people that hate you you have to wonder? Why do the they all hate me?  Alan Sandoval (@AlanSandoval13) December 31, 2017Who uses the word Haters in a New Years wish??  Marlene (@marlene399) December 31, 2017You can t just say happy new year?  Koren pollitt (@Korencarpenter) December 31, 2017Here s Trump s New Year s Eve tweet from 2016.Happy New Year to all, including to my many enemies and those who have fought me and lost so badly they just don t know what to do. Love!  Donald J. Trump (@realDonaldTrump) December 31, 2016This is nothing new for Trump. He s been doing this for years.Trump has directed messages to his  enemies  and  haters  for New Year s, Easter, Thanksgiving, and the anniversary of 9/11. pic.twitter.com/4FPAe2KypA  Daniel Dale (@ddale8) December 31, 2017Trump s holiday tweets are clearly not presidential.How long did he work at Hallmark before becoming President?  Steven Goodine (@SGoodine) December 31, 2017He s always been like this . . . the only difference is that in the last few years, his filter has been breaking down.  Roy Schulze (@thbthttt) December 31, 2017Who, apart from a teenager uses the term haters?  Wendy (@WendyWhistles) December 31, 2017he s a fucking 5 year old  Who Knows (@rainyday80) December 31, 2017So, to all the people who voted for this a hole thinking he would change once he got into power, you were wrong! 70-year-old men don t change and now he s a year older.Photo by Andrew Burton/Getty Images.'"
      ]
     },
     "execution_count": 5,
     "metadata": {},
     "output_type": "execute_result"
    }
   ],
   "source": [
    "fake.iloc[0,1]"
   ]
  },
  {
   "cell_type": "code",
   "execution_count": 6,
   "metadata": {},
   "outputs": [
    {
     "data": {
      "text/html": [
       "<div>\n",
       "<style scoped>\n",
       "    .dataframe tbody tr th:only-of-type {\n",
       "        vertical-align: middle;\n",
       "    }\n",
       "\n",
       "    .dataframe tbody tr th {\n",
       "        vertical-align: top;\n",
       "    }\n",
       "\n",
       "    .dataframe thead th {\n",
       "        text-align: right;\n",
       "    }\n",
       "</style>\n",
       "<table border=\"1\" class=\"dataframe\">\n",
       "  <thead>\n",
       "    <tr style=\"text-align: right;\">\n",
       "      <th></th>\n",
       "      <th>title</th>\n",
       "      <th>text</th>\n",
       "      <th>subject</th>\n",
       "      <th>date</th>\n",
       "    </tr>\n",
       "  </thead>\n",
       "  <tbody>\n",
       "    <tr>\n",
       "      <th>0</th>\n",
       "      <td>Donald Trump Sends Out Embarrassing New Year’...</td>\n",
       "      <td>Donald Trump just couldn t wish all Americans ...</td>\n",
       "      <td>News</td>\n",
       "      <td>December 31, 2017</td>\n",
       "    </tr>\n",
       "    <tr>\n",
       "      <th>1</th>\n",
       "      <td>Drunk Bragging Trump Staffer Started Russian ...</td>\n",
       "      <td>House Intelligence Committee Chairman Devin Nu...</td>\n",
       "      <td>News</td>\n",
       "      <td>December 31, 2017</td>\n",
       "    </tr>\n",
       "    <tr>\n",
       "      <th>2</th>\n",
       "      <td>Sheriff David Clarke Becomes An Internet Joke...</td>\n",
       "      <td>On Friday, it was revealed that former Milwauk...</td>\n",
       "      <td>News</td>\n",
       "      <td>December 30, 2017</td>\n",
       "    </tr>\n",
       "    <tr>\n",
       "      <th>3</th>\n",
       "      <td>Trump Is So Obsessed He Even Has Obama’s Name...</td>\n",
       "      <td>On Christmas day, Donald Trump announced that ...</td>\n",
       "      <td>News</td>\n",
       "      <td>December 29, 2017</td>\n",
       "    </tr>\n",
       "    <tr>\n",
       "      <th>4</th>\n",
       "      <td>Pope Francis Just Called Out Donald Trump Dur...</td>\n",
       "      <td>Pope Francis used his annual Christmas Day mes...</td>\n",
       "      <td>News</td>\n",
       "      <td>December 25, 2017</td>\n",
       "    </tr>\n",
       "  </tbody>\n",
       "</table>\n",
       "</div>"
      ],
      "text/plain": [
       "                                               title  \\\n",
       "0   Donald Trump Sends Out Embarrassing New Year’...   \n",
       "1   Drunk Bragging Trump Staffer Started Russian ...   \n",
       "2   Sheriff David Clarke Becomes An Internet Joke...   \n",
       "3   Trump Is So Obsessed He Even Has Obama’s Name...   \n",
       "4   Pope Francis Just Called Out Donald Trump Dur...   \n",
       "\n",
       "                                                text subject  \\\n",
       "0  Donald Trump just couldn t wish all Americans ...    News   \n",
       "1  House Intelligence Committee Chairman Devin Nu...    News   \n",
       "2  On Friday, it was revealed that former Milwauk...    News   \n",
       "3  On Christmas day, Donald Trump announced that ...    News   \n",
       "4  Pope Francis used his annual Christmas Day mes...    News   \n",
       "\n",
       "                date  \n",
       "0  December 31, 2017  \n",
       "1  December 31, 2017  \n",
       "2  December 30, 2017  \n",
       "3  December 29, 2017  \n",
       "4  December 25, 2017  "
      ]
     },
     "execution_count": 6,
     "metadata": {},
     "output_type": "execute_result"
    }
   ],
   "source": [
    "fake.head()"
   ]
  },
  {
   "cell_type": "code",
   "execution_count": 7,
   "metadata": {},
   "outputs": [
    {
     "data": {
      "text/html": [
       "<div>\n",
       "<style scoped>\n",
       "    .dataframe tbody tr th:only-of-type {\n",
       "        vertical-align: middle;\n",
       "    }\n",
       "\n",
       "    .dataframe tbody tr th {\n",
       "        vertical-align: top;\n",
       "    }\n",
       "\n",
       "    .dataframe thead th {\n",
       "        text-align: right;\n",
       "    }\n",
       "</style>\n",
       "<table border=\"1\" class=\"dataframe\">\n",
       "  <thead>\n",
       "    <tr style=\"text-align: right;\">\n",
       "      <th></th>\n",
       "      <th>title</th>\n",
       "      <th>text</th>\n",
       "      <th>subject</th>\n",
       "      <th>date</th>\n",
       "    </tr>\n",
       "  </thead>\n",
       "  <tbody>\n",
       "    <tr>\n",
       "      <th>0</th>\n",
       "      <td>As U.S. budget fight looms, Republicans flip t...</td>\n",
       "      <td>WASHINGTON (Reuters) - The head of a conservat...</td>\n",
       "      <td>politicsNews</td>\n",
       "      <td>December 31, 2017</td>\n",
       "    </tr>\n",
       "    <tr>\n",
       "      <th>1</th>\n",
       "      <td>U.S. military to accept transgender recruits o...</td>\n",
       "      <td>WASHINGTON (Reuters) - Transgender people will...</td>\n",
       "      <td>politicsNews</td>\n",
       "      <td>December 29, 2017</td>\n",
       "    </tr>\n",
       "    <tr>\n",
       "      <th>2</th>\n",
       "      <td>Senior U.S. Republican senator: 'Let Mr. Muell...</td>\n",
       "      <td>WASHINGTON (Reuters) - The special counsel inv...</td>\n",
       "      <td>politicsNews</td>\n",
       "      <td>December 31, 2017</td>\n",
       "    </tr>\n",
       "    <tr>\n",
       "      <th>3</th>\n",
       "      <td>FBI Russia probe helped by Australian diplomat...</td>\n",
       "      <td>WASHINGTON (Reuters) - Trump campaign adviser ...</td>\n",
       "      <td>politicsNews</td>\n",
       "      <td>December 30, 2017</td>\n",
       "    </tr>\n",
       "    <tr>\n",
       "      <th>4</th>\n",
       "      <td>Trump wants Postal Service to charge 'much mor...</td>\n",
       "      <td>SEATTLE/WASHINGTON (Reuters) - President Donal...</td>\n",
       "      <td>politicsNews</td>\n",
       "      <td>December 29, 2017</td>\n",
       "    </tr>\n",
       "  </tbody>\n",
       "</table>\n",
       "</div>"
      ],
      "text/plain": [
       "                                               title  \\\n",
       "0  As U.S. budget fight looms, Republicans flip t...   \n",
       "1  U.S. military to accept transgender recruits o...   \n",
       "2  Senior U.S. Republican senator: 'Let Mr. Muell...   \n",
       "3  FBI Russia probe helped by Australian diplomat...   \n",
       "4  Trump wants Postal Service to charge 'much mor...   \n",
       "\n",
       "                                                text       subject  \\\n",
       "0  WASHINGTON (Reuters) - The head of a conservat...  politicsNews   \n",
       "1  WASHINGTON (Reuters) - Transgender people will...  politicsNews   \n",
       "2  WASHINGTON (Reuters) - The special counsel inv...  politicsNews   \n",
       "3  WASHINGTON (Reuters) - Trump campaign adviser ...  politicsNews   \n",
       "4  SEATTLE/WASHINGTON (Reuters) - President Donal...  politicsNews   \n",
       "\n",
       "                 date  \n",
       "0  December 31, 2017   \n",
       "1  December 29, 2017   \n",
       "2  December 31, 2017   \n",
       "3  December 30, 2017   \n",
       "4  December 29, 2017   "
      ]
     },
     "execution_count": 7,
     "metadata": {},
     "output_type": "execute_result"
    }
   ],
   "source": [
    "true.head()"
   ]
  },
  {
   "cell_type": "markdown",
   "metadata": {},
   "source": [
    "# Pré traitement des données"
   ]
  },
  {
   "cell_type": "code",
   "execution_count": 8,
   "metadata": {},
   "outputs": [],
   "source": [
    "import re"
   ]
  },
  {
   "cell_type": "code",
   "execution_count": 9,
   "metadata": {},
   "outputs": [],
   "source": [
    "#suppresion des caractères indésirables (@..., #...hashtags, les url, les auteurs à la fin: Photo by... )\n",
    "\n",
    "for i in range (0,len(fake)):\n",
    "    fake.iloc[i,1] = re.sub('.@\\w*. ','', fake.iloc[i,1])\n",
    "\n",
    "for i in range (0,len(true)):\n",
    "    true.iloc[i,1] = re.sub('.@\\w*. ','', true.iloc[i,1])\n",
    "\n",
    "for i in range (0,len(fake)):\n",
    "    fake.iloc[i,1] = re.sub(r'(https|http)?:\\/\\/(\\w|\\.|\\/|\\?|\\=|\\&|\\%)*\\b', '', fake.iloc[i,1], flags=re.MULTILINE)\n",
    "\n",
    "for i in range (0,len(true)):\n",
    "    true.iloc[i,1] = re.sub(r'(https|http)?:\\/\\/(\\w|\\.|\\/|\\?|\\=|\\&|\\%)*\\b', '', true.iloc[i,1], flags=re.MULTILINE)\n",
    "\n",
    "for i in range (0,len(fake)):\n",
    "    fake.iloc[i,1] = re.sub(\"pic.twitter.com.\\w*\", \"\",fake.iloc[i,1])\n",
    "\n",
    "for i in range (0,len(true)):\n",
    "    true.iloc[i,1] = re.sub(\"pic.twitter.com.\\w*\", \"\",true.iloc[i,1])\n",
    "    \n",
    "for i in range (0,len(fake)):\n",
    "    fake.iloc[i,1] = re.sub('Featured image.*|Photo by.*|#\\w*',\"\",fake.iloc[i,1])\n",
    "\n",
    "for i in range (0,len(true)):\n",
    "    true.iloc[i,1] = re.sub('Featured image.*|Photo by.*|#\\w*',\"\",true.iloc[i,1])"
   ]
  },
  {
   "cell_type": "markdown",
   "metadata": {},
   "source": [
    "# Description des données"
   ]
  },
  {
   "cell_type": "code",
   "execution_count": 10,
   "metadata": {},
   "outputs": [],
   "source": [
    "'''En vue de donner les fonctions des mots (tagging) et d'identifier les mots les plus fréquents, on fusionne\n",
    "les textes dans chaque base de données''' \n",
    "\n",
    "S_true= \"\"\n",
    "for i in range (0,len(true)):\n",
    "    S_true = S_true + true.iloc[i,1]"
   ]
  },
  {
   "cell_type": "code",
   "execution_count": 11,
   "metadata": {},
   "outputs": [],
   "source": [
    "S_fake= \"\"\n",
    "for i in range (0,len(fake)):\n",
    "    S_fake = S_fake + fake.iloc[i,1]"
   ]
  },
  {
   "cell_type": "code",
   "execution_count": 12,
   "metadata": {},
   "outputs": [
    {
     "name": "stderr",
     "output_type": "stream",
     "text": [
      "[nltk_data] Downloading package punkt to\n",
      "[nltk_data]     C:\\Users\\manar\\AppData\\Roaming\\nltk_data...\n",
      "[nltk_data]   Package punkt is already up-to-date!\n"
     ]
    },
    {
     "data": {
      "text/plain": [
       "True"
      ]
     },
     "execution_count": 12,
     "metadata": {},
     "output_type": "execute_result"
    }
   ],
   "source": [
    "#importation du package natural langage toolkit et de package pour tokenizer (séparer le texte en mots)\n",
    "\n",
    "import nltk\n",
    "nltk.download(\"punkt\")"
   ]
  },
  {
   "cell_type": "code",
   "execution_count": 13,
   "metadata": {},
   "outputs": [
    {
     "name": "stderr",
     "output_type": "stream",
     "text": [
      "[nltk_data] Downloading package averaged_perceptron_tagger to\n",
      "[nltk_data]     C:\\Users\\manar\\AppData\\Roaming\\nltk_data...\n",
      "[nltk_data]   Package averaged_perceptron_tagger is already up-to-\n",
      "[nltk_data]       date!\n"
     ]
    }
   ],
   "source": [
    "##importation du package pour identifier les fonction des mots\n",
    "\n",
    "nltk.download(\"averaged_perceptron_tagger\")\n",
    "from nltk.tag import pos_tag"
   ]
  },
  {
   "cell_type": "code",
   "execution_count": 14,
   "metadata": {},
   "outputs": [],
   "source": [
    "tokenizer = nltk.RegexpTokenizer(r\"\\w+\") ## on choisit une méthode de tokenization qui supprime la ponctuation\n",
    "tokens_fake = tokenizer.tokenize(S_fake.lower()) ## tokenizer en suprimant la ponctuation et meetre en minuscule le texte\n",
    "S_fake = nltk.Text(tokens_fake) \n",
    "tags_f = nltk.pos_tag(S_fake)  #attribuer la fonction de chaque mot"
   ]
  },
  {
   "cell_type": "code",
   "execution_count": 15,
   "metadata": {},
   "outputs": [],
   "source": [
    "##importer un package qui compte les mots \n",
    "\n",
    "from collections import Counter\n",
    "counts_tag_fake = Counter(tag for word,tag in tags_f)"
   ]
  },
  {
   "cell_type": "code",
   "execution_count": 16,
   "metadata": {},
   "outputs": [],
   "source": [
    "##effectuer le compte dans la base fake\n",
    "\n",
    "total_f = sum(counts_tag_fake.values())\n",
    "d_f= dict((word, float(count)/total_f) for word,count in counts_tag_fake.items())"
   ]
  },
  {
   "cell_type": "code",
   "execution_count": 17,
   "metadata": {},
   "outputs": [],
   "source": [
    "tokens_true = tokenizer.tokenize(S_true.lower())\n",
    "S_true = nltk.Text(tokens_true)\n",
    "tags_t = nltk.pos_tag(S_true)"
   ]
  },
  {
   "cell_type": "code",
   "execution_count": 18,
   "metadata": {},
   "outputs": [],
   "source": [
    "counts_tag_true = Counter(tag for word,tag in tags_t)"
   ]
  },
  {
   "cell_type": "code",
   "execution_count": 19,
   "metadata": {},
   "outputs": [],
   "source": [
    "##faire le total de chaque fonction de mots : i.e : compter tous les noms \n",
    "\n",
    "total_t = sum(counts_tag_true.values())\n",
    "d_t= dict((word, float(count)/total_f) for word,count in counts_tag_true.items())"
   ]
  },
  {
   "cell_type": "code",
   "execution_count": 20,
   "metadata": {},
   "outputs": [
    {
     "data": {
      "text/plain": [
       "'function word: préposition: in\\npronoun: PRR\\npossessive pronon : PRP$\\npossessive wh-pronoun whose :WP$ \\nwh-pronoun who, what: WP\\ncojonction de corrd : CC\\ndeterminer : DT \\npredeterminer : PDT\\nmodal:MD\\nwh-determiner : WDT\\ninterjection : UH\\npossessive ending POS\\nTO : to\\nexistential there: EX \\n\\nContent word : Content words are words with specific meanings, such as nouns, adjectives, adverbs, and main verbs\\n\\nadjectives:JJ\\nadjective, comparative: JJR \\nadjective, superlative: JJS \\nwh-adverb where, when : WRB \\n\\nnoun, singular: NN \\nnoun plural : NNS\\nproper noun, singular : NNP\\nproper noun, plural ‘Americans’ : NNPS\\n\\nadverb very, silently, :RB \\nadverb, comparative better: RBR \\nadverb, superlative best: RBS \\n\\nparticle give up :RP \\nverb, base form : VB\\nverb, past tense, took :VBD\\nverb, gerund/present participle taking:VBG \\n\\nverb, past participle is taken:VBN \\nverb, sing. present, known-3d take:VBP \\nverb, 3rd person sing. present takes:VBZ'"
      ]
     },
     "execution_count": 20,
     "metadata": {},
     "output_type": "execute_result"
    }
   ],
   "source": [
    "##ici on regroupe toutes les formes de mots de fonctions(function word: pronoms,prépositions...) d'adjectif, d'adverbes, de noms, de verbe\n",
    "\n",
    "\n",
    "\n",
    "fw_t = d_t[\"IN\"]+ d_t[\"PRP\"]+d_t[\"PRP$\"]+d_t[\"WP\"]+d_t[\"WP$\"]+d_t[\"DT\"]+d_t[\"PDT\"]+d_t[\"MD\"]+d_t[\"WDT\"]+d_t[\"UH\"]+d_t[\"POS\"]+d_t[\"TO\"]+d_t[\"EX\"]\n",
    "adj_t = d_t[\"JJ\"]+ d_t[\"JJR\"]+d_t[\"JJS\"]\n",
    "adv_t= d_t[\"RB\"]+ d_t[\"RBR\"]+d_t[\"RBS\"]+d_t[\"WRB\"]\n",
    "nn_t = d_t[\"NN\"]+d_t[\"NNS\"]+d_t[\"NNP\"]+d_t[\"NNPS\"]\n",
    "v_t = d_t[\"RP\"]+d_t[\"VB\"]+d_t[\"VBD\"]+d_t[\"VBG\"]+d_t[\"VBN\"]+d_t[\"VBP\"]+d_t[\"VBZ\"]\n",
    "\n",
    "fw_f = d_f[\"IN\"]+d_f[\"PRP\"]+d_f[\"PRP$\"]+d_f[\"WP\"]+d_f[\"WP$\"]+d_f[\"DT\"]+d_f[\"PDT\"]+d_f[\"MD\"]+d_f[\"WDT\"]+d_f[\"UH\"]+d_f[\"POS\"]+d_f[\"TO\"]+d_f[\"EX\"]\n",
    "adj_f = d_f[\"JJ\"]+d_f[\"JJR\"]+d_f[\"JJS\"]\n",
    "adv_f= d_f[\"RB\"]+d_f[\"RBR\"]+d_f[\"RBS\"]+d_f[\"WRB\"]\n",
    "nn_f = d_f[\"NN\"]+d_f[\"NNS\"]+d_f[\"NNP\"]+d_f[\"NNPS\"]\n",
    "v_f = d_f[\"RP\"]+d_f[\"VB\"]+d_f[\"VBD\"]+d_f[\"VBG\"]+d_f[\"VBN\"]+d_f[\"VBP\"]+d_f[\"VBZ\"]\n",
    "\n",
    "'''function word: préposition: in\n",
    "pronoun: PRR\n",
    "possessive pronon : PRP$\n",
    "possessive wh-pronoun whose :WP$ \n",
    "wh-pronoun who, what: WP\n",
    "cojonction de corrd : CC\n",
    "determiner : DT \n",
    "predeterminer : PDT\n",
    "modal:MD\n",
    "wh-determiner : WDT\n",
    "interjection : UH\n",
    "possessive ending POS\n",
    "TO : to\n",
    "existential there: EX \n",
    "\n",
    "Content word : Content words are words with specific meanings, such as nouns, adjectives, adverbs, and main verbs\n",
    "\n",
    "adjectives:JJ\n",
    "adjective, comparative: JJR \n",
    "adjective, superlative: JJS \n",
    "wh-adverb where, when : WRB \n",
    "\n",
    "noun, singular: NN \n",
    "noun plural : NNS\n",
    "proper noun, singular : NNP\n",
    "proper noun, plural ‘Americans’ : NNPS\n",
    "\n",
    "adverb very, silently, :RB \n",
    "adverb, comparative better: RBR \n",
    "adverb, superlative best: RBS \n",
    "\n",
    "particle give up :RP \n",
    "verb, base form : VB\n",
    "verb, past tense, took :VBD\n",
    "verb, gerund/present participle taking:VBG \n",
    "\n",
    "verb, past participle is taken:VBN \n",
    "verb, sing. present, known-3d take:VBP \n",
    "verb, 3rd person sing. present takes:VBZ'''\n",
    " "
   ]
  },
  {
   "cell_type": "code",
   "execution_count": 21,
   "metadata": {},
   "outputs": [],
   "source": [
    "import matplotlib.pyplot as plt\n",
    "import numpy as np"
   ]
  },
  {
   "cell_type": "code",
   "execution_count": 22,
   "metadata": {},
   "outputs": [
    {
     "data": {
      "image/png": "[encoded data removed]",
      "text/plain": [
       "<Figure size 432x288 with 1 Axes>"
      ]
     },
     "metadata": {
      "needs_background": "light"
     },
     "output_type": "display_data"
    }
   ],
   "source": [
    "##on représente toutes ces types de mots sous formes de barplot\n",
    "\n",
    "group = [\"Fonction word\", \"Adjectives\", \"Adverbs\", \"Nouns\",\"Verbs\"]\n",
    "bar_t = [fw_t,adj_t,adv_t,nn_t,v_t]\n",
    "bar_f = [fw_f,adj_f,adv_f,nn_f,v_f]\n",
    "# Position sur l'axe des x pour chaque étiquette\n",
    "position = np.arange(len(group))\n",
    "# Largeur des barres\n",
    "largeur = .35\n",
    "# Création de la figure et d'un set de sous-graphiques\n",
    "fig, ax = plt.subplots()\n",
    "r1 = ax.bar(position - largeur/2,bar_t , largeur, label = \"True\")\n",
    "r2 = ax.bar(position + largeur/2,bar_f , largeur,label = \"Fake\")\n",
    "# Modification des marques sur l'axe des x et de leurs étiquettes\n",
    "ax.set_xticks(position)\n",
    "ax.set_xticklabels(group)\n",
    "plt.legend(loc = \"upper center\")\n",
    "plt.savefig('description.png')"
   ]
  },
  {
   "cell_type": "code",
   "execution_count": 23,
   "metadata": {},
   "outputs": [
    {
     "name": "stderr",
     "output_type": "stream",
     "text": [
      "[nltk_data] Downloading package stopwords to\n",
      "[nltk_data]     C:\\Users\\manar\\AppData\\Roaming\\nltk_data...\n",
      "[nltk_data]   Package stopwords is already up-to-date!\n"
     ]
    }
   ],
   "source": [
    "##importer le package pour supprimer les stopwords et tokenizer\n",
    "\n",
    "nltk.download(\"stopwords\")\n",
    "from nltk.tokenize import word_tokenize\n",
    "from nltk.corpus import stopwords"
   ]
  },
  {
   "cell_type": "code",
   "execution_count": 24,
   "metadata": {},
   "outputs": [],
   "source": [
    "##spécifier qu'on veut des stopword anglais\n",
    "stop_words = set(stopwords.words('english'))"
   ]
  },
  {
   "cell_type": "code",
   "execution_count": 25,
   "metadata": {},
   "outputs": [],
   "source": [
    "##filtrer les stopwords\n",
    "\n",
    "stop_words = set(stopwords.words('english'))\n",
    "filtered_fake = [] \n",
    "  \n",
    "for w in S_fake: \n",
    "    if w not in stop_words: \n",
    "        filtered_fake.append(w)"
   ]
  },
  {
   "cell_type": "code",
   "execution_count": 26,
   "metadata": {},
   "outputs": [],
   "source": [
    "import collections\n",
    "counts_nsw_f = collections.Counter(filtered_fake)"
   ]
  },
  {
   "cell_type": "code",
   "execution_count": 27,
   "metadata": {},
   "outputs": [],
   "source": [
    "filtered_true = [] \n",
    "  \n",
    "for w in S_true: \n",
    "    if w not in stop_words: \n",
    "        filtered_true.append(w)"
   ]
  },
  {
   "cell_type": "code",
   "execution_count": 28,
   "metadata": {},
   "outputs": [],
   "source": [
    "##compter combien de fois chaque mot revient\n",
    "\n",
    "counts_nsw_t = collections.Counter(filtered_true)"
   ]
  },
  {
   "cell_type": "code",
   "execution_count": 29,
   "metadata": {},
   "outputs": [
    {
     "data": {
      "text/html": [
       "<div>\n",
       "<style scoped>\n",
       "    .dataframe tbody tr th:only-of-type {\n",
       "        vertical-align: middle;\n",
       "    }\n",
       "\n",
       "    .dataframe tbody tr th {\n",
       "        vertical-align: top;\n",
       "    }\n",
       "\n",
       "    .dataframe thead th {\n",
       "        text-align: right;\n",
       "    }\n",
       "</style>\n",
       "<table border=\"1\" class=\"dataframe\">\n",
       "  <thead>\n",
       "    <tr style=\"text-align: right;\">\n",
       "      <th></th>\n",
       "      <th>words</th>\n",
       "      <th>count</th>\n",
       "    </tr>\n",
       "  </thead>\n",
       "  <tbody>\n",
       "    <tr>\n",
       "      <th>0</th>\n",
       "      <td>trump</td>\n",
       "      <td>78985</td>\n",
       "    </tr>\n",
       "    <tr>\n",
       "      <th>1</th>\n",
       "      <td>said</td>\n",
       "      <td>33743</td>\n",
       "    </tr>\n",
       "    <tr>\n",
       "      <th>2</th>\n",
       "      <td>president</td>\n",
       "      <td>27591</td>\n",
       "    </tr>\n",
       "    <tr>\n",
       "      <th>3</th>\n",
       "      <td>people</td>\n",
       "      <td>26547</td>\n",
       "    </tr>\n",
       "    <tr>\n",
       "      <th>4</th>\n",
       "      <td>one</td>\n",
       "      <td>24470</td>\n",
       "    </tr>\n",
       "  </tbody>\n",
       "</table>\n",
       "</div>"
      ],
      "text/plain": [
       "       words  count\n",
       "0      trump  78985\n",
       "1       said  33743\n",
       "2  president  27591\n",
       "3     people  26547\n",
       "4        one  24470"
      ]
     },
     "execution_count": 29,
     "metadata": {},
     "output_type": "execute_result"
    }
   ],
   "source": [
    "##regrouper dans dans un dataframe les 10 mots les  plus fréquents avec leurs effectifs respectifs\n",
    "\n",
    "count_mc_f = pd.DataFrame(counts_nsw_f.most_common(10),\n",
    "                             columns=['words', 'count'])\n",
    "count_mc_f.head()"
   ]
  },
  {
   "cell_type": "code",
   "execution_count": 30,
   "metadata": {
    "scrolled": true
   },
   "outputs": [
    {
     "data": {
      "text/html": [
       "<div>\n",
       "<style scoped>\n",
       "    .dataframe tbody tr th:only-of-type {\n",
       "        vertical-align: middle;\n",
       "    }\n",
       "\n",
       "    .dataframe tbody tr th {\n",
       "        vertical-align: top;\n",
       "    }\n",
       "\n",
       "    .dataframe thead th {\n",
       "        text-align: right;\n",
       "    }\n",
       "</style>\n",
       "<table border=\"1\" class=\"dataframe\">\n",
       "  <thead>\n",
       "    <tr style=\"text-align: right;\">\n",
       "      <th></th>\n",
       "      <th>words</th>\n",
       "      <th>count</th>\n",
       "    </tr>\n",
       "  </thead>\n",
       "  <tbody>\n",
       "    <tr>\n",
       "      <th>0</th>\n",
       "      <td>said</td>\n",
       "      <td>99059</td>\n",
       "    </tr>\n",
       "    <tr>\n",
       "      <th>1</th>\n",
       "      <td>trump</td>\n",
       "      <td>54693</td>\n",
       "    </tr>\n",
       "    <tr>\n",
       "      <th>2</th>\n",
       "      <td>u</td>\n",
       "      <td>44569</td>\n",
       "    </tr>\n",
       "    <tr>\n",
       "      <th>3</th>\n",
       "      <td>would</td>\n",
       "      <td>31604</td>\n",
       "    </tr>\n",
       "    <tr>\n",
       "      <th>4</th>\n",
       "      <td>reuters</td>\n",
       "      <td>28976</td>\n",
       "    </tr>\n",
       "  </tbody>\n",
       "</table>\n",
       "</div>"
      ],
      "text/plain": [
       "     words  count\n",
       "0     said  99059\n",
       "1    trump  54693\n",
       "2        u  44569\n",
       "3    would  31604\n",
       "4  reuters  28976"
      ]
     },
     "execution_count": 30,
     "metadata": {},
     "output_type": "execute_result"
    }
   ],
   "source": [
    "count_mc_t = pd.DataFrame(counts_nsw_t.most_common(10),\n",
    "                             columns=['words', 'count'])\n",
    "count_mc_t.head()"
   ]
  },
  {
   "cell_type": "markdown",
   "metadata": {},
   "source": [
    "# Visualisation des données"
   ]
  },
  {
   "cell_type": "code",
   "execution_count": 31,
   "metadata": {},
   "outputs": [
    {
     "data": {
      "image/png": "[encoded data removed]",
      "text/plain": [
       "<Figure size 864x864 with 1 Axes>"
      ]
     },
     "metadata": {
      "needs_background": "light"
     },
     "output_type": "display_data"
    },
    {
     "data": {
      "text/plain": [
       "<Figure size 432x288 with 0 Axes>"
      ]
     },
     "metadata": {},
     "output_type": "display_data"
    }
   ],
   "source": [
    "##représentation graphique des effectifs des mots les  plus fréquents dans la base des fake news\n",
    "\n",
    "fig, ax = plt.subplots(figsize=(12, 12))\n",
    "\n",
    "# Plot horizontal bar graph\n",
    "count_mc_f.sort_values(by='count').plot.barh(x='words',\n",
    "                      y='count',\n",
    "                      ax=ax,\n",
    "                      color=\"purple\")\n",
    "\n",
    "ax.set_title(\"Les 10 mots les plus fréquents (sans les stopwords)\")\n",
    "\n",
    "plt.show()\n",
    "\n",
    "plt.savefig('fake_words.png')"
   ]
  },
  {
   "cell_type": "code",
   "execution_count": 32,
   "metadata": {},
   "outputs": [
    {
     "data": {
      "image/png": "[encoded data removed]",
      "text/plain": [
       "<Figure size 864x864 with 1 Axes>"
      ]
     },
     "metadata": {
      "needs_background": "light"
     },
     "output_type": "display_data"
    },
    {
     "data": {
      "text/plain": [
       "<Figure size 432x288 with 0 Axes>"
      ]
     },
     "metadata": {},
     "output_type": "display_data"
    }
   ],
   "source": [
    "##représentation graphique des effectifs des mots les  plus fréquents dans la base des true news\n",
    "\n",
    "fig, ax = plt.subplots(figsize=(12, 12))\n",
    "\n",
    "# Plot horizontal bar graph\n",
    "count_mc_t.sort_values(by='count').plot.barh(x='words',\n",
    "                      y='count',\n",
    "                      ax=ax,\n",
    "                      color=\"darkturquoise\")\n",
    "\n",
    "ax.set_title(\"Les 10 mots les plus fréquents (sans les stopwords)\")\n",
    "\n",
    "plt.show()\n",
    "plt.savefig('truee_words.png')"
   ]
  },
  {
   "cell_type": "markdown",
   "metadata": {},
   "source": [
    "# Préparation des données pour la classification "
   ]
  },
  {
   "cell_type": "code",
   "execution_count": 33,
   "metadata": {},
   "outputs": [],
   "source": [
    "#ajoutons à chaque base, la variable  Nature pour indiquer si l'info est vraie ou fausse\n",
    "\n",
    "fake['Nature'] = \"faux\"\n",
    "true['Nature'] = \"vrai\""
   ]
  },
  {
   "cell_type": "code",
   "execution_count": 34,
   "metadata": {},
   "outputs": [],
   "source": [
    "#fusionner les deux bases \n",
    "\n",
    "mabase = fake.append(true,ignore_index=True)"
   ]
  },
  {
   "cell_type": "code",
   "execution_count": 35,
   "metadata": {},
   "outputs": [],
   "source": [
    "##tokenization and lowercasing\n",
    "\n",
    "mabase['tokenized_text'] = mabase.apply(lambda row: tokenizer.tokenize((row['text']).lower()) , axis=1)"
   ]
  },
  {
   "cell_type": "code",
   "execution_count": 36,
   "metadata": {},
   "outputs": [],
   "source": [
    "##stopwords removing\n",
    "\n",
    "mabase['wst_text'] = mabase['tokenized_text'].apply(lambda x: [item for item in x if item not in stop_words])"
   ]
  },
  {
   "cell_type": "code",
   "execution_count": 37,
   "metadata": {},
   "outputs": [],
   "source": [
    "#importer la base pour la lemmatisation (stemming)\n",
    "\n",
    "from nltk.stem import PorterStemmer\n",
    "ps = PorterStemmer()"
   ]
  },
  {
   "cell_type": "code",
   "execution_count": 38,
   "metadata": {},
   "outputs": [],
   "source": [
    "##stemming\n",
    "\n",
    "mabase['stem_text'] = mabase['wst_text'].apply(lambda x: [ps.stem(y) for y in x])"
   ]
  },
  {
   "cell_type": "code",
   "execution_count": 39,
   "metadata": {},
   "outputs": [
    {
     "data": {
      "text/plain": [
       "['title',\n",
       " 'text',\n",
       " 'subject',\n",
       " 'date',\n",
       " 'Nature',\n",
       " 'tokenized_text',\n",
       " 'wst_text',\n",
       " 'stem_text']"
      ]
     },
     "execution_count": 39,
     "metadata": {},
     "output_type": "execute_result"
    }
   ],
   "source": [
    "list(mabase)"
   ]
  },
  {
   "cell_type": "code",
   "execution_count": 40,
   "metadata": {},
   "outputs": [
    {
     "data": {
      "text/plain": [
       "['donald',\n",
       " 'trump',\n",
       " 'wish',\n",
       " 'american',\n",
       " 'happi',\n",
       " 'new',\n",
       " 'year',\n",
       " 'leav',\n",
       " 'instead',\n",
       " 'give',\n",
       " 'shout',\n",
       " 'enemi',\n",
       " 'hater',\n",
       " 'dishonest',\n",
       " 'fake',\n",
       " 'news',\n",
       " 'media',\n",
       " 'former',\n",
       " 'realiti',\n",
       " 'show',\n",
       " 'star',\n",
       " 'one',\n",
       " 'job',\n",
       " 'countri',\n",
       " 'rapidli',\n",
       " 'grow',\n",
       " 'stronger',\n",
       " 'smarter',\n",
       " 'want',\n",
       " 'wish',\n",
       " 'friend',\n",
       " 'support',\n",
       " 'enemi',\n",
       " 'hater',\n",
       " 'even',\n",
       " 'dishonest',\n",
       " 'fake',\n",
       " 'news',\n",
       " 'media',\n",
       " 'happi',\n",
       " 'healthi',\n",
       " 'new',\n",
       " 'year',\n",
       " 'presid',\n",
       " 'angri',\n",
       " 'pant',\n",
       " 'tweet',\n",
       " '2018',\n",
       " 'great',\n",
       " 'year',\n",
       " 'america',\n",
       " 'countri',\n",
       " 'rapidli',\n",
       " 'grow',\n",
       " 'stronger',\n",
       " 'smarter',\n",
       " 'want',\n",
       " 'wish',\n",
       " 'friend',\n",
       " 'support',\n",
       " 'enemi',\n",
       " 'hater',\n",
       " 'even',\n",
       " 'dishonest',\n",
       " 'fake',\n",
       " 'news',\n",
       " 'media',\n",
       " 'happi',\n",
       " 'healthi',\n",
       " 'new',\n",
       " 'year',\n",
       " '2018',\n",
       " 'great',\n",
       " 'year',\n",
       " 'america',\n",
       " 'donald',\n",
       " 'j',\n",
       " 'trump',\n",
       " 'decemb',\n",
       " '31',\n",
       " '2017trump',\n",
       " 'tweet',\n",
       " 'went',\n",
       " 'welll',\n",
       " 'expect',\n",
       " 'kind',\n",
       " 'presid',\n",
       " 'send',\n",
       " 'new',\n",
       " 'year',\n",
       " 'greet',\n",
       " 'like',\n",
       " 'despic',\n",
       " 'petti',\n",
       " 'infantil',\n",
       " 'gibberish',\n",
       " 'trump',\n",
       " 'lack',\n",
       " 'decenc',\n",
       " 'even',\n",
       " 'allow',\n",
       " 'rise',\n",
       " 'gutter',\n",
       " 'long',\n",
       " 'enough',\n",
       " 'wish',\n",
       " 'american',\n",
       " 'citizen',\n",
       " 'happi',\n",
       " 'new',\n",
       " 'year',\n",
       " 'bishop',\n",
       " 'talbert',\n",
       " 'swan',\n",
       " 'decemb',\n",
       " '31',\n",
       " '2017no',\n",
       " 'one',\n",
       " 'like',\n",
       " 'calvin',\n",
       " 'decemb',\n",
       " '31',\n",
       " '2017your',\n",
       " 'impeach',\n",
       " 'would',\n",
       " 'make',\n",
       " '2018',\n",
       " 'great',\n",
       " 'year',\n",
       " 'america',\n",
       " 'also',\n",
       " 'accept',\n",
       " 'regain',\n",
       " 'control',\n",
       " 'congress',\n",
       " 'miranda',\n",
       " 'yaver',\n",
       " 'decemb',\n",
       " '31',\n",
       " '2017do',\n",
       " 'hear',\n",
       " 'talk',\n",
       " 'includ',\n",
       " 'mani',\n",
       " 'peopl',\n",
       " 'hate',\n",
       " 'wonder',\n",
       " 'hate',\n",
       " 'alan',\n",
       " 'sandov',\n",
       " 'decemb',\n",
       " '31',\n",
       " '2017who',\n",
       " 'use',\n",
       " 'word',\n",
       " 'hater',\n",
       " 'new',\n",
       " 'year',\n",
       " 'wish',\n",
       " 'marlen',\n",
       " 'decemb',\n",
       " '31',\n",
       " '2017you',\n",
       " 'say',\n",
       " 'happi',\n",
       " 'new',\n",
       " 'year',\n",
       " 'koren',\n",
       " 'pollitt',\n",
       " 'decemb',\n",
       " '31',\n",
       " '2017here',\n",
       " 'trump',\n",
       " 'new',\n",
       " 'year',\n",
       " 'eve',\n",
       " 'tweet',\n",
       " '2016',\n",
       " 'happi',\n",
       " 'new',\n",
       " 'year',\n",
       " 'includ',\n",
       " 'mani',\n",
       " 'enemi',\n",
       " 'fought',\n",
       " 'lost',\n",
       " 'badli',\n",
       " 'know',\n",
       " 'love',\n",
       " 'donald',\n",
       " 'j',\n",
       " 'trump',\n",
       " 'decemb',\n",
       " '31',\n",
       " '2016thi',\n",
       " 'noth',\n",
       " 'new',\n",
       " 'trump',\n",
       " 'year',\n",
       " 'trump',\n",
       " 'direct',\n",
       " 'messag',\n",
       " 'enemi',\n",
       " 'hater',\n",
       " 'new',\n",
       " 'year',\n",
       " 'easter',\n",
       " 'thanksgiv',\n",
       " 'anniversari',\n",
       " '9',\n",
       " '11',\n",
       " 'daniel',\n",
       " 'dale',\n",
       " 'decemb',\n",
       " '31',\n",
       " '2017trump',\n",
       " 'holiday',\n",
       " 'tweet',\n",
       " 'clearli',\n",
       " 'presidenti',\n",
       " 'long',\n",
       " 'work',\n",
       " 'hallmark',\n",
       " 'becom',\n",
       " 'presid',\n",
       " 'steven',\n",
       " 'goodin',\n",
       " 'decemb',\n",
       " '31',\n",
       " '2017he',\n",
       " 'alway',\n",
       " 'like',\n",
       " 'differ',\n",
       " 'last',\n",
       " 'year',\n",
       " 'filter',\n",
       " 'break',\n",
       " 'roy',\n",
       " 'schulz',\n",
       " 'decemb',\n",
       " '31',\n",
       " '2017who',\n",
       " 'apart',\n",
       " 'teenag',\n",
       " 'use',\n",
       " 'term',\n",
       " 'hater',\n",
       " 'wendi',\n",
       " 'decemb',\n",
       " '31',\n",
       " '2017he',\n",
       " 'fuck',\n",
       " '5',\n",
       " 'year',\n",
       " 'old',\n",
       " 'know',\n",
       " 'decemb',\n",
       " '31',\n",
       " '2017so',\n",
       " 'peopl',\n",
       " 'vote',\n",
       " 'hole',\n",
       " 'think',\n",
       " 'would',\n",
       " 'chang',\n",
       " 'got',\n",
       " 'power',\n",
       " 'wrong',\n",
       " '70',\n",
       " 'year',\n",
       " 'old',\n",
       " 'men',\n",
       " 'chang',\n",
       " 'year',\n",
       " 'older']"
      ]
     },
     "execution_count": 40,
     "metadata": {},
     "output_type": "execute_result"
    }
   ],
   "source": [
    "mabase.iloc[0,7]"
   ]
  },
  {
   "cell_type": "code",
   "execution_count": 41,
   "metadata": {},
   "outputs": [],
   "source": [
    "## lorsqu'on passe ensuite à la classification en utilisant directement cette colonne 'stem_text' une erreur est générée car \n",
    "## car 'stem_text' contient des listes. pour éviter cela nous ramenons les listes contenues dans cette colonne sous forme de \n",
    "## de texte. Pour cela nous créons une nouvelle variable qui va contenir le texte lemmatisé \n",
    "\n",
    "mabase['re_stem_text']=\"\""
   ]
  },
  {
   "cell_type": "code",
   "execution_count": 42,
   "metadata": {},
   "outputs": [],
   "source": [
    "for i in range (0,len(mabase)):\n",
    "    mabase.iloc[i,8] = \" \".join(mabase.iloc[i,7])"
   ]
  },
  {
   "cell_type": "code",
   "execution_count": 43,
   "metadata": {},
   "outputs": [
    {
     "data": {
      "text/plain": [
       "44898"
      ]
     },
     "execution_count": 43,
     "metadata": {},
     "output_type": "execute_result"
    }
   ],
   "source": [
    "x = mabase['re_stem_text']\n",
    "y = mabase.Nature\n",
    "len(y)"
   ]
  },
  {
   "cell_type": "markdown",
   "metadata": {},
   "source": [
    "# Les différentes méthodes de classification"
   ]
  },
  {
   "cell_type": "code",
   "execution_count": 44,
   "metadata": {},
   "outputs": [],
   "source": [
    "##construction d'une fonction de graphique pour les matrices de confusion\n",
    "import itertools\n",
    "\n",
    "def plot_confusion_matrix(cm, classes,\n",
    "                          normalize=False,\n",
    "                          title='Confusion matrix',\n",
    "                          cmap=plt.cm.Blues):\n",
    "   \n",
    "    plt.imshow(cm, interpolation='nearest', cmap=cmap)\n",
    "    plt.title(title)\n",
    "    plt.colorbar()\n",
    "    tick_marks = np.arange(len(classes))\n",
    "    plt.xticks(tick_marks, classes, rotation=45)\n",
    "    plt.yticks(tick_marks, classes)\n",
    "\n",
    "    if normalize:\n",
    "        cm = cm.astype('float') / cm.sum(axis=1)[:, np.newaxis]\n",
    "        print(\"Normalized confusion matrix\")\n",
    "    else:\n",
    "        print('Confusion matrix, without normalization')\n",
    "\n",
    "    thresh = cm.max() / 2.\n",
    "    for i, j in itertools.product(range(cm.shape[0]), range(cm.shape[1])):\n",
    "        plt.text(j, i, cm[i, j],\n",
    "                 horizontalalignment=\"center\",verticalalignment = 'bottom',\n",
    "                 color=\"white\" if cm[i, j] > thresh else \"black\")\n",
    "\n",
    "    plt.tight_layout()\n",
    "    plt.ylabel('True label')\n",
    "    plt.xlabel('Predicted label')"
   ]
  },
  {
   "cell_type": "code",
   "execution_count": 45,
   "metadata": {},
   "outputs": [],
   "source": [
    "##importation des differents packages nécessaires\n",
    "\n",
    "from sklearn.model_selection import cross_val_score\n",
    "from sklearn.metrics import accuracy_score, confusion_matrix\n",
    "from sklearn.feature_extraction.text import TfidfVectorizer\n",
    "from sklearn.pipeline import Pipeline\n",
    "from sklearn.naive_bayes import MultinomialNB"
   ]
  },
  {
   "cell_type": "code",
   "execution_count": 46,
   "metadata": {},
   "outputs": [],
   "source": [
    "##méthode de Multinomial Naive Bayesian. Pipeline va permettre de réalisation la tranformartion des données avec tfidf et\n",
    "##de d'apprêter la methode de classification\n",
    "\n",
    "clf_mlb = Pipeline([('vect', TfidfVectorizer(stop_words='english',lowercase=True,ngram_range=(1,1))), ('mlb',MultinomialNB())])"
   ]
  },
  {
   "cell_type": "code",
   "execution_count": 47,
   "metadata": {},
   "outputs": [],
   "source": [
    "from sklearn.linear_model import PassiveAggressiveClassifier\n",
    "from sklearn import tree\n",
    "from sklearn.linear_model import LogisticRegression"
   ]
  },
  {
   "cell_type": "code",
   "execution_count": 63,
   "metadata": {},
   "outputs": [
    {
     "name": "stdout",
     "output_type": "stream",
     "text": [
      "[0.99331997 0.98841871 0.99175947 0.99153675 0.98129176 0.99465479\n",
      " 0.99487751 0.9966585  0.99710403 0.98061929]\n",
      "Accuracy: 0.99 (+/- 0.01)\n",
      "Confusion matrix, without normalization\n"
     ]
    },
    {
     "data": {
      "image/png": "[encoded data removed]",
      "text/plain": [
       "<Figure size 432x288 with 2 Axes>"
      ]
     },
     "metadata": {
      "needs_background": "light"
     },
     "output_type": "display_data"
    }
   ],
   "source": [
    "#### méthode de decision tree\n",
    "\n",
    "clf_dt = Pipeline([('vect', TfidfVectorizer(stop_words='english',lowercase=True,ngram_range=(1,1))), ('dt',tree.DecisionTreeClassifier())]) \n",
    "score_dt = cross_val_score(clf_dt,x,y,cv=10,scoring='accuracy')\n",
    "print(score_dt)\n",
    "print(\"Accuracy: %0.2f (+/- %0.2f)\" % (score_dt.mean(), score_dt.std() * 2))\n",
    "y_pred = cross_val_predict(clf_dt,x , y, cv=10)\n",
    "conf_mat = confusion_matrix(y, y_pred,labels=['faux', 'vrai'])\n",
    "plot_confusion_matrix(conf_mat, classes=['faux', 'vrai']) ##dans la fonction de création du graphique pour la matrice de confuision\n",
    "##mettre cmap=plt.cm.Purples et color=\"white\"\n",
    "plt.savefig('dt_mat.png')"
   ]
  },
  {
   "cell_type": "code",
   "execution_count": 66,
   "metadata": {},
   "outputs": [
    {
     "name": "stderr",
     "output_type": "stream",
     "text": [
      "C:\\Users\\manar\\AppData\\Local\\Continuum\\anaconda3\\lib\\site-packages\\sklearn\\linear_model\\logistic.py:432: FutureWarning: Default solver will be changed to 'lbfgs' in 0.22. Specify a solver to silence this warning.\n",
      "  FutureWarning)\n"
     ]
    },
    {
     "name": "stdout",
     "output_type": "stream",
     "text": [
      "[0.98574928 0.98262806 0.98552339 0.96993318 0.95701559 0.9830735\n",
      " 0.97861915 0.97816886 0.98730229 0.96925819]\n",
      "Accuracy: 0.98 (+/- 0.02)\n"
     ]
    },
    {
     "name": "stderr",
     "output_type": "stream",
     "text": [
      "C:\\Users\\manar\\AppData\\Local\\Continuum\\anaconda3\\lib\\site-packages\\sklearn\\linear_model\\logistic.py:432: FutureWarning: Default solver will be changed to 'lbfgs' in 0.22. Specify a solver to silence this warning.\n",
      "  FutureWarning)\n"
     ]
    },
    {
     "name": "stdout",
     "output_type": "stream",
     "text": [
      "Confusion matrix, without normalization\n"
     ]
    },
    {
     "data": {
      "image/png": "[encoded data removed]",
      "text/plain": [
       "<Figure size 432x288 with 2 Axes>"
      ]
     },
     "metadata": {
      "needs_background": "light"
     },
     "output_type": "display_data"
    }
   ],
   "source": [
    "#### regression logistic\n",
    "\n",
    "clf_lr = Pipeline([('vect', TfidfVectorizer(stop_words='english',lowercase=True,ngram_range=(1,1))), ('lr',LogisticRegression())]) \n",
    "score_lr = cross_val_score(clf_lr,x,y,cv=10,scoring='accuracy')\n",
    "print(score_lr)\n",
    "print(\"Accuracy: %0.2f (+/- %0.2f)\" % (score_lr.mean(), score_lr.std() * 2))\n",
    "y_pred = cross_val_predict(clf_lr,x , y, cv=10)\n",
    "conf_mat = confusion_matrix(y, y_pred,labels=['faux', 'vrai'])\n",
    "plot_confusion_matrix(conf_mat, classes=['faux', 'vrai'])  ##dans la fonction de création du graphique pour la matrice de confuision\n",
    "##mettre cmap=plt.cm.Greys et color=\"white\"\n",
    "plt.savefig('lr_mat.png')"
   ]
  },
  {
   "cell_type": "code",
   "execution_count": 68,
   "metadata": {},
   "outputs": [
    {
     "name": "stdout",
     "output_type": "stream",
     "text": [
      "[0.9904253  0.98864143 0.9908686  0.98240535 0.97728285 0.99175947\n",
      " 0.99109131 0.993317   0.9973268  0.98351526]\n",
      "Confusion matrix, without normalization\n"
     ]
    },
    {
     "data": {
      "image/png": "[encoded data removed]",
      "text/plain": [
       "<Figure size 432x288 with 2 Axes>"
      ]
     },
     "metadata": {
      "needs_background": "light"
     },
     "output_type": "display_data"
    }
   ],
   "source": [
    "#### méthode de PassiveAggrssiveClassifier\n",
    "\n",
    "\n",
    "clf_pac = Pipeline([('vect', TfidfVectorizer(stop_words='english',lowercase=True,ngram_range=(1,1))), ('pac',PassiveAggressiveClassifier())]) \n",
    "score_pac = cross_val_score(clf_pac,x,y,cv=10,scoring='accuracy')\n",
    "print(score_pac)\n",
    "y_pred = cross_val_predict(clf_pac,x, y, cv=10)\n",
    "conf_mat = confusion_matrix(y, y_pred,labels=['faux', 'vrai'])\n",
    "plot_confusion_matrix(conf_mat, classes=['faux', 'vrai'])##dans la fonction de création du graphique pour la matrice de confuision\n",
    "##mettre cmap=plt.cm.Blues et color=\"white\"\n",
    "plt.savefig('pac_mat.png')"
   ]
  },
  {
   "cell_type": "code",
   "execution_count": 69,
   "metadata": {},
   "outputs": [
    {
     "name": "stdout",
     "output_type": "stream",
     "text": [
      "Accuracy: 0.99 (+/- 0.01)\n"
     ]
    }
   ],
   "source": [
    "print(\"Accuracy: %0.2f (+/- %0.2f)\" % (score_pac.mean(), score_pac.std() * 2))"
   ]
  },
  {
   "cell_type": "markdown",
   "metadata": {},
   "source": [
    "# Pour aller plus loin, méthode LDA pour la recheche des sujets les plus fréquents"
   ]
  },
  {
   "cell_type": "code",
   "execution_count": null,
   "metadata": {},
   "outputs": [],
   "source": [
    "tfidf_vectorizer = TfidfVectorizer(max_df=0.8, min_df=2,\n",
    "                                   max_features=1000)\n",
    "tfidf = tfidf_vectorizer.fit_transform(mabase['re_stem_text'])"
   ]
  },
  {
   "cell_type": "code",
   "execution_count": 89,
   "metadata": {},
   "outputs": [],
   "source": [
    "from sklearn.decomposition import NMF, LatentDirichletAllocation"
   ]
  },
  {
   "cell_type": "code",
   "execution_count": 90,
   "metadata": {},
   "outputs": [],
   "source": [
    "## ici on essaie de mettre en oeuvre la méthode LDA pour la détection de thématiques, afin d'aller au delà de l'objectif de \n",
    "## classification et pour mieux comprendre la base de données dont nous disposons. Il faudra réexcuter cette section pour voir\n",
    "## le graohique interactif \n",
    "\n",
    "lda = LatentDirichletAllocation(n_components=10, max_iter=5,\n",
    "                                learning_method='online',\n",
    "                                learning_offset=50.,\n",
    "                                random_state=0)"
   ]
  },
  {
   "cell_type": "code",
   "execution_count": 91,
   "metadata": {},
   "outputs": [
    {
     "data": {
      "text/plain": [
       "['attorney', 'august', 'author']"
      ]
     },
     "execution_count": 91,
     "metadata": {},
     "output_type": "execute_result"
    }
   ],
   "source": [
    "tf_feature_names = tfidf_vectorizer.get_feature_names()\n",
    "tf_feature_names[100:103]"
   ]
  },
  {
   "cell_type": "code",
   "execution_count": 92,
   "metadata": {},
   "outputs": [],
   "source": [
    "def print_top_words(model, feature_names, n_top_words):\n",
    "    for topic_idx, topic in enumerate(model.components_):\n",
    "        print(\"Topic #%d:\" % topic_idx)\n",
    "        print(\" \".join([feature_names[i]\n",
    "                        for i in topic.argsort()[- n_top_words - 1:][::-1]]))\n",
    "    print()"
   ]
  },
  {
   "cell_type": "code",
   "execution_count": 93,
   "metadata": {},
   "outputs": [
    {
     "name": "stdout",
     "output_type": "stream",
     "text": [
      "Topic #0:\n",
      "parti elect vote trump republican said democrat poll clinton percent voter\n",
      "Topic #1:\n",
      "gun cruz ted shoot control weapon mass check amend texa violenc\n",
      "Topic #2:\n",
      "decemb 2016 14 moscow octob beij flynn 13 12 intern paul\n",
      "Topic #3:\n",
      "trump russian clinton russia investig said intellig fbi email elect presid\n",
      "Topic #4:\n",
      "turkey johnson flynn diplomat michael kid financi myanmar syrian billion iraqi\n",
      "Topic #5:\n",
      "said tax trump senat republican would bill hous state myanmar govern\n",
      "Topic #6:\n",
      "billion global financ economi transit econom financi britain 25 diplomat milit\n",
      "Topic #7:\n",
      "said polic kill peopl year attack reuter arrest citi govern group\n",
      "Topic #8:\n",
      "said korea minist china state north reuter iran unit eu presid\n",
      "Topic #9:\n",
      "trump peopl presid like obama hillari one say go donald said\n",
      "\n"
     ]
    }
   ],
   "source": [
    "##thématiques les plus fréquentes\n",
    "\n",
    "lda.fit(tfidf)\n",
    "print_top_words(lda, tf_feature_names, 10)"
   ]
  },
  {
   "cell_type": "code",
   "execution_count": 94,
   "metadata": {},
   "outputs": [
    {
     "data": {
      "text/plain": [
       "array([[0.01509789, 0.01509559, 0.11844733, 0.0150973 , 0.01509383,\n",
       "        0.01509793, 0.01509384, 0.01509732, 0.01509702, 0.76078195],\n",
       "       [0.01044893, 0.01044605, 0.01044661, 0.90597233, 0.01044605,\n",
       "        0.01044855, 0.01044605, 0.01044823, 0.01044833, 0.01044887],\n",
       "       [0.01486256, 0.01485895, 0.10316009, 0.01486759, 0.01485895,\n",
       "        0.01486305, 0.01485895, 0.01486741, 0.01486194, 0.77794051],\n",
       "       [0.01215831, 0.01215542, 0.07623945, 0.01215984, 0.01215542,\n",
       "        0.01215853, 0.01215542, 0.01215839, 0.01215813, 0.82650109],\n",
       "       [0.01071555, 0.01071288, 0.01071288, 0.0107151 , 0.01071288,\n",
       "        0.01071602, 0.01071288, 0.36974379, 0.01071891, 0.54453911]])"
      ]
     },
     "execution_count": 94,
     "metadata": {},
     "output_type": "execute_result"
    }
   ],
   "source": [
    "tr = lda.transform(tfidf)\n",
    "tr[:5]"
   ]
  },
  {
   "cell_type": "code",
   "execution_count": 95,
   "metadata": {},
   "outputs": [
    {
     "name": "stdout",
     "output_type": "stream",
     "text": [
      "Requirement already satisfied: pyLDAvis in c:\\users\\manar\\appdata\\local\\continuum\\anaconda3\\lib\\site-packages (2.1.2)\n",
      "Requirement already satisfied: scipy>=0.18.0 in c:\\users\\manar\\appdata\\local\\continuum\\anaconda3\\lib\\site-packages (from pyLDAvis) (1.2.1)\n",
      "Requirement already satisfied: future in c:\\users\\manar\\appdata\\local\\continuum\\anaconda3\\lib\\site-packages (from pyLDAvis) (0.17.1)\n",
      "Requirement already satisfied: wheel>=0.23.0 in c:\\users\\manar\\appdata\\local\\continuum\\anaconda3\\lib\\site-packages (from pyLDAvis) (0.33.4)\n",
      "Requirement already satisfied: numexpr in c:\\users\\manar\\appdata\\local\\continuum\\anaconda3\\lib\\site-packages (from pyLDAvis) (2.6.9)\n",
      "Requirement already satisfied: jinja2>=2.7.2 in c:\\users\\manar\\appdata\\local\\continuum\\anaconda3\\lib\\site-packages (from pyLDAvis) (2.10.1)\n",
      "Requirement already satisfied: funcy in c:\\users\\manar\\appdata\\local\\continuum\\anaconda3\\lib\\site-packages (from pyLDAvis) (1.14)\n",
      "Requirement already satisfied: joblib>=0.8.4 in c:\\users\\manar\\appdata\\local\\continuum\\anaconda3\\lib\\site-packages (from pyLDAvis) (0.13.2)\n",
      "Requirement already satisfied: pandas>=0.17.0 in c:\\users\\manar\\appdata\\local\\continuum\\anaconda3\\lib\\site-packages (from pyLDAvis) (0.24.2)\n",
      "Requirement already satisfied: numpy>=1.9.2 in c:\\users\\manar\\appdata\\local\\continuum\\anaconda3\\lib\\site-packages (from pyLDAvis) (1.16.4)\n",
      "Requirement already satisfied: pytest in c:\\users\\manar\\appdata\\local\\continuum\\anaconda3\\lib\\site-packages (from pyLDAvis) (5.0.1)\n",
      "Requirement already satisfied: MarkupSafe>=0.23 in c:\\users\\manar\\appdata\\local\\continuum\\anaconda3\\lib\\site-packages (from jinja2>=2.7.2->pyLDAvis) (1.1.1)\n",
      "Requirement already satisfied: pytz>=2011k in c:\\users\\manar\\appdata\\local\\continuum\\anaconda3\\lib\\site-packages (from pandas>=0.17.0->pyLDAvis) (2019.1)\n",
      "Requirement already satisfied: python-dateutil>=2.5.0 in c:\\users\\manar\\appdata\\local\\continuum\\anaconda3\\lib\\site-packages (from pandas>=0.17.0->pyLDAvis) (2.8.0)\n",
      "Requirement already satisfied: py>=1.5.0 in c:\\users\\manar\\appdata\\local\\continuum\\anaconda3\\lib\\site-packages (from pytest->pyLDAvis) (1.8.0)\n",
      "Requirement already satisfied: packaging in c:\\users\\manar\\appdata\\local\\continuum\\anaconda3\\lib\\site-packages (from pytest->pyLDAvis) (19.0)\n",
      "Requirement already satisfied: attrs>=17.4.0 in c:\\users\\manar\\appdata\\local\\continuum\\anaconda3\\lib\\site-packages (from pytest->pyLDAvis) (19.3.0)\n",
      "Requirement already satisfied: more-itertools>=4.0.0 in c:\\users\\manar\\appdata\\local\\continuum\\anaconda3\\lib\\site-packages (from pytest->pyLDAvis) (7.0.0)\n",
      "Requirement already satisfied: atomicwrites>=1.0 in c:\\users\\manar\\appdata\\local\\continuum\\anaconda3\\lib\\site-packages (from pytest->pyLDAvis) (1.3.0)\n",
      "Requirement already satisfied: pluggy<1.0,>=0.12 in c:\\users\\manar\\appdata\\local\\continuum\\anaconda3\\lib\\site-packages (from pytest->pyLDAvis) (0.12.0)\n",
      "Requirement already satisfied: importlib-metadata>=0.12 in c:\\users\\manar\\appdata\\local\\continuum\\anaconda3\\lib\\site-packages (from pytest->pyLDAvis) (0.17)\n",
      "Requirement already satisfied: wcwidth in c:\\users\\manar\\appdata\\local\\continuum\\anaconda3\\lib\\site-packages (from pytest->pyLDAvis) (0.1.7)\n",
      "Requirement already satisfied: colorama in c:\\users\\manar\\appdata\\local\\continuum\\anaconda3\\lib\\site-packages (from pytest->pyLDAvis) (0.4.1)\n",
      "Requirement already satisfied: six>=1.5 in c:\\users\\manar\\appdata\\local\\continuum\\anaconda3\\lib\\site-packages (from python-dateutil>=2.5.0->pandas>=0.17.0->pyLDAvis) (1.12.0)\n",
      "Requirement already satisfied: pyparsing>=2.0.2 in c:\\users\\manar\\appdata\\local\\continuum\\anaconda3\\lib\\site-packages (from packaging->pytest->pyLDAvis) (2.4.0)\n",
      "Requirement already satisfied: zipp>=0.5 in c:\\users\\manar\\appdata\\local\\continuum\\anaconda3\\lib\\site-packages (from importlib-metadata>=0.12->pytest->pyLDAvis) (0.5.1)\n",
      "Note: you may need to restart the kernel to use updated packages.\n"
     ]
    }
   ],
   "source": [
    "pip install pyLDAvis"
   ]
  },
  {
   "cell_type": "code",
   "execution_count": 96,
   "metadata": {},
   "outputs": [],
   "source": [
    "import pyLDAvis.sklearn\n",
    "pyLDAvis.enable_notebook()"
   ]
  },
  {
   "cell_type": "code",
   "execution_count": 97,
   "metadata": {},
   "outputs": [
    {
     "name": "stderr",
     "output_type": "stream",
     "text": [
      "C:\\Users\\manar\\AppData\\Local\\Continuum\\anaconda3\\lib\\site-packages\\pyLDAvis\\_prepare.py:257: FutureWarning: Sorting because non-concatenation axis is not aligned. A future version\n",
      "of pandas will change to not sort by default.\n",
      "\n",
      "To accept the future behavior, pass 'sort=False'.\n",
      "\n",
      "To retain the current behavior and silence the warning, pass 'sort=True'.\n",
      "\n",
      "  return pd.concat([default_term_info] + list(topic_dfs))\n"
     ]
    },
    {
     "data": {
      "text/html": [
       "\n",
       "<link rel=\"stylesheet\" type=\"text/css\" href=\"https://cdn.rawgit.com/bmabey/pyLDAvis/files/ldavis.v1.0.0.css\">\n",
       "\n",
       "\n",
       "<div id=\"ldavis_el1582021573090732327794906018\"></div>\n",
       "<script type=\"text/javascript\">\n",
       "\n",
       "var ldavis_el1582021573090732327794906018_data = {\"mdsDat\": {\"x\": [-0.07297799542077098, -0.08231531480180786, -0.08239269128980019, -0.07617480923736433, -0.0933769042231051, -0.08212928553591457, 0.3038811650540828, 0.2631088717374641, -0.039521033393142266, -0.038102002889641294], \"y\": [-0.004790171717339034, -0.004251643332076413, 0.0017087575846104102, -0.011036214871607308, 0.0005032320921899616, -0.008268286397545921, -0.2648813232414967, 0.29728605152288234, -0.0024027192596280207, -0.0038676823799892873], \"topics\": [1, 2, 3, 4, 5, 6, 7, 8, 9, 10], \"cluster\": [1, 1, 1, 1, 1, 1, 1, 1, 1, 1], \"Freq\": [28.113155985751042, 17.006739447006016, 14.827332332452597, 13.416746291808012, 11.124753368502184, 10.427180549827822, 1.4005985565528687, 1.2732792653557967, 1.217712943649972, 1.1925012590936848]}, \"tinfo\": {\"Category\": [\"Default\", \"Default\", \"Default\", \"Default\", \"Default\", \"Default\", \"Default\", \"Default\", \"Default\", \"Default\", \"Default\", \"Default\", \"Default\", \"Default\", \"Default\", \"Default\", \"Default\", \"Default\", \"Default\", \"Default\", \"Default\", \"Default\", \"Default\", \"Default\", \"Default\", \"Default\", \"Default\", \"Default\", \"Default\", \"Default\", \"Topic1\", \"Topic1\", \"Topic1\", \"Topic1\", \"Topic1\", \"Topic1\", \"Topic1\", \"Topic1\", \"Topic1\", \"Topic1\", \"Topic1\", \"Topic1\", \"Topic1\", \"Topic1\", \"Topic1\", \"Topic1\", \"Topic1\", \"Topic1\", \"Topic1\", \"Topic1\", \"Topic1\", \"Topic1\", \"Topic1\", \"Topic1\", \"Topic1\", \"Topic1\", \"Topic1\", \"Topic1\", \"Topic1\", \"Topic1\", \"Topic1\", \"Topic1\", \"Topic1\", \"Topic1\", \"Topic1\", \"Topic1\", \"Topic1\", \"Topic1\", \"Topic1\", \"Topic1\", \"Topic1\", \"Topic1\", \"Topic1\", \"Topic1\", \"Topic1\", \"Topic1\", \"Topic1\", \"Topic1\", \"Topic1\", \"Topic1\", \"Topic1\", \"Topic1\", \"Topic1\", \"Topic1\", \"Topic1\", \"Topic1\", \"Topic1\", \"Topic1\", \"Topic1\", \"Topic2\", \"Topic2\", \"Topic2\", \"Topic2\", \"Topic2\", \"Topic2\", \"Topic2\", \"Topic2\", \"Topic2\", \"Topic2\", \"Topic2\", \"Topic2\", \"Topic2\", \"Topic2\", \"Topic2\", \"Topic2\", \"Topic2\", \"Topic2\", \"Topic2\", \"Topic2\", \"Topic2\", \"Topic2\", \"Topic2\", \"Topic2\", \"Topic2\", \"Topic2\", \"Topic2\", \"Topic2\", \"Topic2\", \"Topic2\", \"Topic2\", \"Topic2\", \"Topic2\", \"Topic2\", \"Topic2\", \"Topic2\", \"Topic2\", \"Topic2\", \"Topic2\", \"Topic2\", \"Topic2\", \"Topic2\", \"Topic2\", \"Topic2\", \"Topic2\", \"Topic2\", \"Topic2\", \"Topic2\", \"Topic2\", \"Topic2\", \"Topic2\", \"Topic2\", \"Topic3\", \"Topic3\", \"Topic3\", \"Topic3\", \"Topic3\", \"Topic3\", \"Topic3\", \"Topic3\", \"Topic3\", \"Topic3\", \"Topic3\", \"Topic3\", \"Topic3\", \"Topic3\", \"Topic3\", \"Topic3\", \"Topic3\", \"Topic3\", \"Topic3\", \"Topic3\", \"Topic3\", \"Topic3\", \"Topic3\", \"Topic3\", \"Topic3\", \"Topic3\", \"Topic3\", \"Topic3\", \"Topic3\", \"Topic3\", \"Topic3\", \"Topic3\", \"Topic3\", \"Topic3\", \"Topic3\", \"Topic3\", \"Topic3\", \"Topic3\", \"Topic3\", \"Topic3\", \"Topic3\", \"Topic3\", \"Topic3\", \"Topic3\", \"Topic3\", \"Topic3\", \"Topic4\", \"Topic4\", \"Topic4\", \"Topic4\", \"Topic4\", \"Topic4\", \"Topic4\", \"Topic4\", \"Topic4\", \"Topic4\", \"Topic4\", \"Topic4\", \"Topic4\", \"Topic4\", \"Topic4\", \"Topic4\", \"Topic4\", \"Topic4\", \"Topic4\", \"Topic4\", \"Topic4\", \"Topic4\", \"Topic4\", \"Topic4\", \"Topic4\", \"Topic4\", \"Topic4\", \"Topic4\", \"Topic4\", \"Topic4\", \"Topic4\", \"Topic4\", \"Topic4\", \"Topic4\", \"Topic4\", \"Topic4\", \"Topic4\", \"Topic4\", \"Topic4\", \"Topic4\", \"Topic4\", \"Topic4\", \"Topic4\", \"Topic4\", \"Topic4\", \"Topic4\", \"Topic4\", \"Topic4\", \"Topic4\", \"Topic4\", \"Topic4\", \"Topic4\", \"Topic4\", \"Topic5\", \"Topic5\", \"Topic5\", \"Topic5\", \"Topic5\", \"Topic5\", \"Topic5\", \"Topic5\", \"Topic5\", \"Topic5\", \"Topic5\", \"Topic5\", \"Topic5\", \"Topic5\", \"Topic5\", \"Topic5\", \"Topic5\", \"Topic5\", \"Topic5\", \"Topic5\", \"Topic5\", \"Topic5\", \"Topic5\", \"Topic5\", \"Topic5\", \"Topic5\", \"Topic5\", \"Topic5\", \"Topic5\", \"Topic5\", \"Topic5\", \"Topic5\", \"Topic5\", \"Topic5\", \"Topic5\", \"Topic5\", \"Topic5\", \"Topic5\", \"Topic5\", \"Topic5\", \"Topic5\", \"Topic5\", \"Topic5\", \"Topic5\", \"Topic5\", \"Topic5\", \"Topic5\", \"Topic5\", \"Topic5\", \"Topic6\", \"Topic6\", \"Topic6\", \"Topic6\", \"Topic6\", \"Topic6\", \"Topic6\", \"Topic6\", \"Topic6\", \"Topic6\", \"Topic6\", \"Topic6\", \"Topic6\", \"Topic6\", \"Topic6\", \"Topic6\", \"Topic6\", \"Topic6\", \"Topic6\", \"Topic6\", \"Topic6\", \"Topic6\", \"Topic6\", \"Topic6\", \"Topic6\", \"Topic6\", \"Topic6\", \"Topic6\", \"Topic6\", \"Topic6\", \"Topic6\", \"Topic6\", \"Topic6\", \"Topic6\", \"Topic6\", \"Topic6\", \"Topic6\", \"Topic6\", \"Topic6\", \"Topic6\", \"Topic6\", \"Topic6\", \"Topic6\", \"Topic6\", \"Topic6\", \"Topic6\", \"Topic6\", \"Topic6\", \"Topic6\", \"Topic7\", \"Topic7\", \"Topic7\", \"Topic7\", \"Topic7\", \"Topic7\", \"Topic7\", \"Topic7\", \"Topic7\", \"Topic7\", \"Topic7\", \"Topic7\", \"Topic7\", \"Topic7\", \"Topic7\", \"Topic7\", \"Topic7\", \"Topic7\", \"Topic7\", \"Topic7\", \"Topic7\", \"Topic7\", \"Topic7\", \"Topic7\", \"Topic7\", \"Topic7\", \"Topic7\", \"Topic7\", \"Topic7\", \"Topic7\", \"Topic7\", \"Topic7\", \"Topic7\", \"Topic7\", \"Topic7\", \"Topic7\", \"Topic7\", \"Topic7\", \"Topic7\", \"Topic7\", \"Topic7\", \"Topic7\", \"Topic7\", \"Topic7\", \"Topic7\", \"Topic7\", \"Topic7\", \"Topic8\", \"Topic8\", \"Topic8\", \"Topic8\", \"Topic8\", \"Topic8\", \"Topic8\", \"Topic8\", \"Topic8\", \"Topic8\", \"Topic8\", \"Topic8\", \"Topic8\", \"Topic8\", \"Topic8\", \"Topic8\", \"Topic8\", \"Topic8\", \"Topic8\", \"Topic8\", \"Topic8\", \"Topic8\", \"Topic8\", \"Topic8\", \"Topic8\", \"Topic8\", \"Topic8\", \"Topic8\", \"Topic8\", \"Topic8\", \"Topic8\", \"Topic8\", \"Topic8\", \"Topic8\", \"Topic8\", \"Topic8\", \"Topic8\", \"Topic8\", \"Topic8\", \"Topic8\", \"Topic8\", \"Topic8\", \"Topic8\", \"Topic8\", \"Topic8\", \"Topic8\", \"Topic8\", \"Topic8\", \"Topic8\", \"Topic8\", \"Topic8\", \"Topic8\", \"Topic8\", \"Topic8\", \"Topic8\", \"Topic8\", \"Topic8\", \"Topic8\", \"Topic9\", \"Topic9\", \"Topic9\", \"Topic9\", \"Topic9\", \"Topic9\", \"Topic9\", \"Topic9\", \"Topic9\", \"Topic9\", \"Topic9\", \"Topic9\", \"Topic9\", \"Topic9\", \"Topic9\", \"Topic9\", \"Topic9\", \"Topic9\", \"Topic9\", \"Topic9\", \"Topic9\", \"Topic9\", \"Topic9\", \"Topic9\", \"Topic9\", \"Topic9\", \"Topic9\", \"Topic9\", \"Topic9\", \"Topic9\", \"Topic9\", \"Topic9\", \"Topic9\", \"Topic9\", \"Topic9\", \"Topic9\", \"Topic9\", \"Topic9\", \"Topic9\", \"Topic9\", \"Topic9\", \"Topic9\", \"Topic9\", \"Topic9\", \"Topic9\", \"Topic9\", \"Topic9\", \"Topic9\", \"Topic9\", \"Topic9\", \"Topic9\", \"Topic9\", \"Topic9\", \"Topic9\", \"Topic9\", \"Topic9\", \"Topic9\", \"Topic10\", \"Topic10\", \"Topic10\", \"Topic10\", \"Topic10\", \"Topic10\", \"Topic10\", \"Topic10\", \"Topic10\", \"Topic10\", \"Topic10\", \"Topic10\", \"Topic10\", \"Topic10\", \"Topic10\", \"Topic10\", \"Topic10\", \"Topic10\", \"Topic10\", \"Topic10\", \"Topic10\", \"Topic10\", \"Topic10\", \"Topic10\", \"Topic10\", \"Topic10\", \"Topic10\", \"Topic10\", \"Topic10\", \"Topic10\", \"Topic10\", \"Topic10\", \"Topic10\", \"Topic10\", \"Topic10\", \"Topic10\", \"Topic10\", \"Topic10\", \"Topic10\", \"Topic10\", \"Topic10\", \"Topic10\", \"Topic10\", \"Topic10\", \"Topic10\", \"Topic10\", \"Topic10\", \"Topic10\", \"Topic10\", \"Topic10\", \"Topic10\", \"Topic10\", \"Topic10\", \"Topic10\", \"Topic10\", \"Topic10\", \"Topic10\", \"Topic10\", \"Topic10\"], \"Freq\": [2402.0, 1374.0, 1309.0, 1232.0, 1070.0, 722.0, 504.0, 396.0, 468.0, 316.0, 381.0, 1151.0, 717.0, 634.0, 240.0, 268.0, 231.0, 652.0, 1150.0, 1039.0, 334.0, 236.0, 3336.0, 211.0, 450.0, 899.0, 1195.0, 626.0, 491.0, 418.0, 227.03933336665543, 242.72202180352974, 229.9248830357114, 184.35547354891762, 142.32926174399975, 392.3353127350997, 134.04239733916089, 156.76290704862444, 382.30042857038495, 266.51224948942297, 152.26610599395048, 210.29776129000285, 231.76154430921528, 134.20730447507725, 407.4845499894598, 323.2410249755495, 317.1702277930369, 101.61616473847053, 252.7997498788079, 206.10410400013419, 195.06438982401198, 387.72059636908244, 155.92671863640578, 274.73060994047944, 126.96238207336832, 121.46560656013195, 141.29317641821376, 177.7041403258953, 360.30965312870035, 110.35231951116597, 192.02923481355873, 223.5344556602981, 227.15704994142456, 479.35351584237907, 226.90723778511725, 1687.812753918427, 507.1769343313199, 364.8004513280905, 403.3694862318248, 424.94155877611496, 259.9518913633598, 567.7555490983948, 417.73127353718667, 326.4915828412495, 489.79385331145664, 457.4645800759655, 424.23399921090805, 400.838978939349, 428.1671683876972, 337.9258478141531, 349.1836127589171, 531.3498158529125, 360.76122147429953, 415.36492608928086, 362.59621762695036, 350.807643981035, 307.06504373537484, 419.3693180254593, 324.07100814276055, 322.5566357936088, 166.09759235181696, 121.93357825364536, 154.32755401086342, 468.2154403752718, 149.9434002417302, 224.11959837772287, 151.41668127564978, 167.02009961823185, 265.2269103483457, 263.96307554765207, 124.74085566641695, 149.25518111304194, 144.7717671409747, 103.31267621377359, 202.3473963291455, 178.03140994164326, 119.44308698454797, 255.60960332001352, 91.42326200411304, 374.6173247024928, 113.48033245785507, 177.4604553971039, 176.57106652397275, 138.4805687787603, 153.8402425685871, 169.92082919546738, 261.39897963717806, 131.01819532154622, 115.818732883396, 239.63718882096646, 229.73194979010043, 387.81605287655594, 270.1299833796453, 365.69415753984447, 235.09754585495727, 383.6505260132809, 378.56820032639484, 597.6600818506076, 244.43357328943688, 344.60129446115224, 235.21767933006137, 225.18360225299602, 424.550260527796, 222.12904058623988, 273.7382102337134, 260.51655131992175, 227.73207800125917, 257.7237601829046, 266.5548021604181, 226.53138511044168, 224.1156957194692, 427.60698860960224, 224.425039840106, 163.03388580155098, 333.75578467490686, 183.31924768483645, 260.8095995409105, 150.7902505509324, 152.92862848272193, 230.6405840675701, 345.75121167149206, 296.18311984815983, 203.66238855949894, 408.5265554154271, 245.67950648899995, 155.27354496318935, 217.99927593807, 128.25854572780085, 153.58501063778672, 256.9958877951344, 150.89498186851958, 259.9029679482927, 160.65803283006548, 167.54146883867142, 396.66000526684826, 172.28946902601606, 170.66260604053159, 416.20306641454505, 180.35157612623348, 223.2010095403326, 110.88853841585357, 260.6203275470248, 342.53398610298166, 261.4451718075787, 720.5634674155278, 248.8595411725239, 405.0081008390917, 366.8245306138992, 249.81573075731623, 291.97377748339056, 218.18773301970683, 189.78192969547763, 300.87687860183263, 230.58848646034193, 211.89685216298153, 248.88082519025423, 287.05994603588, 566.9446842817267, 246.64476206248693, 122.63216149386362, 147.4074670099284, 111.3512395769161, 330.9548261227603, 144.94955307780768, 116.16965820142237, 172.29896820580032, 107.89454726119034, 86.35352367341466, 102.28847968051726, 129.92222124348717, 186.05920158093812, 120.50523973097651, 118.44892536035528, 95.68840261730392, 154.67762646893158, 99.88036385595778, 83.45668903984107, 133.37391263893997, 84.47767603110832, 75.69575244935352, 66.65852467769089, 239.72005274529852, 94.6370462300643, 174.47454384443668, 90.82096902250086, 126.311748820703, 70.24980735643088, 90.25984889306696, 162.66340656009777, 264.09888806023054, 181.69657713252678, 177.38789117571568, 192.98930635079662, 224.27539970055793, 618.883946547357, 185.3753827055874, 273.5896002446415, 275.7796195102071, 205.26828033255194, 191.25191905143612, 258.7259473919232, 230.12119859946023, 193.2454238632109, 171.45110781261226, 165.42349775523053, 211.0978204891137, 156.03869624274148, 166.86723185913763, 171.59825963503903, 155.74240904632816, 231.4634990648756, 157.39201607909098, 298.0212420165145, 107.92295320766736, 168.74888153128765, 300.24337020703626, 287.0858247402602, 140.24066095848318, 100.017717669778, 120.82873758112231, 397.76667883148525, 355.4031249889715, 103.23611379388352, 360.30690070942006, 94.39860105564935, 84.94332011358053, 145.37259799082975, 197.0146144502561, 109.52491475575938, 161.0963735803455, 117.0742079926783, 118.68634150554281, 225.05304122823875, 89.16940293464657, 116.82026706923371, 117.67520819641946, 63.90900441795123, 101.91449315914498, 121.52633888183769, 70.96434611772993, 394.269654569414, 129.28666780054877, 169.08451473866484, 523.7634315608965, 222.83381277804892, 256.3379209119737, 231.74190906002167, 191.22940088426836, 195.59309948711837, 151.21224469983613, 316.92683016254944, 204.24038395287047, 240.56640607410063, 181.41057914636264, 169.26382255711272, 170.7389881934245, 164.94371740624985, 162.26970512420854, 152.43151371227898, 308.9753924467293, 96.52012090967243, 258.5523098735551, 181.18227587122942, 87.11767064752435, 101.5208245382597, 116.07803590749322, 79.3862137297403, 181.48694649628334, 156.3555621012481, 88.50583115080268, 499.85637461329486, 80.37394343750792, 122.81573002028301, 416.46579387441693, 252.56081176426383, 78.05173858521123, 278.1720908101602, 78.60287614887243, 82.9101317725314, 116.0573477773649, 155.57549818774686, 453.8773074679768, 244.59942836105097, 67.65230243250399, 116.2873285487699, 129.8748292905709, 94.9742479446367, 51.8725794330887, 95.17130741534747, 311.2982353541116, 361.7578825496283, 219.5948283083594, 254.39526839726705, 306.46287698309163, 225.7173419673705, 121.22729550363782, 384.68745417893194, 352.3502496812658, 186.31233868262635, 190.30792126968163, 179.82568332895048, 183.734553344017, 186.5494023420286, 158.91838531265608, 149.14737976230782, 135.76052502337652, 132.4831567092171, 132.43888014443968, 1114.612013095173, 1241.5615775372032, 425.74928379330004, 231.91384373942802, 105.92588129528535, 98.51088804482248, 118.06287407894219, 83.26238761809947, 82.13461570184091, 125.25841980588815, 72.59779229050321, 56.26640911144221, 31.118715986323366, 0.7426617644593528, 0.7425629970317065, 0.7425474935104946, 0.7425859111495119, 0.7426113461123854, 0.7426038046484705, 0.7426112735440855, 0.7426136213956397, 0.7428903414248306, 0.7426069227956466, 0.742592633419622, 0.7425801909393991, 0.74258532510445, 0.7425919058051751, 0.7425948742818042, 0.7431651978557596, 0.7425904197657266, 0.7426685969252914, 0.7453030003396618, 0.7447269458585353, 0.7443235688550831, 0.7438447436335929, 0.7437617078021255, 0.7436988654211497, 0.7434511779262357, 0.743261467935239, 0.7431321726683031, 0.7430536510396476, 0.743036250891962, 0.7429782211632852, 0.7429610594822258, 0.7429504849093593, 0.7429453234573438, 0.7429153612016822, 2315.1573148873435, 1015.3117659077066, 0.7799447889702682, 0.7801027790429946, 0.7803780387960132, 0.7800257286254413, 0.7799732685844403, 0.7800732899075563, 0.7799736380207173, 0.779965367775644, 0.77995170281842, 0.7800365923639712, 0.7799991526844846, 0.7799696614205328, 0.7800451972534522, 0.7799515831410944, 0.7800075287295208, 0.7799797319405681, 0.7799820775971945, 0.779959610928658, 0.7799735892851285, 0.7799976880301852, 0.7799952031319193, 0.7799374092727414, 0.7799577585103494, 0.7799698253835587, 0.7800654581256314, 0.779970603957864, 0.7800266487616448, 0.7800365762803786, 0.8440261458734453, 0.7932177789331883, 0.7927062496098617, 0.7944416649398586, 0.7901037548093137, 0.7823420216792162, 0.7817983245123502, 0.7871320726006673, 0.783012173995544, 0.7823422759204699, 0.7821765449280457, 0.7818431403705352, 0.7817665170089907, 0.7816058375024707, 0.7815247485665658, 0.7810365036303045, 0.7809707208830021, 0.780925051306901, 0.7808887690903284, 0.7808112508454216, 0.780737971628641, 0.7807058257466353, 0.7806449935691568, 0.7806171234916434, 0.7805963506596227, 0.7805890292130022, 0.780582608357758, 0.7804742262347745, 1169.4059059124004, 285.08996000898037, 70.7258993980215, 2.411671789072715, 2.4117042280281926, 2.4116925387955717, 2.411686293642394, 2.4117891083604994, 2.4117141962092066, 2.4116982518355035, 2.411731852302792, 2.4117086672972197, 2.4116883158287785, 2.4117307968951334, 2.4116936792019565, 2.4116769132903695, 2.4117946538077875, 2.4117027112175795, 2.4116506341901984, 2.4117247688668715, 2.4117398198788034, 2.411838693236869, 2.411689304216049, 2.411664259195794, 2.4117031078018, 2.4116702003226727, 2.4119790732357456, 2.411668411199066, 2.4118754318254343, 2.411687056673487, 2.4154850261925147, 2.4239138428430445, 2.417347628573832, 2.4141986871594168, 2.4130735186629435, 2.4129015297730607, 2.4129012581341254, 2.412743136191296, 2.412599151471668, 2.4125627997549093, 2.412561372981443, 2.4125409142162058, 2.412482979877822, 2.4124216423622, 2.412343820027764, 2.4122989318011454, 2.4122488994593247, 2.4122430744564705, 2.41218752387842, 2.4121839225941404, 2.41215821828946, 2.4121476843797987, 2.412117826795063, 2.4121126093388567, 2.412110693718794, 2.4121016749190054, 2.412096650284315, 3.848375064093163, 3.848375842048466, 3.848402793364879, 3.8483738725209204, 3.848374847945097, 3.848375879464212, 3.8483750292266965, 3.8483744889865075, 3.8483777722947643, 3.8483751324039464, 3.8483747515476474, 3.848374066041998, 3.84837548945583, 3.8483764408251675, 3.8483744901437955, 3.8483783449480007, 3.848375114297815, 3.848375478402083, 3.848375598501497, 3.8483763988420625, 3.848376830861654, 3.8483862230086006, 3.8483762901911946, 3.8485247444503936, 3.848376314645647, 3.8483790486551492, 3.8483763497555503, 3.8483743087185496, 3.848375088900158, 3.848408949572758, 3.848825487509354, 3.8488235030544695, 3.848789001350506, 3.84877567581362, 3.8487529821700197, 3.8487351151738776, 3.848666578063772, 3.8486610187417654, 3.848633229664597, 3.848622117163405, 3.848619902995281, 3.848614137914804, 3.848591118716243, 3.8485589358773176, 3.8485511006182342, 3.8485451109896713, 3.848540770583726, 3.8485364043969974, 3.848525382149752, 3.8485048464310543, 3.848500043087691, 3.848499940414524, 3.8484991064956047, 3.848498013716054, 3.848494599703654, 3.8484911553275536, 3.848491074266362, 3.8484855742240343, 3.8484810186142333], \"Term\": [\"turkey\", \"gun\", \"decemb\", \"cruz\", \"johnson\", \"2016\", \"ted\", \"shoot\", \"control\", \"weapon\", \"violenc\", \"clinton\", \"polic\", \"russian\", \"check\", \"texa\", \"mass\", \"russia\", \"elect\", \"parti\", \"second\", \"amend\", \"trump\", \"14\", \"korea\", \"vote\", \"republican\", \"investig\", \"china\", \"poll\", \"racist\", \"hate\", \"love\", \"guy\", \"kid\", \"black\", \"pretti\", \"gop\", \"video\", \"realli\", \"everyon\", \"actual\", \"woman\", \"truth\", \"know\", \"thing\", \"watch\", \"featur\", \"great\", \"got\", \"word\", \"america\", \"someon\", \"tweet\", \"celebr\", \"photo\", \"imag\", \"feel\", \"women\", \"girl\", \"lie\", \"tell\", \"fact\", \"hillari\", \"student\", \"trump\", \"like\", \"think\", \"get\", \"go\", \"man\", \"peopl\", \"american\", \"even\", \"obama\", \"one\", \"donald\", \"white\", \"say\", \"want\", \"make\", \"presid\", \"right\", \"clinton\", \"time\", \"support\", \"media\", \"said\", \"would\", \"myanmar\", \"insur\", \"repeal\", \"obamacar\", \"tax\", \"debt\", \"budget\", \"healthcar\", \"regul\", \"legisl\", \"billion\", \"price\", \"cost\", \"industri\", \"incom\", \"propos\", \"reform\", \"energi\", \"fund\", \"corpor\", \"bill\", \"invest\", \"pass\", \"health\", \"spend\", \"financi\", \"bank\", \"compani\", \"market\", \"climat\", \"feder\", \"congress\", \"senat\", \"plan\", \"hous\", \"administr\", \"republican\", \"would\", \"said\", \"law\", \"state\", \"percent\", \"rule\", \"trump\", \"million\", \"govern\", \"year\", \"washington\", \"reuter\", \"presid\", \"democrat\", \"obama\", \"korea\", \"missil\", \"iraqi\", \"eu\", \"korean\", \"saudi\", \"beij\", \"arabia\", \"syrian\", \"iran\", \"nuclear\", \"israel\", \"china\", \"britain\", \"chines\", \"sanction\", \"tillerson\", \"german\", \"syria\", \"merkel\", \"european\", \"diplomat\", \"germani\", \"north\", \"iraq\", \"negoti\", \"minist\", \"ministri\", \"prime\", \"europ\", \"region\", \"unit\", \"foreign\", \"said\", \"militari\", \"state\", \"reuter\", \"russia\", \"govern\", \"deal\", \"al\", \"presid\", \"countri\", \"meet\", \"would\", \"trump\", \"polic\", \"arrest\", \"sentenc\", \"suspect\", \"migrant\", \"kill\", \"prosecutor\", \"prison\", \"milit\", \"incid\", \"murder\", \"bomb\", \"death\", \"charg\", \"armi\", \"crime\", \"resid\", \"refuge\", \"town\", \"car\", \"local\", \"bodi\", \"arriv\", \"abus\", \"citi\", \"die\", \"islam\", \"near\", \"area\", \"train\", \"victim\", \"author\", \"attack\", \"muslim\", \"000\", \"protest\", \"group\", \"said\", \"forc\", \"year\", \"peopl\", \"court\", \"offic\", \"reuter\", \"govern\", \"two\", \"secur\", \"investig\", \"state\", \"militari\", \"offici\", \"report\", \"one\", \"comey\", \"flynn\", \"fbi\", \"cia\", \"hack\", \"intellig\", \"email\", \"wire\", \"leak\", \"21st\", \"russian\", \"investig\", \"jame\", \"russia\", \"foundat\", \"agent\", \"putin\", \"inform\", \"centuri\", \"director\", \"document\", \"room\", \"committe\", \"session\", \"special\", \"attorney\", \"contact\", \"advis\", \"moscow\", \"secret\", \"clinton\", \"alleg\", \"depart\", \"trump\", \"campaign\", \"elect\", \"report\", \"former\", \"news\", \"agenc\", \"said\", \"hous\", \"presid\", \"hillari\", \"media\", \"offici\", \"washington\", \"democrat\", \"state\", \"poll\", \"elector\", \"voter\", \"nomin\", \"rubio\", \"primari\", \"seat\", \"deleg\", \"sander\", \"nomine\", \"convent\", \"parti\", \"berni\", \"suprem\", \"vote\", \"candid\", \"rival\", \"percent\", \"endors\", \"nov\", \"race\", \"win\", \"elect\", \"presidenti\", \"victori\", \"parliament\", \"opposit\", \"coalit\", \"carolina\", \"result\", \"democrat\", \"republican\", \"court\", \"senat\", \"clinton\", \"campaign\", \"independ\", \"trump\", \"said\", \"support\", \"reuter\", \"would\", \"state\", \"presid\", \"new\", \"polit\", \"rule\", \"leader\", \"former\", \"cruz\", \"gun\", \"ted\", \"shoot\", \"mass\", \"check\", \"weapon\", \"amend\", \"texa\", \"control\", \"violenc\", \"second\", \"measur\", \"studi\", \"grant\", \"cia\", \"mainstream\", \"practic\", \"fall\", \"engag\", \"prove\", \"isi\", \"whole\", \"write\", \"admit\", \"repeatedli\", \"lack\", \"learn\", \"restrict\", \"specif\", \"save\", \"senat\", \"coalit\", \"parliament\", \"migrant\", \"foundat\", \"missil\", \"incom\", \"terrorist\", \"arm\", \"debt\", \"terror\", \"comey\", \"assault\", \"clinton\", \"suspect\", \"murder\", \"turkey\", \"johnson\", \"studi\", \"grant\", \"cia\", \"mainstream\", \"practic\", \"fall\", \"engag\", \"prove\", \"isi\", \"whole\", \"write\", \"admit\", \"repeatedli\", \"lack\", \"learn\", \"restrict\", \"specif\", \"extrem\", \"save\", \"determin\", \"dozen\", \"lawsuit\", \"gain\", \"elector\", \"fals\", \"church\", \"safe\", \"simpli\", \"flynn\", \"michael\", \"kid\", \"diplomat\", \"financi\", \"iraqi\", \"troop\", \"myanmar\", \"syrian\", \"billion\", \"iran\", \"global\", \"transit\", \"advis\", \"german\", \"racist\", \"mayor\", \"employe\", \"primari\", \"prosecutor\", \"ambassador\", \"eu\", \"foundat\", \"abort\", \"arrest\", \"economi\", \"secur\", \"britain\", \"decemb\", \"2016\", \"14\", \"studi\", \"grant\", \"cia\", \"mainstream\", \"practic\", \"fall\", \"engag\", \"prove\", \"isi\", \"whole\", \"write\", \"admit\", \"repeatedli\", \"lack\", \"learn\", \"restrict\", \"specif\", \"extrem\", \"save\", \"determin\", \"dozen\", \"lawsuit\", \"gain\", \"elector\", \"fals\", \"church\", \"safe\", \"beij\", \"moscow\", \"octob\", \"flynn\", \"13\", \"12\", \"intern\", \"paul\", \"lost\", \"level\", \"someth\", \"room\", \"11\", \"biggest\", \"25\", \"cnn\", \"30\", \"leader\", \"juli\", \"anoth\", \"answer\", \"foundat\", \"win\", \"seat\", \"elect\", \"run\", \"obama\", \"studi\", \"grant\", \"cia\", \"mainstream\", \"practic\", \"fall\", \"engag\", \"prove\", \"isi\", \"whole\", \"write\", \"admit\", \"repeatedli\", \"lack\", \"learn\", \"restrict\", \"specif\", \"extrem\", \"save\", \"determin\", \"dozen\", \"lawsuit\", \"gain\", \"elector\", \"fals\", \"church\", \"safe\", \"simpli\", \"opportun\", \"repeal\", \"billion\", \"global\", \"financ\", \"economi\", \"transit\", \"econom\", \"financi\", \"britain\", \"25\", \"diplomat\", \"milit\", \"oil\", \"leak\", \"german\", \"primari\", \"incom\", \"myanmar\", \"iraqi\", \"franc\", \"ambassador\", \"coalit\", \"foundat\", \"corpor\", \"bush\", \"religi\", \"convent\", \"parliament\", \"syrian\", \"region\"], \"Total\": [2402.0, 1374.0, 1309.0, 1232.0, 1070.0, 722.0, 504.0, 396.0, 468.0, 316.0, 381.0, 1151.0, 717.0, 634.0, 240.0, 268.0, 231.0, 652.0, 1150.0, 1039.0, 334.0, 236.0, 3336.0, 211.0, 450.0, 899.0, 1195.0, 626.0, 491.0, 418.0, 250.30387018741055, 280.07996324478574, 277.76469224321875, 226.19691522170336, 176.72890124036726, 510.18818791980175, 176.83960227685301, 209.11095502863273, 511.2321495841912, 361.2429884932353, 211.6072676165186, 293.90336796905757, 326.5222790365002, 190.22715229300326, 579.4645655607192, 459.9889139517354, 454.13933219930624, 145.8523448559132, 363.7039391342457, 297.0133340604613, 281.2944029169512, 561.1140258124648, 225.93949462740287, 398.2536960901981, 184.42081871757998, 176.51310970734178, 206.8614311176895, 260.8982371962919, 530.1127077865435, 163.47250249779165, 285.1104764006641, 333.4354972706499, 343.1964899312054, 800.96487953412, 349.80792170973365, 3336.1697790332105, 868.1257752586347, 597.4211669478723, 697.3389988028802, 772.7482428608708, 416.281249823298, 1206.5752936022682, 797.5431337312725, 576.0166133325228, 1041.0461886620617, 1002.4484202418117, 894.629290050252, 884.2675208514509, 1032.112433852609, 683.2808929528346, 726.4689976227473, 1620.887169064793, 816.8404180080641, 1151.6734106972851, 830.2006511034309, 880.8494561997421, 674.2189993689274, 3033.5366184085087, 1339.2930727733358, 330.85784442897204, 190.60774393322458, 145.73549080501382, 191.69896913283435, 581.7259511130707, 188.22294641045474, 283.68013527886535, 195.4619156683252, 217.38646097733272, 356.7343604583434, 363.7983858021021, 187.08078058151426, 227.755463661763, 224.95953622489836, 160.56105356437442, 324.7522631780833, 294.4450232318399, 197.6150862946988, 426.6861762571153, 153.36054398559702, 628.6967520839582, 190.72808357105185, 307.06050299359566, 306.36468841752003, 241.097261124881, 269.90734138747985, 305.8900100005675, 477.00681895758277, 241.0432189574647, 213.25430776861987, 461.3371942612309, 443.25679824722243, 903.353211118901, 605.6055039058851, 1029.7675917625065, 553.224815523135, 1195.1529606004244, 1339.2930727733358, 3033.5366184085087, 677.0523488945403, 1518.0824544927955, 643.9226744984898, 601.6205469163765, 3336.1697790332105, 583.9542589655006, 1081.098449730342, 1142.6945345201543, 767.9627315683322, 1244.3767202883669, 1620.887169064793, 974.7200589472258, 1041.0461886620617, 450.98032107011596, 237.15290360697153, 174.2737396584349, 358.70056076293406, 198.58865534629894, 284.0709326566229, 164.94045199791788, 168.62958658483478, 263.678562260268, 396.6735355038881, 346.9652205130009, 244.10049414411728, 491.75772779922784, 296.2529529529944, 191.72347634414646, 273.59353204663125, 166.79466917753095, 200.74336173536392, 336.4809246293168, 199.01169929281312, 344.21579855103823, 220.80860398985303, 232.92148413905326, 560.0825144094651, 254.74751925024876, 262.03692142254965, 659.959431868437, 290.35318801599914, 368.44376308664323, 191.73340414872254, 453.2007884566657, 829.2492380993249, 538.5206489234823, 3033.5366184085087, 547.2330181155022, 1518.0824544927955, 1244.3767202883669, 652.2298616151536, 1081.098449730342, 486.108755892605, 340.4650987164786, 1620.887169064793, 846.650861607167, 587.2121448400561, 1339.2930727733358, 3336.1697790332105, 717.192894349156, 315.7522608521501, 169.06399503684327, 207.18352555243885, 168.44708326130828, 512.9111956109158, 234.32956870965467, 188.18531375909112, 282.8978214183905, 202.14304825672596, 167.0686738810833, 198.88756098137048, 269.89032022360647, 386.62996133068293, 250.66601939389335, 247.25743167660238, 200.50097471525623, 325.0174117223588, 210.31192593481828, 180.61185725226403, 293.61285872447695, 188.64536008140576, 175.7585762130955, 155.05941061572796, 557.7970616031105, 222.7772617934498, 410.99049480110386, 214.4062581091997, 299.27964400585074, 167.13894959314413, 216.25127519900542, 398.9403065470419, 674.2953006703642, 468.06136210350917, 489.82836561352013, 546.0919171199613, 712.3703579880648, 3033.5366184085087, 568.9289939789635, 1142.6945345201543, 1206.5752936022682, 735.0890795241339, 670.8218693205635, 1244.3767202883669, 1081.098449730342, 743.1905709275843, 703.0998035727201, 626.4642225289372, 1518.0824544927955, 547.2330181155022, 774.1144468970759, 972.2471646398379, 1002.4484202418117, 241.65954733285201, 168.9313598487602, 349.9274558441374, 133.64661583206268, 210.52297623885363, 393.37987260637726, 408.69703454056224, 202.84188543143227, 151.76957249547013, 184.7097626501298, 634.2662371462837, 626.4642225289372, 186.2335798068793, 652.2298616151536, 177.2596849975629, 162.37748521266883, 284.700381039846, 394.18020766447177, 223.80728401803427, 334.50530997828605, 250.29835698359247, 266.8102940075858, 508.20915607694826, 207.7164060193359, 274.4267373585316, 278.4887085322257, 153.1893819401841, 252.83458482661217, 307.1192138652389, 184.47383636191606, 1151.6734106972851, 360.6660831513808, 500.8444667331276, 3336.1697790332105, 867.6799497789908, 1150.7977526715304, 972.2471646398379, 696.9925465004096, 774.7817310445561, 494.3467557459723, 3033.5366184085087, 1029.7675917625065, 1620.887169064793, 800.96487953412, 674.2189993689274, 774.1144468970759, 767.9627315683322, 974.7200589472258, 1518.0824544927955, 418.7201508593273, 144.279085082485, 421.65125293334455, 295.6268946849367, 149.1698013860442, 176.56349603858908, 213.10499106341354, 146.24175998370927, 335.9575223407862, 306.9872020586654, 182.88054631595833, 1039.2254933174443, 169.57043527831476, 259.8524341107303, 899.9092693048068, 553.256063151912, 175.2891554769002, 643.9226744984898, 183.82916432858391, 196.48501853647826, 278.0177514899219, 380.071893819746, 1150.7977526715304, 635.9391653294468, 178.57812266224943, 308.074627754274, 370.6528458060065, 280.2226490326322, 153.46320743925946, 282.5815765321559, 974.7200589472258, 1195.1529606004244, 735.0890795241339, 903.353211118901, 1151.6734106972851, 867.6799497789908, 387.64337800768004, 3336.1697790332105, 3033.5366184085087, 880.8494561997421, 1244.3767202883669, 1339.2930727733358, 1518.0824544927955, 1620.887169064793, 960.8715894441558, 785.4992236459916, 601.6205469163765, 647.7141005408704, 696.9925465004096, 1232.9632533699084, 1374.8053888535542, 504.6075819046613, 396.1246203741218, 231.1943936619302, 240.86247793665422, 316.51746110424074, 236.658348490771, 268.67912329972535, 468.0616107123663, 381.0727916786449, 334.0352488724732, 286.2479490473929, 128.08894290966782, 128.4059172612415, 133.64661583206268, 134.70157996981797, 135.48192168209226, 135.8314881087227, 136.3638283036212, 137.21233613877948, 137.74395888024566, 138.02837112352614, 138.73716241360086, 141.0520674964753, 141.13703383811296, 141.3948526989392, 141.5695320010757, 141.75032760531832, 142.28914214345312, 142.88670017854983, 903.353211118901, 280.2226490326322, 308.074627754274, 168.44708326130828, 177.2596849975629, 237.15290360697153, 160.56105356437442, 243.5803665638637, 267.7356419586348, 188.22294641045474, 250.73016611094437, 241.65954733285201, 166.40614925567408, 1151.6734106972851, 207.18352555243885, 167.0686738810833, 2402.982934513205, 1070.4024006602983, 128.08894290966782, 128.4059172612415, 133.64661583206268, 134.70157996981797, 135.48192168209226, 135.8314881087227, 136.3638283036212, 137.21233613877948, 137.74395888024566, 138.02837112352614, 138.73716241360086, 141.0520674964753, 141.13703383811296, 141.3948526989392, 141.5695320010757, 141.75032760531832, 142.28914214345312, 142.60734674296697, 142.88670017854983, 143.1888270104468, 143.682043366773, 144.0217329917897, 144.21040040404858, 144.279085082485, 144.77718898463675, 144.87161893565013, 145.32864173965376, 145.61062016607568, 168.9313598487602, 161.97168203067736, 176.72890124036726, 220.80860398985303, 269.90734138747985, 174.2737396584349, 164.8502601104041, 330.85784442897204, 263.678562260268, 363.7983858021021, 396.6735355038881, 218.2039861244855, 180.20312843979886, 252.83458482661217, 200.74336173536392, 250.30387018741055, 176.88379367046895, 182.45621462183183, 176.56349603858908, 234.32956870965467, 171.50044262957883, 358.70056076293406, 177.2596849975629, 170.09989853725227, 315.7522608521501, 242.83034480500135, 703.0998035727201, 296.2529529529944, 1309.7625679407968, 722.1018847699062, 211.32219050367473, 128.08894290966782, 128.4059172612415, 133.64661583206268, 134.70157996981797, 135.48192168209226, 135.8314881087227, 136.3638283036212, 137.21233613877948, 137.74395888024566, 138.02837112352614, 138.73716241360086, 141.0520674964753, 141.13703383811296, 141.3948526989392, 141.5695320010757, 141.75032760531832, 142.28914214345312, 142.60734674296697, 142.88670017854983, 143.1888270104468, 143.682043366773, 144.0217329917897, 144.21040040404858, 144.279085082485, 144.77718898463675, 144.87161893565013, 145.32864173965376, 164.94045199791788, 307.1192138652389, 220.97497167678145, 168.9313598487602, 165.65737103834974, 206.07185125022067, 406.09911230134105, 224.30042685690128, 199.91675496915593, 232.00605696234868, 299.5519954743401, 266.8102940075858, 227.1697137247904, 174.98253527741025, 182.76518376025706, 335.12991090297294, 237.41137743497413, 647.7141005408704, 280.94685442944706, 412.58190474425396, 206.02734353669808, 177.2596849975629, 380.071893819746, 213.10499106341354, 1150.7977526715304, 454.2832944764688, 1041.0461886620617, 128.08894290966782, 128.4059172612415, 133.64661583206268, 134.70157996981797, 135.48192168209226, 135.8314881087227, 136.3638283036212, 137.21233613877948, 137.74395888024566, 138.02837112352614, 138.73716241360086, 141.0520674964753, 141.13703383811296, 141.3948526989392, 141.5695320010757, 141.75032760531832, 142.28914214345312, 142.60734674296697, 142.88670017854983, 143.1888270104468, 143.682043366773, 144.0217329917897, 144.21040040404858, 144.279085082485, 144.77718898463675, 144.87161893565013, 145.32864173965376, 145.61062016607568, 145.7146619006792, 145.73549080501382, 363.7983858021021, 218.2039861244855, 192.4064899950412, 242.83034480500135, 180.20312843979886, 318.20005519584305, 269.90734138747985, 296.2529529529944, 182.76518376025706, 220.80860398985303, 282.8978214183905, 231.07022969945822, 151.76957249547013, 200.74336173536392, 176.56349603858908, 160.56105356437442, 330.85784442897204, 174.2737396584349, 185.7530817260891, 171.50044262957883, 280.2226490326322, 177.2596849975629, 153.36054398559702, 204.8664525975954, 161.87614439173282, 182.88054631595833, 308.074627754274, 263.678562260268, 453.2007884566657], \"loglift\": [30.0, 29.0, 28.0, 27.0, 26.0, 25.0, 24.0, 23.0, 22.0, 21.0, 20.0, 19.0, 18.0, 17.0, 16.0, 15.0, 14.0, 13.0, 12.0, 11.0, 10.0, 9.0, 8.0, 7.0, 6.0, 5.0, 4.0, 3.0, 2.0, 1.0, 1.1714, 1.1258, 1.0799, 1.0644, 1.0525, 1.0063, 0.9918, 0.9808, 0.9783, 0.9648, 0.9398, 0.9342, 0.9261, 0.9201, 0.9168, 0.9161, 0.91, 0.9075, 0.9052, 0.9035, 0.9029, 0.8993, 0.8981, 0.8976, 0.8956, 0.8952, 0.8877, 0.8849, 0.8828, 0.876, 0.8737, 0.869, 0.8563, 0.7556, 0.8361, 0.5875, 0.7315, 0.7757, 0.7215, 0.6709, 0.7981, 0.5151, 0.6222, 0.7012, 0.5149, 0.4844, 0.5228, 0.4777, 0.3891, 0.5649, 0.5363, 0.1536, 0.4517, 0.2491, 0.4406, 0.3483, 0.4824, -0.7098, -0.15, 1.7462, 1.6339, 1.5932, 1.5547, 1.5545, 1.5442, 1.5359, 1.5162, 1.508, 1.4752, 1.4508, 1.3663, 1.3489, 1.3308, 1.3306, 1.2985, 1.2684, 1.2681, 1.2592, 1.2543, 1.2538, 1.2523, 1.2233, 1.2205, 1.2171, 1.2094, 1.1837, 1.1701, 1.1619, 1.1611, 1.1166, 1.1143, 0.926, 0.9642, 0.7363, 0.9158, 0.6353, 0.5081, 0.1471, 0.7528, 0.2887, 0.7645, 0.7888, -0.29, 0.805, 0.398, 0.2931, 0.556, 0.1971, -0.0336, 0.3123, 0.2357, 1.8555, 1.8535, 1.842, 1.8366, 1.8287, 1.8233, 1.819, 1.811, 1.7748, 1.7713, 1.7505, 1.7276, 1.7233, 1.7215, 1.6978, 1.6815, 1.646, 1.6409, 1.6392, 1.6319, 1.6277, 1.5907, 1.5792, 1.5637, 1.5176, 1.4799, 1.4477, 1.4325, 1.4075, 1.3611, 1.3554, 1.0245, 1.1861, 0.4712, 1.1207, 0.5874, 0.6872, 0.949, 0.5996, 1.1076, 1.3243, 0.2247, 0.608, 0.8894, 0.2258, -0.5442, 1.7736, 1.7617, 1.6876, 1.6683, 1.5947, 1.5705, 1.5283, 1.5263, 1.5128, 1.3808, 1.3487, 1.3437, 1.2776, 1.2773, 1.2762, 1.2727, 1.2689, 1.2661, 1.264, 1.2366, 1.2196, 1.2053, 1.1663, 1.1644, 1.1641, 1.1525, 1.1519, 1.1497, 1.146, 1.1419, 1.1349, 1.1115, 1.0713, 1.0624, 0.993, 0.9685, 0.8529, 0.4191, 0.8873, 0.5792, 0.5327, 0.733, 0.7538, 0.438, 0.4615, 0.6617, 0.5975, 0.6771, 0.0358, 0.7539, 0.4741, 0.2742, 0.1467, 2.1529, 2.1252, 2.0354, 1.9822, 1.9748, 1.9258, 1.8428, 1.8269, 1.779, 1.7716, 1.7294, 1.6292, 1.606, 1.6026, 1.5659, 1.5481, 1.5239, 1.5025, 1.4814, 1.4653, 1.4362, 1.3859, 1.3814, 1.3504, 1.3419, 1.3345, 1.3218, 1.2874, 1.2689, 1.2407, 1.1241, 1.1701, 1.1101, 0.3445, 0.8366, 0.6943, 0.762, 0.9027, 0.8195, 1.0114, -0.0628, 0.5782, 0.2883, 0.7109, 0.8139, 0.6844, 0.6579, 0.4031, -0.1025, 1.9568, 1.8588, 1.7717, 1.7712, 1.7229, 1.7073, 1.6532, 1.6498, 1.645, 1.5861, 1.535, 1.5288, 1.5142, 1.5113, 1.4903, 1.4766, 1.4517, 1.4214, 1.4112, 1.3979, 1.3872, 1.3675, 1.3304, 1.3053, 1.2901, 1.2865, 1.2121, 1.1788, 1.1761, 1.1725, 1.1194, 1.0657, 1.0525, 0.9935, 0.9369, 0.9142, 1.0983, 0.1006, 0.1079, 0.7073, 0.383, 0.2528, 0.149, 0.0987, 0.4613, 0.5994, 0.772, 0.6738, 0.6001, 4.1674, 4.1663, 4.0983, 3.7329, 3.4878, 3.3742, 3.2821, 3.2236, 3.0831, 2.95, 2.6102, 2.4871, 2.0492, -0.882, -0.8846, -0.9246, -0.9324, -0.9382, -0.9407, -0.9446, -0.9508, -0.9543, -0.9568, -0.9619, -0.9785, -0.9791, -0.9809, -0.9821, -0.9826, -0.9872, -0.9913, -2.8318, -1.6621, -1.7574, -1.1543, -1.2054, -1.4966, -1.1069, -1.5239, -1.6186, -1.2663, -1.5531, -1.5163, -1.1433, -3.0778, -1.3625, -1.1473, 4.3263, 4.3107, -0.7377, -0.74, -0.7796, -0.7879, -0.7938, -0.7962, -0.8002, -0.8065, -0.8103, -0.8123, -0.8175, -0.8341, -0.8346, -0.8365, -0.8377, -0.839, -0.8428, -0.845, -0.847, -0.8491, -0.8525, -0.8549, -0.8562, -0.8567, -0.86, -0.8608, -0.8639, -0.8658, -0.9355, -0.9555, -1.0433, -1.2638, -1.4701, -1.0425, -0.9876, -1.6775, -1.4558, -1.7785, -1.8652, -1.268, -1.0767, -1.4156, -1.185, -1.4062, -1.0591, -1.0902, -1.0574, -1.3406, -1.0285, -1.7665, -1.0617, -1.0205, -1.6391, -1.3765, -2.4396, -1.5755, 4.2948, 3.4788, 3.3136, 0.4358, 0.4333, 0.3933, 0.3855, 0.3797, 0.3771, 0.3732, 0.367, 0.3631, 0.3611, 0.356, 0.3394, 0.3388, 0.337, 0.3357, 0.3344, 0.3307, 0.3284, 0.3265, 0.3244, 0.3209, 0.3186, 0.3172, 0.3169, 0.3133, 0.3128, 0.3095, 0.1845, -0.4337, -0.1072, 0.1601, 0.1792, -0.0392, -0.7176, -0.124, -0.009, -0.1579, -0.4134, -0.2977, -0.1368, 0.1241, 0.0806, -0.5257, -0.181, -1.1847, -0.3494, -0.7337, -0.0393, 0.1111, -0.6517, -0.0731, -1.7595, -0.83, -1.6593, 0.924, 0.9216, 0.8816, 0.8737, 0.8679, 0.8654, 0.8614, 0.8552, 0.8514, 0.8493, 0.8442, 0.8276, 0.827, 0.8252, 0.824, 0.8227, 0.8189, 0.8167, 0.8147, 0.8126, 0.8092, 0.8068, 0.8055, 0.8051, 0.8016, 0.8009, 0.7978, 0.7958, 0.7951, 0.795, -0.1197, 0.3915, 0.5173, 0.2845, 0.5828, 0.0142, 0.1788, 0.0856, 0.5686, 0.3795, 0.1317, 0.3341, 0.7545, 0.4748, 0.6031, 0.6981, -0.0249, 0.6162, 0.5524, 0.6322, 0.1412, 0.5992, 0.744, 0.4544, 0.69, 0.568, 0.0465, 0.2021, -0.3395], \"logprob\": [30.0, 29.0, 28.0, 27.0, 26.0, 25.0, 24.0, 23.0, 22.0, 21.0, 20.0, 19.0, 18.0, 17.0, 16.0, 15.0, 14.0, 13.0, 12.0, 11.0, 10.0, 9.0, 8.0, 7.0, 6.0, 5.0, 4.0, 3.0, 2.0, 1.0, -5.9905, -5.9237, -5.9778, -6.1987, -6.4575, -5.4435, -6.5174, -6.3609, -5.4694, -5.8302, -6.39, -6.0671, -5.9699, -6.5162, -5.4056, -5.6372, -5.6562, -6.7944, -5.883, -6.0872, -6.1423, -5.4553, -6.3662, -5.7998, -6.5717, -6.616, -6.4648, -6.2355, -5.5286, -6.7119, -6.1579, -6.006, -5.99, -5.2432, -5.9911, -3.9844, -5.1867, -5.5162, -5.4157, -5.3636, -5.8551, -5.0739, -5.3808, -5.6272, -5.2216, -5.2899, -5.3653, -5.422, -5.3561, -5.5928, -5.56, -5.1402, -5.5274, -5.3864, -5.5223, -5.5554, -5.6885, -5.3768, -5.6346, -5.1367, -5.8004, -6.1095, -5.8739, -4.764, -5.9027, -5.5008, -5.8929, -5.7949, -5.3324, -5.3372, -6.0867, -5.9073, -5.9378, -6.2752, -5.603, -5.731, -6.1301, -5.3693, -6.3975, -4.9871, -6.1813, -5.7342, -5.7392, -5.9822, -5.8771, -5.7776, -5.3469, -6.0376, -6.1609, -5.4338, -5.4761, -4.9524, -5.3141, -5.0112, -5.453, -4.9632, -4.9766, -4.5199, -5.414, -5.0706, -5.4525, -5.496, -4.8619, -5.5097, -5.3008, -5.3503, -5.4848, -5.3611, -5.3274, -5.4901, -5.5008, -4.7176, -5.3623, -5.6819, -4.9654, -5.5646, -5.212, -5.7599, -5.7459, -5.335, -4.9301, -5.0849, -5.4594, -4.7633, -5.2718, -5.7306, -5.3913, -5.9218, -5.7416, -5.2268, -5.7592, -5.2155, -5.6966, -5.6546, -4.7927, -5.6267, -5.6361, -4.7447, -5.5809, -5.3678, -6.0673, -5.2128, -4.9395, -5.2096, -4.1958, -5.2589, -4.7719, -4.8709, -5.2551, -5.0992, -5.3905, -5.53, -5.0691, -5.3352, -5.4197, -5.2589, -5.1161, -4.3356, -5.1679, -5.8667, -5.6827, -5.9632, -4.8739, -5.6995, -5.9208, -5.5266, -5.9947, -6.2174, -6.0481, -5.8089, -5.4498, -5.8842, -5.9014, -6.1148, -5.6345, -6.0719, -6.2515, -5.7827, -6.2394, -6.3491, -6.4763, -5.1964, -6.1258, -5.5141, -6.167, -5.8371, -6.4238, -6.1732, -5.5842, -5.0995, -5.4735, -5.4975, -5.4132, -5.263, -4.2479, -5.4535, -5.0642, -5.0563, -5.3515, -5.4223, -5.1201, -5.2373, -5.4119, -5.5316, -5.5674, -5.3235, -5.6258, -5.5587, -5.5307, -5.6277, -5.0441, -5.4298, -4.7914, -5.8071, -5.3601, -4.7839, -4.8287, -5.5452, -5.8832, -5.6942, -4.5027, -4.6153, -5.8515, -4.6016, -5.941, -6.0465, -5.5092, -5.2053, -5.7924, -5.4065, -5.7257, -5.712, -5.0722, -5.998, -5.7279, -5.7206, -6.3311, -5.8644, -5.6884, -6.2264, -4.5115, -5.6265, -5.3581, -4.2275, -5.0821, -4.942, -5.0429, -5.2351, -5.2125, -5.4698, -4.7299, -5.1692, -5.0055, -5.2878, -5.3571, -5.3484, -5.3829, -5.3993, -5.4618, -4.6905, -5.854, -4.8687, -5.2243, -5.9565, -5.8035, -5.6695, -6.0494, -5.2226, -5.3716, -5.9407, -4.2095, -6.0371, -5.6131, -4.392, -4.8921, -6.0664, -4.7955, -6.0594, -6.006, -5.6697, -5.3766, -4.3059, -4.9241, -6.2094, -5.6677, -5.5572, -5.8702, -6.475, -5.8681, -4.683, -4.5328, -5.032, -4.8849, -4.6987, -5.0045, -5.6261, -4.4713, -4.5591, -5.1963, -5.1751, -5.2318, -5.2103, -5.1951, -5.3554, -5.4188, -5.5129, -5.5373, -5.5377, -1.4, -1.2921, -2.3624, -2.9699, -3.7535, -3.8261, -3.645, -3.9943, -4.0079, -3.5859, -4.1313, -4.3862, -4.9784, -8.7138, -8.7139, -8.7139, -8.7139, -8.7138, -8.7138, -8.7138, -8.7138, -8.7135, -8.7138, -8.7139, -8.7139, -8.7139, -8.7139, -8.7139, -8.7131, -8.7139, -8.7138, -8.7102, -8.711, -8.7115, -8.7122, -8.7123, -8.7124, -8.7127, -8.713, -8.7131, -8.7132, -8.7133, -8.7133, -8.7134, -8.7134, -8.7134, -8.7134, -0.5737, -1.398, -8.5695, -8.5693, -8.5689, -8.5694, -8.5694, -8.5693, -8.5694, -8.5695, -8.5695, -8.5694, -8.5694, -8.5695, -8.5694, -8.5695, -8.5694, -8.5694, -8.5694, -8.5695, -8.5694, -8.5694, -8.5694, -8.5695, -8.5695, -8.5695, -8.5693, -8.5695, -8.5694, -8.5694, -8.4905, -8.5526, -8.5533, -8.5511, -8.5565, -8.5664, -8.5671, -8.5603, -8.5656, -8.5664, -8.5666, -8.5671, -8.5672, -8.5674, -8.5675, -8.5681, -8.5682, -8.5682, -8.5683, -8.5684, -8.5685, -8.5685, -8.5686, -8.5686, -8.5686, -8.5687, -8.5687, -8.5688, -1.2121, -2.6235, -4.0175, -7.396, -7.396, -7.396, -7.396, -7.396, -7.396, -7.396, -7.396, -7.396, -7.396, -7.396, -7.396, -7.396, -7.396, -7.396, -7.396, -7.396, -7.396, -7.3959, -7.396, -7.396, -7.396, -7.396, -7.3959, -7.396, -7.3959, -7.396, -7.3944, -7.3909, -7.3937, -7.395, -7.3954, -7.3955, -7.3955, -7.3956, -7.3956, -7.3956, -7.3956, -7.3956, -7.3957, -7.3957, -7.3957, -7.3958, -7.3958, -7.3958, -7.3958, -7.3958, -7.3958, -7.3958, -7.3958, -7.3958, -7.3958, -7.3958, -7.3958, -6.9078, -6.9078, -6.9078, -6.9078, -6.9078, -6.9078, -6.9078, -6.9078, -6.9078, -6.9078, -6.9078, -6.9078, -6.9078, -6.9078, -6.9078, -6.9078, -6.9078, -6.9078, -6.9078, -6.9078, -6.9078, -6.9078, -6.9078, -6.9077, -6.9078, -6.9078, -6.9078, -6.9078, -6.9078, -6.9077, -6.9076, -6.9076, -6.9077, -6.9077, -6.9077, -6.9077, -6.9077, -6.9077, -6.9077, -6.9077, -6.9077, -6.9077, -6.9077, -6.9077, -6.9077, -6.9077, -6.9077, -6.9077, -6.9077, -6.9077, -6.9077, -6.9077, -6.9077, -6.9077, -6.9077, -6.9077, -6.9077, -6.9077, -6.9077]}, \"token.table\": {\"Topic\": [1, 2, 3, 4, 5, 6, 7, 8, 9, 10, 1, 2, 3, 4, 5, 6, 7, 8, 9, 10, 1, 2, 3, 4, 5, 6, 7, 8, 9, 10, 1, 2, 3, 4, 5, 6, 7, 8, 9, 10, 1, 2, 3, 4, 5, 6, 7, 8, 9, 10, 1, 2, 3, 4, 5, 6, 7, 8, 9, 10, 1, 2, 3, 4, 5, 6, 7, 8, 9, 10, 1, 2, 3, 4, 5, 6, 7, 8, 9, 10, 1, 2, 3, 4, 5, 6, 7, 8, 9, 10, 1, 2, 3, 4, 6, 7, 8, 9, 10, 1, 2, 3, 4, 5, 6, 7, 8, 9, 10, 1, 2, 3, 4, 5, 6, 7, 8, 9, 10, 1, 2, 3, 4, 5, 6, 7, 8, 9, 10, 1, 2, 3, 4, 5, 6, 7, 8, 9, 10, 1, 2, 3, 4, 5, 6, 7, 8, 9, 10, 1, 2, 3, 4, 5, 6, 7, 8, 9, 10, 1, 2, 3, 4, 5, 6, 7, 8, 9, 10, 1, 2, 3, 4, 5, 6, 7, 8, 9, 10, 1, 2, 3, 4, 5, 6, 7, 8, 9, 10, 1, 2, 3, 5, 6, 7, 8, 9, 10, 1, 2, 3, 4, 5, 6, 7, 8, 9, 10, 1, 2, 3, 4, 5, 6, 7, 8, 9, 10, 1, 2, 3, 4, 5, 6, 7, 8, 9, 10, 1, 2, 3, 4, 5, 6, 7, 8, 9, 10, 1, 2, 3, 4, 5, 6, 7, 8, 9, 10, 1, 2, 3, 6, 7, 8, 9, 10, 1, 2, 3, 4, 5, 6, 7, 8, 9, 10, 1, 2, 3, 4, 5, 6, 7, 8, 9, 10, 1, 2, 3, 4, 5, 6, 7, 8, 9, 10, 1, 2, 3, 4, 5, 6, 7, 8, 9, 10, 1, 2, 3, 4, 5, 6, 7, 8, 9, 10, 1, 2, 3, 4, 5, 6, 7, 8, 9, 10, 1, 2, 3, 4, 5, 6, 7, 8, 9, 10, 1, 2, 4, 5, 6, 7, 8, 9, 10, 1, 2, 3, 4, 5, 6, 7, 8, 9, 10, 1, 2, 3, 4, 5, 6, 7, 8, 9, 10, 2, 3, 7, 8, 9, 10, 1, 2, 5, 6, 7, 8, 9, 10, 1, 2, 3, 4, 5, 6, 7, 8, 9, 10, 1, 2, 3, 4, 5, 6, 7, 8, 9, 10, 1, 2, 3, 5, 6, 7, 8, 9, 10, 1, 2, 3, 4, 5, 6, 7, 8, 9, 10, 1, 2, 3, 4, 5, 6, 7, 8, 9, 10, 1, 2, 3, 4, 5, 6, 7, 8, 9, 10, 1, 2, 3, 5, 6, 7, 8, 9, 10, 1, 2, 3, 5, 6, 7, 8, 9, 10, 1, 2, 3, 5, 6, 7, 8, 9, 10, 1, 2, 3, 4, 5, 6, 7, 8, 9, 10, 1, 2, 3, 4, 5, 6, 7, 8, 9, 10, 1, 2, 3, 4, 5, 6, 7, 8, 9, 10, 1, 2, 3, 4, 5, 6, 7, 8, 9, 10, 1, 2, 3, 4, 5, 6, 7, 8, 9, 10, 1, 2, 3, 4, 5, 6, 7, 8, 9, 10, 1, 2, 3, 4, 5, 6, 7, 8, 9, 10, 1, 2, 3, 4, 5, 6, 7, 8, 9, 10, 1, 2, 3, 5, 6, 7, 8, 9, 10, 1, 2, 3, 5, 6, 7, 8, 9, 10, 1, 2, 3, 4, 5, 6, 7, 8, 9, 10, 1, 2, 3, 5, 6, 7, 8, 9, 10, 1, 2, 3, 4, 5, 6, 7, 8, 9, 10, 1, 2, 3, 4, 5, 6, 7, 8, 9, 10, 1, 2, 3, 5, 6, 7, 8, 9, 10, 1, 2, 3, 4, 5, 6, 7, 8, 9, 10, 2, 3, 4, 5, 6, 7, 8, 9, 10, 5, 6, 7, 8, 9, 10, 1, 2, 3, 4, 5, 6, 7, 8, 9, 10, 1, 2, 3, 4, 5, 6, 7, 8, 9, 10, 1, 2, 3, 4, 5, 6, 7, 8, 9, 10, 1, 2, 3, 4, 5, 6, 7, 8, 9, 10, 1, 2, 3, 4, 5, 6, 7, 8, 9, 10, 1, 2, 3, 5, 6, 7, 8, 9, 10, 1, 2, 3, 5, 6, 7, 8, 9, 10, 1, 2, 3, 4, 5, 6, 7, 8, 9, 10, 1, 2, 3, 4, 5, 6, 7, 8, 9, 10, 1, 2, 3, 4, 5, 6, 7, 8, 9, 10, 1, 2, 3, 4, 5, 6, 7, 8, 9, 10, 1, 2, 6, 7, 8, 9, 10, 1, 2, 3, 4, 5, 6, 7, 8, 9, 10, 1, 2, 3, 4, 5, 6, 7, 8, 9, 10, 1, 2, 3, 5, 6, 7, 8, 9, 10, 1, 2, 3, 4, 5, 6, 7, 8, 9, 10, 1, 2, 3, 5, 6, 7, 8, 9, 10, 1, 2, 3, 4, 5, 6, 7, 8, 9, 10, 1, 2, 3, 4, 5, 6, 7, 8, 9, 10, 1, 2, 3, 4, 5, 6, 7, 8, 9, 10, 1, 2, 3, 4, 5, 6, 7, 8, 9, 10, 1, 2, 3, 5, 6, 7, 8, 9, 10, 1, 2, 3, 4, 5, 6, 7, 8, 9, 10, 1, 2, 3, 4, 5, 6, 7, 8, 9, 10, 1, 2, 3, 4, 5, 6, 7, 8, 9, 10, 1, 2, 3, 4, 5, 6, 7, 8, 9, 10, 1, 2, 3, 4, 5, 6, 7, 8, 9, 10, 1, 2, 3, 5, 6, 7, 8, 9, 10, 1, 2, 3, 4, 5, 6, 7, 8, 9, 10, 1, 2, 3, 5, 6, 7, 8, 9, 10, 1, 2, 3, 4, 5, 6, 7, 8, 9, 10, 1, 2, 3, 4, 5, 6, 7, 8, 9, 10, 1, 2, 3, 4, 5, 6, 7, 8, 9, 10, 1, 2, 3, 4, 5, 6, 7, 8, 9, 10, 1, 2, 3, 4, 5, 6, 7, 8, 9, 10, 2, 3, 5, 6, 7, 8, 9, 10, 1, 2, 3, 4, 5, 6, 7, 8, 9, 10, 1, 2, 3, 4, 5, 6, 7, 8, 9, 10, 1, 2, 3, 4, 5, 6, 7, 8, 9, 10, 1, 2, 3, 4, 5, 6, 7, 8, 9, 10, 1, 2, 3, 4, 5, 6, 7, 8, 9, 10, 1, 2, 3, 4, 5, 6, 7, 8, 9, 10, 1, 2, 3, 4, 5, 6, 7, 8, 9, 10, 1, 2, 3, 4, 5, 6, 7, 8, 9, 10, 1, 2, 4, 5, 6, 7, 8, 9, 10, 1, 2, 3, 4, 5, 6, 7, 8, 9, 10, 1, 2, 3, 4, 5, 6, 7, 8, 9, 10, 1, 2, 3, 4, 5, 6, 7, 8, 9, 10, 1, 2, 3, 5, 6, 7, 8, 9, 10, 1, 2, 3, 5, 6, 7, 8, 9, 10, 3, 5, 7, 8, 9, 10, 1, 2, 3, 4, 5, 6, 7, 8, 9, 10, 1, 2, 3, 4, 5, 6, 7, 8, 9, 10, 1, 2, 3, 4, 5, 6, 7, 8, 9, 10, 1, 2, 3, 5, 6, 7, 8, 9, 10, 1, 2, 3, 4, 6, 7, 8, 9, 10, 1, 2, 3, 4, 5, 6, 7, 8, 9, 10, 1, 2, 3, 4, 5, 6, 7, 8, 9, 10, 1, 2, 3, 5, 6, 7, 8, 9, 10, 1, 2, 3, 5, 6, 7, 8, 9, 10, 1, 2, 3, 4, 5, 6, 7, 8, 9, 10, 1, 2, 4, 5, 6, 7, 8, 9, 10, 1, 2, 3, 5, 6, 7, 8, 9, 10, 1, 2, 3, 4, 5, 6, 7, 8, 9, 10, 1, 2, 4, 5, 6, 7, 8, 9, 10, 1, 2, 3, 4, 5, 6, 7, 8, 9, 10, 1, 2, 3, 4, 5, 6, 7, 8, 9, 10, 1, 2, 3, 4, 5, 6, 7, 8, 9, 10, 1, 2, 3, 4, 5, 6, 7, 8, 9, 10, 1, 2, 3, 4, 5, 6, 7, 8, 9, 10, 1, 2, 3, 4, 5, 6, 7, 8, 9, 10, 1, 2, 3, 4, 5, 6, 7, 8, 9, 10, 1, 2, 3, 5, 6, 7, 8, 9, 10, 1, 2, 3, 4, 5, 6, 7, 8, 9, 10, 1, 2, 3, 4, 5, 6, 7, 8, 9, 10, 1, 2, 3, 5, 6, 7, 8, 9, 10, 1, 2, 3, 4, 5, 6, 7, 8, 9, 10, 1, 2, 3, 4, 5, 6, 7, 8, 9, 10, 1, 2, 3, 4, 5, 6, 7, 8, 9, 10, 1, 2, 3, 4, 5, 6, 7, 8, 9, 10, 1, 2, 3, 5, 6, 7, 8, 9, 10, 1, 2, 3, 4, 5, 6, 7, 8, 9, 10, 1, 2, 3, 4, 5, 6, 7, 8, 9, 10, 1, 2, 3, 4, 5, 6, 7, 8, 9, 10, 1, 2, 3, 5, 6, 7, 8, 9, 10, 1, 2, 3, 4, 5, 6, 7, 8, 9, 10, 1, 2, 3, 4, 5, 6, 7, 8, 9, 10, 1, 2, 3, 4, 5, 6, 7, 8, 9, 10, 1, 2, 3, 4, 5, 6, 7, 8, 9, 10, 1, 2, 3, 5, 6, 7, 8, 9, 10, 1, 2, 3, 4, 5, 6, 7, 8, 9, 10, 2, 3, 7, 8, 9, 10, 1, 2, 3, 4, 5, 6, 7, 8, 9, 10, 1, 2, 3, 4, 5, 6, 7, 8, 9, 10, 1, 2, 3, 5, 6, 7, 8, 9, 10, 1, 2, 3, 4, 5, 6, 7, 8, 9, 10, 1, 2, 3, 4, 6, 7, 8, 9, 10, 1, 2, 3, 4, 5, 6, 7, 8, 9, 10, 1, 2, 4, 5, 6, 7, 8, 9, 10, 1, 2, 3, 4, 5, 6, 7, 8, 9, 10, 1, 2, 3, 4, 5, 6, 7, 8, 9, 10, 1, 2, 3, 5, 6, 7, 8, 9, 10, 1, 2, 3, 6, 7, 8, 9, 10, 1, 2, 3, 4, 5, 6, 7, 8, 9, 10, 1, 2, 3, 4, 5, 6, 7, 8, 9, 10, 1, 2, 4, 5, 6, 7, 8, 9, 10, 1, 2, 3, 4, 5, 6, 7, 8, 9, 10, 1, 2, 3, 5, 6, 7, 8, 9, 10, 1, 2, 3, 4, 5, 6, 7, 8, 9, 10, 1, 2, 3, 4, 5, 6, 7, 8, 9, 10, 1, 2, 3, 4, 5, 6, 7, 8, 9, 10, 1, 2, 3, 4, 5, 6, 7, 8, 9, 10, 1, 2, 3, 4, 5, 6, 7, 8, 9, 10, 1, 2, 3, 4, 5, 6, 7, 8, 9, 10, 1, 2, 3, 4, 5, 6, 7, 8, 9, 10, 1, 2, 3, 4, 5, 6, 7, 8, 9, 10, 1, 2, 3, 4, 5, 6, 7, 8, 9, 10, 1, 2, 3, 4, 5, 6, 7, 8, 9, 10, 1, 2, 3, 4, 5, 6, 7, 8, 9, 10, 1, 2, 3, 4, 5, 6, 7, 8, 9, 10, 1, 2, 3, 4, 5, 6, 7, 8, 9, 10, 1, 2, 3, 4, 5, 6, 7, 8, 9, 10, 1, 2, 3, 4, 5, 6, 7, 8, 9, 10, 1, 2, 3, 4, 5, 6, 7, 8, 9, 10, 1, 2, 3, 4, 5, 6, 7, 8, 9, 10, 1, 2, 3, 6, 7, 8, 9, 10, 1, 2, 3, 4, 5, 6, 7, 8, 9, 10, 2, 3, 4, 6, 7, 8, 9, 10, 1, 2, 3, 4, 6, 7, 8, 9, 10, 1, 2, 3, 4, 5, 6, 7, 8, 9, 10, 1, 2, 3, 4, 5, 6, 7, 8, 9, 10, 1, 2, 3, 4, 5, 6, 7, 8, 9, 10, 1, 2, 3, 4, 5, 6, 7, 8, 9, 10, 2, 3, 4, 5, 7, 8, 9, 10, 2, 3, 5, 7, 8, 9, 10, 1, 2, 3, 4, 5, 6, 7, 8, 9, 10, 1, 2, 3, 4, 5, 6, 7, 8, 9, 10, 2, 7, 8, 9, 10, 1, 2, 3, 4, 5, 6, 7, 8, 9, 10, 1, 2, 3, 4, 5, 6, 7, 8, 9, 10, 1, 2, 3, 4, 5, 6, 7, 8, 9, 10, 1, 2, 3, 4, 5, 6, 7, 8, 9, 10, 1, 2, 3, 5, 6, 7, 8, 9, 10, 1, 2, 3, 5, 6, 7, 8, 9, 10, 1, 2, 3, 4, 5, 6, 7, 8, 9, 10, 1, 2, 3, 4, 5, 6, 7, 8, 9, 10, 1, 2, 3, 5, 6, 7, 8, 9, 10, 1, 2, 3, 4, 5, 6, 7, 8, 9, 10, 1, 2, 6, 7, 8, 9, 10, 1, 2, 3, 4, 5, 6, 7, 8, 9, 10, 1, 2, 3, 4, 5, 6, 7, 8, 9, 10, 1, 2, 3, 4, 5, 6, 7, 8, 9, 10, 1, 2, 3, 5, 6, 7, 8, 9, 10, 1, 2, 3, 4, 5, 6, 7, 8, 9, 10, 1, 2, 3, 4, 5, 6, 7, 8, 9, 10, 1, 2, 3, 4, 5, 6, 7, 8, 9, 10, 2, 3, 4, 6, 7, 8, 9, 10, 1, 2, 3, 4, 5, 6, 7, 8, 9, 10, 1, 2, 3, 4, 5, 6, 7, 8, 9, 10, 1, 2, 3, 4, 5, 6, 7, 8, 9, 10, 1, 2, 3, 4, 5, 6, 7, 8, 9, 10, 1, 2, 3, 4, 5, 6, 7, 8, 9, 10, 1, 2, 3, 4, 5, 6, 7, 8, 9, 10, 1, 2, 3, 4, 5, 6, 7, 8, 9, 10, 1, 2, 3, 4, 5, 6, 7, 8, 9, 10, 1, 2, 3, 4, 5, 6, 7, 8, 9, 10, 1, 2, 3, 4, 5, 6, 7, 8, 9, 10, 1, 2, 3, 4, 5, 6, 7, 8, 9, 10, 1, 2, 3, 4, 5, 6, 7, 8, 9, 10, 1, 2, 3, 4, 5, 6, 7, 8, 9, 10, 1, 2, 3, 4, 5, 6, 7, 8, 9, 10, 1, 2, 3, 4, 5, 6, 7, 8, 9, 10, 1, 2, 3, 5, 6, 7, 8, 9, 10, 1, 2, 3, 4, 5, 6, 7, 8, 9, 10, 1, 2, 3, 4, 5, 6, 7, 8, 9, 10, 1, 2, 3, 4, 5, 6, 7, 8, 9, 10, 1, 2, 3, 4, 5, 6, 7, 8, 9, 10, 1, 2, 3, 4, 5, 6, 7, 8, 9, 10, 1, 2, 3, 4, 5, 6, 7, 8, 9, 10, 1, 3, 5, 6, 7, 8, 9, 10, 1, 2, 3, 4, 5, 6, 7, 8, 9, 10, 1, 2, 3, 4, 5, 6, 7, 8, 9, 10, 1, 2, 3, 4, 5, 6, 7, 8, 9, 10, 1, 2, 3, 4, 5, 6, 7, 8, 9, 10, 1, 2, 3, 4, 6, 7, 8, 9, 10, 2, 3, 4, 5, 6, 7, 8, 9, 10, 1, 2, 3, 4, 5, 6, 7, 8, 9, 10, 1, 2, 3, 4, 6, 7, 8, 9, 10, 1, 2, 5, 6, 7, 8, 9, 10, 1, 2, 3, 4, 5, 6, 7, 8, 9, 10, 1, 2, 3, 4, 5, 6, 7, 8, 9, 10, 1, 2, 3, 4, 5, 6, 7, 8, 9, 10, 1, 2, 3, 4, 5, 6, 7, 8, 9, 10, 1, 2, 3, 4, 5, 6, 7, 8, 9, 10, 1, 2, 3, 4, 5, 6, 7, 8, 9, 10, 1, 2, 3, 4, 5, 6, 7, 8, 9, 10, 1, 2, 3, 4, 5, 6, 7, 8, 9, 10, 1, 2, 3, 4, 5, 6, 7, 8, 9, 10, 1, 2, 3, 4, 5, 6, 7, 8, 9, 10, 1, 2, 3, 5, 6, 7, 8, 9, 10, 1, 2, 3, 4, 5, 6, 7, 8, 9, 10, 1, 2, 3, 4, 5, 6, 7, 8, 9, 10, 1, 2, 3, 5, 6, 7, 8, 9, 10, 1, 2, 3, 5, 6, 7, 8, 9, 10, 1, 2, 3, 4, 5, 6, 7, 8, 9, 10, 1, 2, 3, 4, 5, 6, 7, 8, 9, 10, 1, 2, 3, 4, 5, 6, 7, 8, 9, 10, 1, 2, 3, 5, 6, 7, 8, 9, 10, 1, 2, 3, 6, 7, 8, 9, 10, 1, 2, 3, 4, 5, 6, 7, 8, 9, 10, 1, 2, 3, 4, 5, 6, 7, 8, 9, 10, 1, 2, 3, 4, 5, 6, 7, 8, 9, 10, 1, 2, 3, 4, 5, 6, 7, 8, 9, 10, 1, 2, 3, 4, 5, 6, 7, 8, 9, 10, 1, 2, 3, 4, 5, 6, 7, 8, 9, 10, 1, 2, 3, 4, 5, 6, 7, 8, 9, 10, 1, 2, 3, 4, 5, 6, 7, 8, 9, 10, 1, 2, 3, 4, 5, 6, 7, 8, 9, 10, 1, 2, 3, 4, 5, 6, 7, 8, 9, 10, 1, 2, 3, 4, 5, 6, 7, 8, 9, 10, 1, 2, 3, 4, 5, 6, 7, 8, 9, 10, 1, 2, 3, 4, 5, 6, 7, 8, 9, 10, 1, 2, 3, 4, 5, 6, 7, 8, 9, 10, 1, 2, 3, 4, 5, 6, 7, 8, 9, 10, 1, 2, 3, 4, 5, 6, 7, 8, 9, 10, 1, 2, 3, 4, 5, 6, 7, 8, 9, 10, 1, 2, 3, 4, 5, 6, 7, 8, 9, 10, 1, 2, 3, 4, 5, 6, 7, 8, 9, 10, 1, 2, 3, 4, 5, 6, 7, 8, 9, 10, 1, 2, 3, 4, 5, 6, 7, 8, 9, 10, 1, 2, 3, 4, 5, 6, 7, 8, 9, 10, 1, 2, 3, 4, 5, 6, 7, 8, 9, 10, 1, 2, 3, 5, 6, 7, 8, 9, 10, 1, 2, 3, 5, 6, 7, 8, 9, 10, 1, 2, 6, 7, 8, 9, 10, 1, 2, 3, 4, 5, 6, 7, 8, 9, 10, 1, 2, 3, 4, 5, 6, 7, 8, 9, 10, 1, 2, 3, 4, 5, 6, 7, 8, 9, 10, 1, 2, 4, 5, 6, 7, 8, 9, 10, 1, 2, 3, 4, 5, 6, 7, 8, 9, 10, 1, 2, 3, 4, 5, 6, 7, 8, 9, 10, 2, 3, 5, 6, 7, 8, 9, 10, 1, 2, 3, 4, 5, 6, 7, 8, 9, 10, 1, 2, 3, 4, 5, 6, 7, 8, 9, 10, 1, 2, 3, 4, 5, 6, 7, 8, 9, 10, 1, 2, 3, 5, 6, 7, 8, 9, 10, 1, 2, 3, 4, 5, 7, 8, 9, 10, 1, 2, 3, 4, 5, 6, 7, 8, 9, 10, 1, 2, 3, 4, 5, 6, 7, 8, 9, 10, 3, 7, 8, 9, 10, 1, 2, 3, 4, 5, 6, 7, 8, 9, 10, 1, 2, 3, 4, 5, 6, 7, 8, 9, 10, 1, 2, 3, 4, 5, 6, 7, 8, 9, 10, 1, 2, 3, 4, 5, 6, 7, 8, 9, 10, 1, 2, 3, 4, 5, 6, 7, 8, 9, 10, 1, 2, 3, 4, 5, 6, 7, 8, 9, 10, 1, 2, 3, 4, 5, 6, 7, 8, 9, 10, 1, 2, 3, 4, 5, 6, 7, 8, 9, 10, 1, 2, 3, 5, 6, 7, 8, 9, 10, 1, 2, 3, 4, 5, 6, 7, 8, 9, 10, 1, 2, 3, 4, 5, 6, 7, 8, 9, 10, 1, 2, 3, 4, 5, 6, 7, 8, 9, 10, 1, 2, 3, 4, 5, 6, 7, 8, 9, 10, 1, 2, 3, 4, 5, 6, 7, 8, 9, 10, 1, 2, 3, 4, 5, 6, 7, 8, 9, 10, 1, 2, 3, 4, 5, 6, 7, 8, 9, 10, 1, 2, 3, 4, 5, 6, 7, 8, 9, 10, 1, 2, 3, 4, 5, 6, 7, 8, 9, 10, 1, 2, 3, 4, 5, 6, 7, 8, 9, 10, 1, 2, 3, 4, 5, 6, 7, 8, 9, 10, 1, 2, 3, 4, 5, 6, 7, 8, 9, 10, 1, 2, 3, 4, 5, 6, 7, 8, 9, 10, 1, 2, 3, 4, 5, 6, 7, 8, 9, 10], \"Freq\": [0.1306580110358425, 0.26335755349412, 0.09391044543201178, 0.36135106177100185, 0.0632874740954862, 0.06941206836279132, 0.002041531422435039, 0.002041531422435039, 0.004083062844870078, 0.008166125689740155, 0.36976760071883347, 0.11885387165962505, 0.07483391919309725, 0.1672758193728056, 0.12325586690627782, 0.11445187641297226, 0.0044019952466527795, 0.0044019952466527795, 0.008803990493305559, 0.017607980986611118, 0.29601325765706527, 0.17469634878121884, 0.10675887981074485, 0.203812406911422, 0.053379439905372424, 0.1261695852308803, 0.004852676355033857, 0.004852676355033857, 0.009705352710067713, 0.019410705420135427, 0.3561568050379206, 0.15091390043979686, 0.07243867221110249, 0.20524290459812372, 0.042255892123143124, 0.12676767636942937, 0.006036556017591874, 0.006036556017591874, 0.012073112035183749, 0.024146224070367497, 0.2129449817491717, 0.10883854622735442, 0.061517439171982935, 0.14196332116611446, 0.03785688564429719, 0.07571377128859438, 0.004732110705537149, 0.004732110705537149, 0.3359798600931376, 0.018928442822148596, 0.19664815034411318, 0.07478169097593036, 0.026312076454494016, 0.0637029219424592, 0.17726030453553865, 0.05816353742572362, 0.0013848461291838957, 0.0013848461291838957, 0.39468114681741023, 0.005539384516735583, 0.1678308691171837, 0.0541389900378012, 0.0541389900378012, 0.01624169701134036, 0.6550817794573944, 0.010827798007560238, 0.005413899003780119, 0.005413899003780119, 0.010827798007560238, 0.021655596015120477, 0.289989586143075, 0.24074607151500568, 0.0875440260054566, 0.20791706176295946, 0.03830051137738727, 0.09301552763079765, 0.005471501625341038, 0.005471501625341038, 0.010943003250682076, 0.02188600650136415, 0.28642266741670747, 0.1979686083615478, 0.07160566685417687, 0.24430168691425047, 0.06739356880393117, 0.09687825515565106, 0.004212098050245698, 0.004212098050245698, 0.008424196100491397, 0.016848392200982793, 0.4232806757626127, 0.39388618439020906, 0.011757796548961464, 0.041152287921365126, 0.08230457584273025, 0.005878898274480732, 0.005878898274480732, 0.011757796548961464, 0.023515593097922928, 0.25796563937115036, 0.13543196066985394, 0.04514398688995131, 0.43209244594667684, 0.05159312787423007, 0.032245704921393795, 0.006449140984278759, 0.006449140984278759, 0.012898281968557518, 0.025796563937115036, 0.7145205631740463, 0.07145205631740464, 0.030622309850316273, 0.030622309850316273, 0.09186692955094881, 0.037427267594831004, 0.0034024788722573636, 0.0034024788722573636, 0.006804957744514727, 0.013609915489029454, 0.15183700666169275, 0.4247821019702119, 0.16087492372488876, 0.041574418490701585, 0.17352800761336315, 0.03253650142750559, 0.0018075834126391995, 0.0018075834126391995, 0.003615166825278399, 0.007230333650556798, 0.5104498025298295, 0.10634370886038115, 0.028358322362768307, 0.13470203122314944, 0.14179161181384153, 0.028358322362768307, 0.007089580590692077, 0.007089580590692077, 0.014179161181384153, 0.028358322362768307, 0.12260980839017355, 0.18589229013994055, 0.14634073904633618, 0.0316412408748835, 0.4034258211547646, 0.0751479470778483, 0.0039551551093604375, 0.0039551551093604375, 0.007910310218720875, 0.01582062043744175, 0.022251587316277483, 0.2953392498342284, 0.18003557010442692, 0.16385259751077055, 0.30545360770526364, 0.018205844167863396, 0.0020228715742070438, 0.0020228715742070438, 0.0040457431484140875, 0.008091486296828175, 0.11085280681878441, 0.07390187121252294, 0.02463395707084098, 0.20323014583443808, 0.5234715877553708, 0.006158489267710245, 0.006158489267710245, 0.006158489267710245, 0.01231697853542049, 0.02463395707084098, 0.08811475864368236, 0.020560110350192548, 0.5580601380766549, 0.2702185931739592, 0.020560110350192548, 0.020560110350192548, 0.0029371586214560785, 0.0029371586214560785, 0.005874317242912157, 0.011748634485824314, 0.14417768243035559, 0.04713501156377009, 0.05822560251995129, 0.25785623973121286, 0.35767155833684366, 0.11090590956181198, 0.0027726477390452994, 0.0027726477390452994, 0.005545295478090599, 0.011090590956181198, 0.04664710992775148, 0.058308887409689356, 0.46064021053654586, 0.36151510194007397, 0.02332355496387574, 0.005830888740968935, 0.005830888740968935, 0.01166177748193787, 0.02332355496387574, 0.19859852948239798, 0.27043204014624406, 0.021127503136425318, 0.029578504390995443, 0.029578504390995443, 0.07183351066384608, 0.35071655206466024, 0.004225500627285063, 0.008451001254570127, 0.016902002509140254, 0.691481556601968, 0.10514796865854668, 0.042772055047544416, 0.046336392968173115, 0.05346506880943051, 0.046336392968173115, 0.0017821689603143506, 0.0017821689603143506, 0.003564337920628701, 0.007128675841257402, 0.5241095839473965, 0.1893314525742987, 0.06394638464429957, 0.05516942988919962, 0.08150029415449944, 0.07773874211659947, 0.0012538506792999914, 0.0012538506792999914, 0.002507701358599983, 0.005015402717199966, 0.3756829812884776, 0.11391677497134481, 0.08483164093610784, 0.16239199836340643, 0.1526969536849941, 0.09210292444491708, 0.002423761169603081, 0.002423761169603081, 0.004847522339206162, 0.009695044678412324, 0.5436171630298688, 0.0679521453787336, 0.053390971369004975, 0.06309842070882406, 0.17473408811674357, 0.06309842070882406, 0.004853724669909543, 0.004853724669909543, 0.009707449339819086, 0.019414898679638172, 0.029650787274418073, 0.017790472364650846, 0.907314090597193, 0.005930157454883615, 0.005930157454883615, 0.005930157454883615, 0.01186031490976723, 0.02372062981953446, 0.1136061228385293, 0.13699561871705004, 0.24726038500150496, 0.4210109258133733, 0.013365426216297565, 0.040096278648892696, 0.003341356554074391, 0.003341356554074391, 0.006682713108148782, 0.013365426216297565, 0.1680762399462396, 0.07843557864157849, 0.2988022043488704, 0.3473575625555619, 0.059760440869774084, 0.0186751377718044, 0.0037350275543608803, 0.0037350275543608803, 0.0074700551087217605, 0.014940110217443521, 0.05984058005257264, 0.03590434803154358, 0.32313913228389224, 0.48271401242408596, 0.04388309203855326, 0.023936232021029055, 0.003989372003504843, 0.003989372003504843, 0.007978744007009686, 0.01595748801401937, 0.09184415630702056, 0.02216927910859117, 0.04117151834452646, 0.7822588485460027, 0.02216927910859117, 0.015835199363279408, 0.0031670398726558815, 0.0031670398726558815, 0.006334079745311763, 0.012668159490623526, 0.16499906078460402, 0.125171701284872, 0.193447174712984, 0.432411331711376, 0.022758491142704, 0.017068868357028002, 0.005689622785676, 0.005689622785676, 0.011379245571352, 0.022758491142704, 0.5348360045472617, 0.01802817992855938, 0.042065753166638555, 0.3004696654759897, 0.01802817992855938, 0.03605635985711876, 0.0060093933095197935, 0.0060093933095197935, 0.012018786619039587, 0.024037573238079174, 0.3069871609578278, 0.03559271431395105, 0.1216084405726661, 0.3915198574534616, 0.09194784531104022, 0.04152483336627623, 0.0014830297630812938, 0.0014830297630812938, 0.0029660595261625875, 0.005932119052325175, 0.0861794365972393, 0.23699345064240807, 0.15081401404516878, 0.4237155632697599, 0.07540700702258439, 0.003590809858218304, 0.003590809858218304, 0.007181619716436608, 0.014363239432873216, 0.09023906436426969, 0.2055445354963921, 0.12533203383926347, 0.4085824303159989, 0.11781211180890766, 0.03759961015177904, 0.0025066406767852694, 0.0025066406767852694, 0.005013281353570539, 0.010026562707141078, 0.04249893613712943, 0.5557553187163079, 0.17326489348214305, 0.07845957440700818, 0.06865212760613215, 0.05230638293800545, 0.0032691489336253406, 0.0032691489336253406, 0.006538297867250681, 0.013076595734501362, 0.0363767646282171, 0.9154819098101304, 0.00606279410470285, 0.00606279410470285, 0.0121255882094057, 0.0242511764188114, 0.3892187921300943, 0.04128078098349485, 0.0471780354097084, 0.47178035409708396, 0.00589725442621355, 0.00589725442621355, 0.0117945088524271, 0.0235890177048542, 0.19430510562724315, 0.22859424191440372, 0.17716053748366287, 0.1543011132922225, 0.0800079846700413, 0.12001197700506194, 0.0057148560478600926, 0.0057148560478600926, 0.011429712095720185, 0.02285942419144037, 0.24654175401132147, 0.5964719855112617, 0.022268287459087103, 0.012724735690906916, 0.05408012668635439, 0.05408012668635439, 0.0015905919613633645, 0.0015905919613633645, 0.003181183922726729, 0.006362367845453458, 0.04947795455527828, 0.725676666810748, 0.15668018942504788, 0.02473897727763914, 0.021990202024568122, 0.0027487752530710153, 0.0027487752530710153, 0.0054975505061420306, 0.010995101012284061, 0.7683439352022392, 0.017640549532704473, 0.011760366355136314, 0.11956372461055254, 0.017640549532704473, 0.047041465420545256, 0.001960061059189386, 0.001960061059189386, 0.003920122118378772, 0.007840244236757544, 0.22794093627028142, 0.1113199921319979, 0.09541713611314107, 0.4452799685279916, 0.031805712037713686, 0.04770856805657053, 0.005300952006285615, 0.005300952006285615, 0.01060190401257123, 0.02120380802514246, 0.1508389959229781, 0.0050279665307659364, 0.2513983265382968, 0.5128525861381256, 0.03519576571536156, 0.0050279665307659364, 0.0050279665307659364, 0.0050279665307659364, 0.010055933061531873, 0.020111866123063746, 0.07088536938003791, 0.030379444020016244, 0.8303714698804441, 0.016877468900009025, 0.02700395024001444, 0.003375493780001805, 0.003375493780001805, 0.00675098756000361, 0.01350197512000722, 0.03525097021745892, 0.7896217328710798, 0.10222781363063087, 0.014100388086983568, 0.03172587319571303, 0.003525097021745892, 0.003525097021745892, 0.007050194043491784, 0.014100388086983568, 0.4002607501632625, 0.09274334455002424, 0.024406143302637958, 0.12691194517371737, 0.31727986293429344, 0.004881228660527591, 0.004881228660527591, 0.009762457321055183, 0.019524914642110366, 0.307717148550002, 0.08413240391067471, 0.047252446032022784, 0.03457496051123618, 0.2570072064668556, 0.2604647025179792, 0.0011524986837078727, 0.0011524986837078727, 0.0023049973674157454, 0.004609994734831491, 0.3434214510322143, 0.050609476994221046, 0.016267331890999624, 0.009037406606110902, 0.110256360594553, 0.4572927742692116, 0.0018074813212221803, 0.0018074813212221803, 0.0036149626424443605, 0.007229925284888721, 0.2602265472213942, 0.17717552151243862, 0.027683675236318536, 0.4595490089228877, 0.01661020514179112, 0.011073470094527414, 0.005536735047263707, 0.005536735047263707, 0.011073470094527414, 0.022146940189054828, 0.31929477310966625, 0.20851903550019021, 0.006516219859380944, 0.0586459787344285, 0.01954865957814283, 0.3388434326878091, 0.006516219859380944, 0.006516219859380944, 0.013032439718761888, 0.026064879437523777, 0.6886424259643181, 0.02711190653402827, 0.043379050454445234, 0.11387000744291874, 0.021689525227222617, 0.06506857568166785, 0.005422381306805654, 0.005422381306805654, 0.010844762613611308, 0.021689525227222617, 0.20106584196953092, 0.07595820696626723, 0.08042633678781237, 0.07595820696626723, 0.49149428036996445, 0.040213168393906186, 0.004468129821545132, 0.004468129821545132, 0.008936259643090264, 0.017872519286180527, 0.1060445493124442, 0.1060445493124442, 0.05172904844509473, 0.481080150539381, 0.17329231229106734, 0.05948840571185894, 0.0025864524222547368, 0.0025864524222547368, 0.0051729048445094735, 0.010345809689018947, 0.2823187761851545, 0.07473144075489384, 0.02491048025163128, 0.0913384275893147, 0.053972707211867775, 0.03736572037744692, 0.41102292415191616, 0.004151746708605213, 0.008303493417210426, 0.016606986834420853, 0.04270395524638052, 0.08540791049276104, 0.8317103664652207, 0.014234651748793507, 0.010167608391995363, 0.0020335216783990725, 0.0020335216783990725, 0.004067043356798145, 0.00813408671359629, 0.0469426080291016, 0.0834535253850695, 0.8084560271678608, 0.010431690673133688, 0.010431690673133688, 0.005215845336566844, 0.005215845336566844, 0.010431690673133688, 0.020863381346267376, 0.48318642750235974, 0.027610653000134842, 0.013805326500067421, 0.3865491420018878, 0.006902663250033711, 0.027610653000134842, 0.006902663250033711, 0.006902663250033711, 0.013805326500067421, 0.027610653000134842, 0.06734177250929568, 0.007482419167699521, 0.05237693417389665, 0.8081012701115482, 0.007482419167699521, 0.007482419167699521, 0.007482419167699521, 0.014964838335399041, 0.029929676670798083, 0.16852007023816817, 0.17569113705681363, 0.13983580296358636, 0.43026400911872725, 0.017927667046613634, 0.05557576784450227, 0.0017927667046613637, 0.0017927667046613637, 0.0035855334093227273, 0.007171066818645455, 0.2297726152062767, 0.5439514972230224, 0.14067711135078168, 0.009378474090052111, 0.014067711135078166, 0.02813542227015633, 0.0046892370450260555, 0.0046892370450260555, 0.009378474090052111, 0.018756948180104222, 0.360345212579612, 0.01997093949236404, 0.003473206868237224, 0.34211087652136657, 0.26570032542014765, 0.000868301717059306, 0.000868301717059306, 0.001736603434118612, 0.003473206868237224, 0.6027513314336278, 0.03282309230579161, 0.01491958741172346, 0.017903504894068153, 0.24169731606992007, 0.06863010209392792, 0.002983917482344692, 0.002983917482344692, 0.005967834964689384, 0.011935669929378768, 0.06780322741787881, 0.4888969555920736, 0.07137181833460927, 0.003568590916730464, 0.33901613708939404, 0.003568590916730464, 0.003568590916730464, 0.007137181833460928, 0.014274363666921856, 0.9558902288343278, 0.008276105877353487, 0.004138052938676744, 0.004138052938676744, 0.008276105877353487, 0.016552211754706975, 0.041321569572076694, 0.3010571497394159, 0.0629662012526883, 0.017709244102318583, 0.44273110255796455, 0.11806162734879055, 0.0019676937891465094, 0.0019676937891465094, 0.003935387578293019, 0.007870775156586038, 0.1236879592810318, 0.5471619893618525, 0.07547061922232448, 0.08175983749085153, 0.13416998972857686, 0.020964060895090134, 0.0020964060895090134, 0.0020964060895090134, 0.004192812179018027, 0.008385624358036053, 0.10603334271657618, 0.5188865707406919, 0.10828937128501397, 0.02256028568437791, 0.11956951412720293, 0.10828937128501397, 0.002256028568437791, 0.002256028568437791, 0.004512057136875582, 0.009024114273751164, 0.14361308676465806, 0.04569507306148211, 0.1305573516042346, 0.169724557085505, 0.4177835251335507, 0.03916720548127038, 0.00652786758021173, 0.00652786758021173, 0.01305573516042346, 0.02611147032084692, 0.11536942736622793, 0.21792002946954167, 0.1602353157864277, 0.11323295648907557, 0.05127530105165686, 0.05982118456026634, 0.26705885964404613, 0.002136470877152369, 0.004272941754304738, 0.008545883508609476, 0.34448715989264606, 0.04374440125620902, 0.0382763510991829, 0.04374440125620902, 0.4866564639753254, 0.005468050157026128, 0.005468050157026128, 0.010936100314052255, 0.02187220062810451, 0.14345280362376744, 0.5933729604437654, 0.03912349189739112, 0.11084989370927485, 0.06520581982898521, 0.0065205819828985205, 0.0065205819828985205, 0.013041163965797041, 0.026082327931594082, 0.11854819887042266, 0.6542104308034435, 0.06586011048356814, 0.05707876241909239, 0.017562696128951505, 0.052688088386854515, 0.004390674032237876, 0.004390674032237876, 0.008781348064475752, 0.017562696128951505, 0.264571868000924, 0.16890079073273276, 0.2728397388759529, 0.17716866160776162, 0.03070923467867868, 0.0767730866966967, 0.0011811244107184109, 0.0011811244107184109, 0.0023622488214368217, 0.0047244976428736435, 0.04489251836166962, 0.2856796623015339, 0.027207586885860374, 0.2788777655800688, 0.05305479442742773, 0.29928345574446413, 0.0013603793442930187, 0.0013603793442930187, 0.0027207586885860374, 0.005441517377172075, 0.24670643703759035, 0.07684298858547896, 0.028310574742018563, 0.4772354027940272, 0.11324229896807425, 0.024266206921730198, 0.004044367820288366, 0.004044367820288366, 0.008088735640576732, 0.016177471281153464, 0.021898462850538477, 0.005677379257547013, 0.06245117183301714, 0.9043254103092742, 0.0008110541796495733, 0.0016221083592991466, 0.003244216718598293, 0.14605785051048512, 0.224229657825956, 0.448459315651912, 0.04937166777819215, 0.07405750166728822, 0.04114305648182679, 0.0020571528240913395, 0.0020571528240913395, 0.004114305648182679, 0.008228611296365358, 0.2927114982654725, 0.05557813258205174, 0.03705208838803449, 0.4816771490444484, 0.04816771490444484, 0.05928334142085519, 0.003705208838803449, 0.003705208838803449, 0.007410417677606898, 0.014820835355213797, 0.06906703060343722, 0.7969272761935063, 0.03718993955569696, 0.010625697015913418, 0.04250278806365367, 0.005312848507956709, 0.005312848507956709, 0.010625697015913418, 0.021251394031826836, 0.022141417620136813, 0.021377920460821754, 0.016796937504931376, 0.01756043466424644, 0.012215954549041001, 0.012979451708356064, 0.0007634971593150626, 0.0007634971593150626, 0.8925281792393082, 0.0030539886372602503, 0.06837992103701404, 0.06154192893331264, 0.26668169204435477, 0.0068379921037014044, 0.5402013761924109, 0.0068379921037014044, 0.0068379921037014044, 0.013675984207402809, 0.027351968414805618, 0.20929086061934132, 0.2328873792185808, 0.04616710160720765, 0.017440905051611777, 0.16620156578594752, 0.3190659688853684, 0.001025935591271281, 0.001025935591271281, 0.002051871182542562, 0.004103742365085124, 0.06389209051010847, 0.3314402195211877, 0.10781790273580805, 0.12179429753489428, 0.3374301030065104, 0.021962906112849786, 0.0019966278284408896, 0.0019966278284408896, 0.003993255656881779, 0.007986511313763558, 0.15364327272822006, 0.21649733884431008, 0.15364327272822006, 0.17459462810025006, 0.15364327272822006, 0.09777299173614004, 0.006983785124010002, 0.006983785124010002, 0.013967570248020004, 0.02793514049604001, 0.36359186457323445, 0.05835424986977837, 0.04039909606369271, 0.42643490289453423, 0.013466365354564238, 0.06284303832129978, 0.004488788451521413, 0.004488788451521413, 0.008977576903042826, 0.01795515380608565, 0.04075928128422742, 0.04981689934738907, 0.7291382540845127, 0.12227784385268226, 0.022644045157904122, 0.004528809031580824, 0.004528809031580824, 0.009057618063161648, 0.018115236126323295, 0.10762160995990434, 0.20926424158870288, 0.04484233748329348, 0.08669518580103405, 0.4813077556540167, 0.04783182664884637, 0.0029894891655528983, 0.0029894891655528983, 0.005978978331105797, 0.011957956662211593, 0.12385219133512773, 0.14382835122789028, 0.0519380157211826, 0.1478235832064428, 0.4674421414906434, 0.03196185582842006, 0.003995231978552507, 0.003995231978552507, 0.007990463957105015, 0.01598092791421003, 0.47393932293026486, 0.12519151926459826, 0.11736704931056087, 0.010060032798048076, 0.1553716176587425, 0.10842479793451815, 0.0011177814220053417, 0.0011177814220053417, 0.0022355628440106834, 0.004471125688021367, 0.12527661479626873, 0.19487473412752915, 0.11135699093001665, 0.3758298443888062, 0.055678495465008325, 0.08351774319751248, 0.006959811933126041, 0.006959811933126041, 0.013919623866252081, 0.027839247732504162, 0.08799495645205592, 0.39911998105039653, 0.345694471775934, 0.009428031048434564, 0.025141416129158836, 0.10999369556506991, 0.0031426770161448545, 0.0031426770161448545, 0.006285354032289709, 0.012570708064579418, 0.09883443528967759, 0.4571092632147588, 0.25532229116500044, 0.012354304411209698, 0.14825165293451636, 0.004118101470403233, 0.004118101470403233, 0.008236202940806465, 0.01647240588161293, 0.18682692028280923, 0.08342039231232412, 0.08168246747248403, 0.0243309477577612, 0.22245437949953098, 0.39450893864369946, 0.0008689624199200429, 0.0008689624199200429, 0.0017379248398400858, 0.0034758496796801716, 0.11782719574553042, 0.027724046057771866, 0.041586069086657795, 0.09010314968775857, 0.6723081169009677, 0.0069310115144429665, 0.0069310115144429665, 0.013862023028885933, 0.027724046057771866, 0.1394676133730128, 0.04648920445767094, 0.00978720093845704, 0.02936160281537112, 0.7022316673342927, 0.05138280492689946, 0.00244680023461426, 0.00244680023461426, 0.00489360046922852, 0.00978720093845704, 0.2082691459907834, 0.37269215598350713, 0.016442300999272373, 0.1534614759932088, 0.1808653109919961, 0.016442300999272373, 0.005480766999757457, 0.005480766999757457, 0.010961533999514914, 0.02192306799902983, 0.36990866083933216, 0.06527799897164685, 0.032638999485823425, 0.005439833247637237, 0.04895849922873514, 0.42974682656334173, 0.005439833247637237, 0.005439833247637237, 0.010879666495274474, 0.021759332990548948, 0.05566376639684257, 0.6021807455658423, 0.16699129919052771, 0.020241369598851842, 0.05060342399712961, 0.06072410879655553, 0.0050603423997129604, 0.0050603423997129604, 0.010120684799425921, 0.020241369598851842, 0.24199965937098636, 0.1319998142023562, 0.23466633635974435, 0.12466649119111418, 0.1319998142023562, 0.07333323011242011, 0.007333323011242011, 0.007333323011242011, 0.014666646022484022, 0.029333292044968044, 0.01393920318765409, 0.9311387729352932, 0.005575681275061636, 0.02787840637530818, 0.002787840637530818, 0.002787840637530818, 0.005575681275061636, 0.011151362550123271, 0.08344920422728855, 0.041724602113644274, 0.5789288543268143, 0.18776070951139923, 0.0312934515852332, 0.041724602113644274, 0.005215575264205534, 0.005215575264205534, 0.010431150528411069, 0.020862301056822137, 0.020336079951780838, 0.03486185134591001, 0.7553401124947168, 0.10749070831655586, 0.011620617115303336, 0.046482468461213344, 0.002905154278825834, 0.002905154278825834, 0.005810308557651668, 0.011620617115303336, 0.5659558985876103, 0.11284396750979961, 0.06076213635143056, 0.07985880777616587, 0.08333092985339048, 0.08159486881477818, 0.0017360610386123016, 0.0017360610386123016, 0.0034721220772246032, 0.0069442441544492065, 0.7183118127845175, 0.05198309171466903, 0.04725735610424457, 0.0661602985459424, 0.04253162049382011, 0.03780588488339565, 0.004725735610424457, 0.004725735610424457, 0.009451471220848913, 0.018902942441697827, 0.3786621182801239, 0.09115939884521501, 0.13323296754300656, 0.16829427479116618, 0.09817166029484693, 0.07012261449631924, 0.007012261449631924, 0.007012261449631924, 0.014024522899263848, 0.028049045798527697, 0.6614286761659559, 0.05536187157336195, 0.040792958001424594, 0.04662052343019953, 0.13694778757621112, 0.03496539257264965, 0.002913782714387471, 0.002913782714387471, 0.005827565428774942, 0.011655130857549883, 0.32393078079790577, 0.1987757063987149, 0.12515507439919085, 0.12515507439919085, 0.05889650559961923, 0.11043094799928606, 0.007362063199952404, 0.007362063199952404, 0.014724126399904808, 0.029448252799809616, 0.4006155970202927, 0.03453582732933558, 0.020721496397601347, 0.10360748198800673, 0.3453582732933558, 0.03453582732933558, 0.006907165465867116, 0.006907165465867116, 0.013814330931734233, 0.027628661863468466, 0.040008292479444076, 0.011430940708412591, 0.0657279090733724, 0.8516050827767381, 0.008573205531309445, 0.002857735177103148, 0.002857735177103148, 0.005715470354206296, 0.011430940708412591, 0.6993374024995298, 0.0548499923529043, 0.020568747132339114, 0.04799374330879126, 0.07541873948524341, 0.04799374330879126, 0.006856249044113038, 0.006856249044113038, 0.013712498088226076, 0.02742499617645215, 0.05635790983997179, 0.520226860061278, 0.02384373108614191, 0.1322243269322415, 0.16690611760299337, 0.08453686475995768, 0.0021676119169219917, 0.0021676119169219917, 0.0043352238338439835, 0.008670447667687967, 0.6822583468284541, 0.06132659297334418, 0.04216203266917413, 0.07665824121668023, 0.04216203266917413, 0.0651595050341782, 0.0038329120608340114, 0.0038329120608340114, 0.007665824121668023, 0.015331648243336046, 0.031183979293809866, 0.4209837204664332, 0.2806558136442888, 0.08315727811682631, 0.14552523670444603, 0.005197329882301645, 0.005197329882301645, 0.01039465976460329, 0.02078931952920658, 0.07039452836787992, 0.570566177297553, 0.17042885815381453, 0.10003432978593463, 0.06298457801336624, 0.003704975177256838, 0.003704975177256838, 0.007409950354513676, 0.014819900709027351, 0.0177586920669189, 0.9293715515020892, 0.0059195640223063005, 0.0059195640223063005, 0.011839128044612601, 0.023678256089225202, 0.12655357832345288, 0.11073438103302126, 0.3427492746260182, 0.32517238874776083, 0.035153771756514685, 0.04569990328346909, 0.0017576885878257341, 0.0017576885878257341, 0.0035153771756514683, 0.0070307543513029366, 0.05756510927105554, 0.14112736466452327, 0.4846610812821128, 0.08727613341095518, 0.183836961865629, 0.031567963148643366, 0.0018569390087437273, 0.0018569390087437273, 0.0037138780174874545, 0.007427756034974909, 0.19081983109832557, 0.13629987935594684, 0.07747572089706452, 0.12051778806210037, 0.27403449428406157, 0.1893850955261577, 0.0014347355721678614, 0.0014347355721678614, 0.002869471144335723, 0.005738942288671446, 0.19745042422072004, 0.14103601730051432, 0.062055847612226295, 0.5302954250499338, 0.02256576276808229, 0.005641440692020572, 0.005641440692020572, 0.011282881384041144, 0.02256576276808229, 0.03230094458862104, 0.06460188917724208, 0.5060481318883964, 0.2584075567089683, 0.09690283376586313, 0.005383490764770174, 0.005383490764770174, 0.010766981529540347, 0.021533963059080695, 0.1101512132693946, 0.5999725658928727, 0.060934713723494884, 0.05624742805245682, 0.058591070887975855, 0.09374571342076136, 0.002343642835519034, 0.002343642835519034, 0.004687285671038068, 0.009374571342076136, 0.19416075346542014, 0.21496369133671514, 0.1386862524753001, 0.11094900198024008, 0.07627743886141505, 0.20802937871295013, 0.006934312623765005, 0.006934312623765005, 0.01386862524753001, 0.02773725049506002, 0.06475930206418307, 0.029888908645007567, 0.7671486552218609, 0.014944454322503783, 0.08468524116085477, 0.004981484774167928, 0.004981484774167928, 0.009962969548335856, 0.019925939096671712, 0.10303901372048656, 0.030053045668475244, 0.7212730960434058, 0.02146646119176803, 0.09445242924377933, 0.004293292238353607, 0.004293292238353607, 0.008586584476707213, 0.017173168953414426, 0.5779111747540707, 0.1376661855493568, 0.045888728516452267, 0.05736091064556533, 0.0946455025651828, 0.07456918383923493, 0.0014340227661391333, 0.0014340227661391333, 0.0028680455322782667, 0.005736091064556533, 0.6728960425713553, 0.018351710251946055, 0.21410328627270397, 0.024468947002594738, 0.024468947002594738, 0.0061172367506486846, 0.0061172367506486846, 0.012234473501297369, 0.024468947002594738, 0.13748603099709178, 0.38954375449176004, 0.28872066509389277, 0.11915456019747954, 0.03208007389932142, 0.004582867699903059, 0.004582867699903059, 0.009165735399806118, 0.018331470799612237, 0.54998507460407, 0.1423490781328181, 0.0659982089524884, 0.06858637400944873, 0.07635086918032971, 0.08670352940817103, 0.0012940825284801646, 0.0012940825284801646, 0.002588165056960329, 0.005176330113920658, 0.7507975848443837, 0.0478215022193875, 0.00478215022193875, 0.03347505155357125, 0.12911805599234624, 0.00478215022193875, 0.00478215022193875, 0.0095643004438775, 0.019128600887755, 0.6935715551345104, 0.06397019197842571, 0.020201113256344962, 0.06060333976903489, 0.0740707486065982, 0.06060333976903489, 0.003366852209390827, 0.003366852209390827, 0.006733704418781654, 0.013467408837563309, 0.06382397460398787, 0.253445928137575, 0.27009566064296314, 0.21274658201329288, 0.09804842475395237, 0.09434848419719945, 0.0009249851391882299, 0.0009249851391882299, 0.0018499702783764597, 0.0036999405567529195, 0.10902924334489224, 0.4439047764756327, 0.062302424768509855, 0.17911947120946584, 0.07787803096063732, 0.062302424768509855, 0.007787803096063732, 0.007787803096063732, 0.015575606192127464, 0.031151212384254928, 0.6956207309776096, 0.06873722638118672, 0.06598773732593925, 0.032993868662969626, 0.06048875921544431, 0.05498978110494938, 0.002749489055247469, 0.002749489055247469, 0.005498978110494938, 0.010997956220989875, 0.18670063753863872, 0.1965269868827776, 0.15581782531420224, 0.3144431790124442, 0.05053551091271424, 0.0842258515211904, 0.00140376419201984, 0.00140376419201984, 0.00280752838403968, 0.00561505676807936, 0.040005662216573305, 0.004364254059989815, 0.0007273756766649691, 0.03636878383324846, 0.005091629736654784, 0.005819005413319753, 0.9034005904178917, 0.0007273756766649691, 0.0014547513533299382, 0.0029095027066598765, 0.8134505274736187, 0.01768370711899171, 0.013262780339243782, 0.026525560678487565, 0.057472048136723054, 0.030946487458235493, 0.004420926779747927, 0.004420926779747927, 0.008841853559495854, 0.01768370711899171, 0.11875188374515322, 0.014250226049418386, 0.009500150699612258, 0.8027627341172358, 0.019000301399224515, 0.004750075349806129, 0.004750075349806129, 0.009500150699612258, 0.019000301399224515, 0.8676093683560705, 0.01428163569310404, 0.00714081784655202, 0.060696951695692176, 0.01071122676982803, 0.01428163569310404, 0.00357040892327601, 0.00357040892327601, 0.00714081784655202, 0.01428163569310404, 0.1991091085434362, 0.5777428231506263, 0.013056334986454832, 0.1240351823713209, 0.022848586226295955, 0.03916900495936449, 0.003264083746613708, 0.003264083746613708, 0.006528167493227416, 0.013056334986454832, 0.11766998149669304, 0.77252900895655, 0.005116086152030132, 0.010232172304060264, 0.05116086152030132, 0.005116086152030132, 0.005116086152030132, 0.010232172304060264, 0.02046434460812053, 0.5980287179115888, 0.016230424494469008, 0.002496988383764463, 0.0012484941918822314, 0.2259774487306839, 0.14482532625833885, 0.0012484941918822314, 0.0012484941918822314, 0.002496988383764463, 0.004993976767528926, 0.20295841670670997, 0.3554200024624682, 0.09031163996997142, 0.04272808772772842, 0.19810295219219537, 0.10293584770770936, 0.0009710929029029186, 0.0009710929029029186, 0.0019421858058058371, 0.0038843716116116742, 0.68161570399163, 0.029004923574111913, 0.02417076964509326, 0.12568800215448495, 0.04834153929018652, 0.05317569321920517, 0.004834153929018652, 0.004834153929018652, 0.009668307858037304, 0.019336615716074607, 0.2869255237822414, 0.01484097536804697, 0.05441690968283889, 0.5342751132496909, 0.05936390147218788, 0.01484097536804697, 0.00494699178934899, 0.00494699178934899, 0.00989398357869798, 0.01978796715739596, 0.11833504812163088, 0.6415005240277885, 0.0435971229921798, 0.06228160427454257, 0.0871942459843596, 0.006228160427454257, 0.006228160427454257, 0.012456320854908514, 0.024912641709817027, 0.051593813114495554, 0.08512979163891767, 0.29150504409689987, 0.14446267672058755, 0.09544855426181678, 0.31214256934269813, 0.002579690655724778, 0.002579690655724778, 0.005159381311449556, 0.010318762622899111, 0.09335012132584462, 0.6445603615355938, 0.11113109681648169, 0.04000719485393341, 0.04000719485393341, 0.03556195098127414, 0.0044452438726592675, 0.0044452438726592675, 0.008890487745318535, 0.01778097549063707, 0.12938244743990662, 0.11416098303521173, 0.06849658982112704, 0.1420670011104857, 0.4997714146208158, 0.02790601807527398, 0.002536910734115816, 0.002536910734115816, 0.005073821468231632, 0.010147642936463265, 0.06295651872467442, 0.8708985090246628, 0.005246376560389535, 0.005246376560389535, 0.01049275312077907, 0.005246376560389535, 0.005246376560389535, 0.01049275312077907, 0.02098550624155814, 0.04575729785242753, 0.027962793132039043, 0.07117801888155392, 0.06609387467572865, 0.7626216308737921, 0.005084144205825281, 0.0025420721029126405, 0.0025420721029126405, 0.005084144205825281, 0.010168288411650562, 0.08618585694919881, 0.16005944861994065, 0.38168022363216614, 0.2191583219565341, 0.09357321611627299, 0.03939924889106231, 0.0024624530556913945, 0.0024624530556913945, 0.004924906111382789, 0.009849812222765578, 0.04718759729291378, 0.5924664993443619, 0.19923652190341373, 0.015729199097637928, 0.04194453092703447, 0.06291679639055171, 0.005243066365879309, 0.005243066365879309, 0.010486132731758618, 0.020972265463517235, 0.04948407089371823, 0.05906163300217982, 0.027136425973974514, 0.2633829579826938, 0.5666724247506443, 0.02075138456833345, 0.0015962603514102654, 0.0015962603514102654, 0.003192520702820531, 0.006385041405641062, 0.03529350649071162, 0.04537736548805779, 0.8722538032704442, 0.02520964749336544, 0.0025209647493365443, 0.0025209647493365443, 0.0025209647493365443, 0.005041929498673089, 0.010083858997346177, 0.0863600166343073, 0.039254553015594225, 0.6751783118682206, 0.12168911434834209, 0.027478187110915958, 0.019627276507797112, 0.003925455301559423, 0.003925455301559423, 0.007850910603118846, 0.01570182120623769, 0.017214297494733306, 0.9353101638805096, 0.005738099164911102, 0.005738099164911102, 0.011476198329822204, 0.02295239665964441, 0.5444884887126329, 0.007259846516168438, 0.16697646987187406, 0.16697646987187406, 0.050818925613179064, 0.007259846516168438, 0.007259846516168438, 0.007259846516168438, 0.014519693032336876, 0.029039386064673753, 0.12409046108154183, 0.012165731478582532, 0.39173655361035753, 0.42336745545467214, 0.012165731478582532, 0.01459887777429904, 0.0024331462957165066, 0.0024331462957165066, 0.004866292591433013, 0.009732585182866026, 0.08603014128927396, 0.020483366973636657, 0.8357213725243756, 0.012290020184181995, 0.012290020184181995, 0.004096673394727331, 0.004096673394727331, 0.008193346789454662, 0.016386693578909324, 0.21478403648514538, 0.06980481185767225, 0.042956807297029075, 0.042956807297029075, 0.5530688939492494, 0.042956807297029075, 0.005369600912128634, 0.005369600912128634, 0.010739201824257269, 0.021478403648514537, 0.014013421485926192, 0.008408052891555714, 0.0028026842971852384, 0.0037369123962469842, 0.014947649584987937, 0.0009342280990617461, 0.9482415205476723, 0.0018684561981234921, 0.0037369123962469842, 0.3345828526569455, 0.13525689788259498, 0.08542540918900736, 0.19220717067526658, 0.11034115353580118, 0.11745993763488512, 0.003559392049541973, 0.003559392049541973, 0.007118784099083946, 0.014237568198167893, 0.8034905383521124, 0.033950304437413203, 0.0622422248019242, 0.0452670725832176, 0.0113167681458044, 0.0056583840729022, 0.0056583840729022, 0.0113167681458044, 0.0226335362916088, 0.18521724776712634, 0.04094276003273319, 0.08968414102408223, 0.6453358843254613, 0.009748276198269807, 0.015597241917231693, 0.0019496552396539616, 0.0019496552396539616, 0.0038993104793079232, 0.0077986209586158465, 0.7023725421521957, 0.053497662915769205, 0.029337428050583113, 0.048320469730372184, 0.10699532583153841, 0.044869007606774175, 0.0017257310617990068, 0.0017257310617990068, 0.0034514621235980135, 0.006902924247196027, 0.013304349923213507, 0.01108695826934459, 0.9490436278558968, 0.006652174961606754, 0.0044347833077378355, 0.0022173916538689178, 0.0022173916538689178, 0.0044347833077378355, 0.008869566615475671, 0.025177671862881588, 0.005035534372576317, 0.9215027901814661, 0.005035534372576317, 0.005035534372576317, 0.005035534372576317, 0.010071068745152635, 0.02014213749030527, 0.3182576956730873, 0.20509940387821185, 0.11315829179487549, 0.14144786474359436, 0.06365153913461746, 0.10608589855769578, 0.007072393237179718, 0.007072393237179718, 0.014144786474359437, 0.028289572948718873, 0.17428489863843608, 0.3603857226082915, 0.060556617323524395, 0.17428489863843608, 0.11520527198133909, 0.10191235598349227, 0.0014769906664274242, 0.0014769906664274242, 0.0029539813328548483, 0.005907962665709697, 0.15969812001436734, 0.46520756699837446, 0.09720755131309317, 0.10415094783545698, 0.12498113740254836, 0.006943396522363798, 0.006943396522363798, 0.013886793044727596, 0.027773586089455193, 0.14049408515888553, 0.17754747025573447, 0.29797097182049354, 0.11579182842765293, 0.05094840450816729, 0.20379361803266915, 0.001543891045702039, 0.001543891045702039, 0.003087782091404078, 0.006175564182808156, 0.15813446401264872, 0.059300424004743266, 0.046122552003689206, 0.6588936000527029, 0.032944680002635146, 0.006588936000527029, 0.006588936000527029, 0.013177872001054058, 0.026355744002108116, 0.5509660086988727, 0.07063666778190675, 0.028254667112762703, 0.09889133489466946, 0.14833700234200417, 0.04238200066914405, 0.007063666778190676, 0.007063666778190676, 0.014127333556381351, 0.028254667112762703, 0.05326091934510656, 0.7428496645501704, 0.03924488793849957, 0.030835269094535378, 0.022425650250571184, 0.08970260100228473, 0.002803206281321398, 0.002803206281321398, 0.005606412562642796, 0.011212825125285592, 0.211201382591283, 0.2758548670580023, 0.1551683627201263, 0.13361720123121987, 0.10344557514675086, 0.09482511055118828, 0.0043102322977812855, 0.0043102322977812855, 0.008620464595562571, 0.017240929191125142, 0.6734231671311283, 0.021044473972847758, 0.024551886301655716, 0.052611184932119394, 0.18589285342682185, 0.017537061644039797, 0.0035074123288079597, 0.0035074123288079597, 0.007014824657615919, 0.014029649315231839, 0.5840167570752671, 0.10943114777544453, 0.06105106139051116, 0.06105106139051116, 0.0794815704895334, 0.09560826595117786, 0.0011519068186888898, 0.0011519068186888898, 0.0023038136373777795, 0.004607627274755559, 0.13282797003314206, 0.21116241389884124, 0.06471106232383844, 0.4529774362668691, 0.017029226927325905, 0.08855198002209472, 0.0034058453854651813, 0.0034058453854651813, 0.0068116907709303625, 0.013623381541860725, 0.4151728053649411, 0.10004163984697376, 0.06502706590053295, 0.14005829578576326, 0.055022901915835566, 0.19007911570925015, 0.005002081992348688, 0.005002081992348688, 0.010004163984697376, 0.02000832796939475, 0.8280390071989617, 0.025201187175620574, 0.00720033919303445, 0.05040237435124115, 0.025201187175620574, 0.03600169596517225, 0.003600169596517225, 0.003600169596517225, 0.00720033919303445, 0.0144006783860689, 0.38603853059222787, 0.022271453688013147, 0.037119089480021905, 0.037119089480021905, 0.3414956232162015, 0.11878108633607011, 0.007423817896004382, 0.007423817896004382, 0.014847635792008764, 0.029695271584017528, 0.48040591015177003, 0.18170080269350614, 0.10048604997443901, 0.06607301916127496, 0.06744954039380152, 0.0936034438118062, 0.0013765212325265617, 0.0013765212325265617, 0.0027530424650531234, 0.005506084930106247, 0.6245777346694431, 0.012011110282104675, 0.026424442620630286, 0.24262442769851444, 0.03843555290273496, 0.03363110878989309, 0.002402222056420935, 0.002402222056420935, 0.00480444411284187, 0.00960888822568374, 0.09126993945381304, 0.5434710031113412, 0.16594534446147824, 0.07052677139612826, 0.029040435280758694, 0.0663781377845913, 0.004148633611536956, 0.004148633611536956, 0.008297267223073912, 0.016594534446147825, 0.16436384722878034, 0.0389282796068164, 0.0389282796068164, 0.1903160336333246, 0.04757900840833115, 0.03027755080530164, 0.45848862648028205, 0.004325364400757378, 0.008650728801514755, 0.01730145760302951, 0.25440431294590005, 0.11306858353151114, 0.011306858353151114, 0.40704690071344013, 0.028267145882877785, 0.14133572941438893, 0.005653429176575557, 0.005653429176575557, 0.011306858353151114, 0.022613716706302227, 0.03842822293262536, 0.5100473225603003, 0.16069984135461512, 0.07685644586525071, 0.03144127330851166, 0.04890864736879591, 0.10829771917376238, 0.003493474812056851, 0.006986949624113702, 0.013973899248227404, 0.45534166240843654, 0.03263034714327558, 0.06377749668912955, 0.13052138857310233, 0.2506603939642533, 0.05636150870202146, 0.0014831975974216173, 0.0014831975974216173, 0.0029663951948432346, 0.005932790389686469, 0.13793992633116034, 0.16518731918669818, 0.36102795533587645, 0.045979975443720116, 0.18902878793529382, 0.08855402678049801, 0.0017029620534711155, 0.0017029620534711155, 0.003405924106942231, 0.006811848213884462, 0.015074490648843671, 0.005024830216281224, 0.7587493626584648, 0.18089388778612406, 0.005024830216281224, 0.005024830216281224, 0.010049660432562448, 0.020099320865124896, 0.27165242373457865, 0.09878269953984678, 0.04939134976992339, 0.09878269953984678, 0.3704351232744254, 0.06791310593364466, 0.006173918721240424, 0.006173918721240424, 0.012347837442480847, 0.024695674884961695, 0.06530240706475125, 0.1840340562733899, 0.6589606531079445, 0.04155607722302352, 0.005936582460431932, 0.005936582460431932, 0.011873164920863865, 0.02374632984172773, 0.021209071069961782, 0.017674225891634816, 0.3110663756927728, 0.6079933706722377, 0.014139380713307854, 0.0035348451783269634, 0.0035348451783269634, 0.007069690356653927, 0.014139380713307854, 0.10233300650031375, 0.10050563138423672, 0.45501640390318077, 0.28507051810801687, 0.0292380018572325, 0.01461900092861625, 0.0018273751160770312, 0.0018273751160770312, 0.0036547502321540625, 0.007309500464308125, 0.1935083069694264, 0.3801667623647138, 0.0804857559961331, 0.14213442016338398, 0.05993620127371614, 0.13014717990864075, 0.001712462893534747, 0.001712462893534747, 0.003424925787069494, 0.006849851574138988, 0.012121957219932271, 0.05454880748969522, 0.6303417754364781, 0.1621311778165941, 0.013637201872423805, 0.11515859358935658, 0.001515244652491534, 0.001515244652491534, 0.003030489304983068, 0.006060978609966136, 0.013776325403320836, 0.03444081350830209, 0.6199346431494377, 0.2755265080664167, 0.020664488104981255, 0.006888162701660418, 0.003444081350830209, 0.003444081350830209, 0.006888162701660418, 0.013776325403320836, 0.008433377663022662, 0.9445382982585381, 0.008433377663022662, 0.004216688831511331, 0.004216688831511331, 0.004216688831511331, 0.008433377663022662, 0.016866755326045323, 0.0032560645991975964, 0.5763234340579745, 0.39723988110210673, 0.0032560645991975964, 0.0032560645991975964, 0.006512129198395193, 0.013024258396790386, 0.35913375384009455, 0.0239422502560063, 0.017956687692004727, 0.5147583805041355, 0.035913375384009454, 0.005985562564001575, 0.005985562564001575, 0.005985562564001575, 0.01197112512800315, 0.0239422502560063, 0.3525178819684569, 0.09186829651299179, 0.10041418456071195, 0.38883790617126757, 0.0064094160357901254, 0.044865912250530875, 0.0021364720119300415, 0.0021364720119300415, 0.004272944023860083, 0.008545888047720166, 0.9762500887880294, 0.0030224460953189765, 0.0030224460953189765, 0.006044892190637953, 0.012089784381275906, 0.18189767567389206, 0.08861681635394741, 0.200553847537881, 0.42442790990574814, 0.027984257795983396, 0.046640429659972324, 0.004664042965997232, 0.004664042965997232, 0.009328085931994464, 0.018656171863988928, 0.03434630490673099, 0.19844531723889017, 0.6525797932278888, 0.03434630490673099, 0.015265024402991552, 0.038162561007478876, 0.003816256100747888, 0.003816256100747888, 0.007632512201495776, 0.015265024402991552, 0.24456962052124218, 0.22791807189000868, 0.14257888515493694, 0.09158351747178431, 0.12072372757644295, 0.165474764522883, 0.0010407217894520943, 0.0010407217894520943, 0.0020814435789041886, 0.004162887157808377, 0.37429896496013626, 0.0658249903895412, 0.13681272512336015, 0.09292939819699934, 0.25297447286960933, 0.06711567647561063, 0.0012906860860694353, 0.0012906860860694353, 0.0025813721721388706, 0.005162744344277741, 0.12854040238963496, 0.12515776022148667, 0.013530568672593153, 0.09133133854000379, 0.6122582324348402, 0.003382642168148288, 0.003382642168148288, 0.006765284336296576, 0.013530568672593153, 0.27036957711396276, 0.08795154918165053, 0.016287323922527876, 0.09120901396615612, 0.5081645063828698, 0.0032574647845055754, 0.0032574647845055754, 0.006514929569011151, 0.013029859138022301, 0.06606169456836504, 0.07677440179566748, 0.7088241282065114, 0.07677440179566748, 0.007141804818201626, 0.04999263372741138, 0.0017854512045504065, 0.0017854512045504065, 0.003570902409100813, 0.007141804818201626, 0.045805018962955246, 0.1068783775802289, 0.1475939499917447, 0.10178893102878944, 0.13232561033742626, 0.42242406376947617, 0.005089446551439471, 0.005089446551439471, 0.010178893102878943, 0.020357786205757886, 0.04323199880905051, 0.03170346579330371, 0.8531114431652633, 0.028821332539367004, 0.020174932777556904, 0.0028821332539367005, 0.0028821332539367005, 0.005764266507873401, 0.011528533015746802, 0.4706803649410996, 0.21516816683021694, 0.07108234082783953, 0.024014304333729572, 0.11815037732194948, 0.09317550081487073, 0.0009605721733491828, 0.0009605721733491828, 0.0019211443466983656, 0.0038422886933967312, 0.13562931567975084, 0.8033428697954472, 0.015649536424586635, 0.005216512141528878, 0.005216512141528878, 0.010433024283057757, 0.020866048566115514, 0.4118113436534571, 0.10860958513937331, 0.09955878637775886, 0.14028738080502384, 0.11313498452018053, 0.09050798761614443, 0.004525399380807221, 0.004525399380807221, 0.009050798761614442, 0.018101597523228884, 0.21764347090811892, 0.1818664619917158, 0.08347968747160725, 0.28472536262637477, 0.13416378343651167, 0.08646110488130751, 0.0014907087048501295, 0.0014907087048501295, 0.002981417409700259, 0.005962834819400518, 0.05942273805169797, 0.1575994357023294, 0.2712777171925342, 0.21573037510072957, 0.22089756971392072, 0.06458993266488909, 0.001291798653297782, 0.001291798653297782, 0.002583597306595564, 0.005167194613191128, 0.025966131629348823, 0.4544073035136044, 0.41978579467447263, 0.021638443024457353, 0.03894919744402323, 0.004327688604891471, 0.004327688604891471, 0.008655377209782942, 0.017310754419565883, 0.4558838048642562, 0.11771179206560664, 0.08778506526926597, 0.1556189793409715, 0.09077773794890003, 0.08379483502975388, 0.0009975575598780222, 0.0009975575598780222, 0.0019951151197560445, 0.003990230239512089, 0.3980381880824969, 0.19901909404124846, 0.15784272975685223, 0.048039091665128944, 0.048039091665128944, 0.08921545594952518, 0.006862727380732706, 0.006862727380732706, 0.013725454761465411, 0.027450909522930823, 0.08633415434977738, 0.12140740455437445, 0.20774155890415183, 0.18346007799327693, 0.029677365557735973, 0.3507325020459706, 0.0026979423234305432, 0.0026979423234305432, 0.0053958846468610865, 0.010791769293722173, 0.04868950133720287, 0.389516010697623, 0.15905237103486272, 0.3765321436743689, 0.0032459667558135245, 0.0032459667558135245, 0.006491933511627049, 0.012983867023254098, 0.1722436575613549, 0.07216913026313754, 0.14530051559645024, 0.0702446201227872, 0.050999518719283855, 0.48112753508758355, 0.0009622550701751671, 0.0009622550701751671, 0.0019245101403503342, 0.0038490202807006683, 0.16934773275312637, 0.5764336287942956, 0.058620369029928364, 0.07164711770324578, 0.03256687168329354, 0.061877056198257716, 0.0032566871683293534, 0.0032566871683293534, 0.006513374336658707, 0.013026748673317413, 0.27641498890037614, 0.263040070082616, 0.004458306272586712, 0.06687459408880068, 0.19616547599381534, 0.16049902581312164, 0.004458306272586712, 0.004458306272586712, 0.008916612545173425, 0.01783322509034685, 0.4707538791915905, 0.11105813347125551, 0.06133061102143961, 0.22874660326915314, 0.049727522449815896, 0.07127611551140278, 0.000828792040830265, 0.000828792040830265, 0.00165758408166053, 0.00331516816332106, 0.06211925994243555, 0.36495065216180883, 0.05901329694531377, 0.05901329694531377, 0.01087087048992622, 0.43172885659992705, 0.0015529814985608887, 0.0015529814985608887, 0.0031059629971217774, 0.006211925994243555, 0.6855014916490771, 0.016995904751630014, 0.016995904751630014, 0.11897133326141009, 0.07364892059039672, 0.03399180950326003, 0.005665301583876671, 0.005665301583876671, 0.011330603167753342, 0.022661206335506685, 0.14530911531093968, 0.4458347856131104, 0.16512399467152236, 0.10237687669634388, 0.04623471850802626, 0.08421323728247641, 0.0016512399467152237, 0.0016512399467152237, 0.0033024798934304473, 0.006604959786860895, 0.13524952737858112, 0.02091487536782182, 0.01952055034330037, 0.7905822889036649, 0.008365950147128728, 0.013943250245214547, 0.0013943250245214548, 0.0013943250245214548, 0.0027886500490429096, 0.005577300098085819, 0.30935740314558874, 0.08529607411833105, 0.1362191034427078, 0.09929990718253466, 0.1693190725035527, 0.1896882842333034, 0.0012730757331094187, 0.0012730757331094187, 0.0025461514662188374, 0.005092302932437675, 0.1385173364142334, 0.042988138887175883, 0.016717609567235066, 0.019105839505411504, 0.026270529319940818, 0.7379630508965193, 0.002388229938176438, 0.002388229938176438, 0.004776459876352876, 0.009552919752705752, 0.2730991673326006, 0.25095599160293025, 0.11809693722490835, 0.12547799580146513, 0.11071587864835158, 0.06642952718901095, 0.007381058576556772, 0.007381058576556772, 0.014762117153113544, 0.02952423430622709, 0.3275983733688091, 0.16472460581821474, 0.1857007728512458, 0.053674309760991315, 0.148684007498838, 0.115368918681671, 0.0006169460892067967, 0.0006169460892067967, 0.0012338921784135935, 0.002467784356827187, 0.2468789603777061, 0.08176882764102368, 0.04245689127514691, 0.01886972945562085, 0.21228445637573456, 0.3852569763855923, 0.0015724774546350708, 0.0015724774546350708, 0.0031449549092701415, 0.006289909818540283, 0.7577488202569861, 0.05654841942216314, 0.01696452582664894, 0.022619367768865258, 0.06785810330659577, 0.03392905165329788, 0.005654841942216314, 0.005654841942216314, 0.011309683884432629, 0.022619367768865258, 0.12294154390690341, 0.6681605647114316, 0.06948869872998889, 0.04276227614153162, 0.01603585355307436, 0.04276227614153162, 0.005345284517691453, 0.005345284517691453, 0.010690569035382905, 0.02138113807076581, 0.24353844914014433, 0.062300533500967155, 0.01699105459117286, 0.062300533500967155, 0.5776958560998773, 0.005663684863724287, 0.005663684863724287, 0.011327369727448574, 0.022654739454897148, 0.027141184087972742, 0.040711776131959115, 0.6052484051617921, 0.14113415725745826, 0.008142355226391822, 0.1574188677102419, 0.0027141184087972744, 0.0027141184087972744, 0.005428236817594549, 0.010856473635189098, 0.15410341764036317, 0.08502257524985554, 0.0371973766718118, 0.6164136705614527, 0.047825198578043744, 0.015941732859347916, 0.005313910953115971, 0.005313910953115971, 0.010627821906231943, 0.021255643812463886, 0.06774394667708886, 0.6220126013078158, 0.1508842448716979, 0.02463416242803231, 0.021554892124528272, 0.08621956849811309, 0.0030792703035040386, 0.0030792703035040386, 0.006158540607008077, 0.012317081214016154, 0.008534987756829331, 0.06827990205463465, 0.0042674938784146655, 0.6187866123701264, 0.2219096816775626, 0.04694243266256132, 0.0042674938784146655, 0.0042674938784146655, 0.008534987756829331, 0.017069975513658662, 0.4687855505170641, 0.05493580670121845, 0.038455064690852914, 0.35342035644450537, 0.012818354896950972, 0.056767000257925734, 0.0018311935567072817, 0.0018311935567072817, 0.0036623871134145634, 0.007324774226829127, 0.5393101092977152, 0.08016771894966038, 0.04372784669981475, 0.06559177004972212, 0.13118354009944425, 0.07287974449969124, 0.0072879744499691245, 0.0072879744499691245, 0.014575948899938249, 0.029151897799876498, 0.07024929129687693, 0.38637110213282316, 0.5093073619023578, 0.003512464564843847, 0.003512464564843847, 0.003512464564843847, 0.007024929129687694, 0.014049858259375388, 0.41364265189436555, 0.04316271150202075, 0.017984463125841982, 0.03956581887685236, 0.03956581887685236, 0.41723954451953393, 0.003596892625168396, 0.003596892625168396, 0.007193785250336792, 0.014387570500673585, 0.9068976833240245, 0.003995143979400989, 0.003995143979400989, 0.023970863876405936, 0.007990287958801977, 0.023970863876405936, 0.003995143979400989, 0.003995143979400989, 0.007990287958801977, 0.015980575917603955, 0.7391146915090917, 0.06643727564126667, 0.024913978365475004, 0.03875507745740556, 0.06920549545965278, 0.04152329727579167, 0.002768219818386111, 0.002768219818386111, 0.005536439636772222, 0.011072879273544445, 0.0747168342617143, 0.6045271135720521, 0.10528281191423379, 0.061131955305038975, 0.020377318435012993, 0.10867903165340262, 0.003396219739168832, 0.003396219739168832, 0.006792439478337664, 0.013584878956675327, 0.0984562637134515, 0.25844769224781017, 0.13230060436495045, 0.47689752736203067, 0.009230274723136077, 0.003076758241045359, 0.003076758241045359, 0.006153516482090718, 0.012307032964181437, 0.05295665985429952, 0.5759036759155074, 0.24492455182613532, 0.011032637469645735, 0.09708720973288247, 0.002206527493929147, 0.002206527493929147, 0.004413054987858294, 0.008826109975716588, 0.04600102488003022, 0.7682171154965046, 0.041400922392027195, 0.041400922392027195, 0.041400922392027195, 0.02760061492801813, 0.004600102488003022, 0.004600102488003022, 0.009200204976006043, 0.018400409952012087, 0.3274108127491747, 0.1976820001504451, 0.037065375028208454, 0.3150556877397719, 0.07413075005641691, 0.006177562504701409, 0.006177562504701409, 0.012355125009402819, 0.024710250018805637, 0.08234095849757934, 0.8371330780587234, 0.013723493082929892, 0.013723493082929892, 0.006861746541464946, 0.006861746541464946, 0.013723493082929892, 0.027446986165859784, 0.3046684405265444, 0.09919437598538655, 0.15587687654846458, 0.1346209388373103, 0.15587687654846458, 0.08502375084461704, 0.007085312570384753, 0.007085312570384753, 0.014170625140769506, 0.028341250281539013, 0.19850919294940345, 0.1409106706428408, 0.15531030121948144, 0.17690974708444243, 0.23862244955575956, 0.08331214833627813, 0.0010285450411886188, 0.0010285450411886188, 0.0020570900823772375, 0.004114180164754475, 0.2518506081838953, 0.3212977858558665, 0.012550694759994785, 0.005020277903997914, 0.10040555807995828, 0.30289010020787416, 0.0008367129839996524, 0.0008367129839996524, 0.0016734259679993047, 0.0033468519359986094, 0.14962520777070956, 0.20448778395330308, 0.059850083108283825, 0.4788006648662706, 0.019950027702761275, 0.054862576182593506, 0.004987506925690319, 0.004987506925690319, 0.009975013851380637, 0.019950027702761275, 0.07054657416978563, 0.4373887598526709, 0.225749037343314, 0.09876520383769988, 0.04938260191884994, 0.06349191675280706, 0.0070546574169785626, 0.0070546574169785626, 0.014109314833957125, 0.02821862966791425, 0.1981728628144573, 0.13801324374578278, 0.1026252325289154, 0.11678043701566233, 0.07785362467710823, 0.33618610656024006, 0.0035388011216867373, 0.0035388011216867373, 0.007077602243373475, 0.01415520448674695, 0.021697609381299842, 0.20733271186575405, 0.2949267645532238, 0.20813632702802443, 0.10929166206876959, 0.15268688083136928, 0.0008036151622703646, 0.0008036151622703646, 0.0016072303245407292, 0.0032144606490814584, 0.4419467891663951, 0.11630178662273556, 0.10161103462828476, 0.1664951892704425, 0.051417631980577826, 0.11385332795699377, 0.0012242293328709006, 0.0012242293328709006, 0.0024484586657418012, 0.0048969173314836025, 0.10839233008058985, 0.0627534542571836, 0.1597360653819219, 0.07986803269096095, 0.09698261112473829, 0.444979039278211, 0.005704859477925782, 0.005704859477925782, 0.011409718955851564, 0.022819437911703128, 0.3260743755168849, 0.07121164522782544, 0.02248788796668172, 0.07870760788338602, 0.44600977800585406, 0.026235869294462002, 0.003747981327780286, 0.003747981327780286, 0.007495962655560572, 0.014991925311121144, 0.2547432499535066, 0.07374146709180456, 0.013407539471237191, 0.020111309206855787, 0.5832279669988178, 0.006703769735618596, 0.006703769735618596, 0.013407539471237191, 0.026815078942474382, 0.05983838182475489, 0.3739898864047181, 0.14294724547024779, 0.1545824863806168, 0.029919190912377446, 0.2260561091157407, 0.001662177272909858, 0.001662177272909858, 0.003324354545819716, 0.006648709091639432, 0.3279891684586653, 0.11226474893551631, 0.07264189637003997, 0.12767363604431267, 0.07924570513095269, 0.26195108084953805, 0.002201269586970908, 0.002201269586970908, 0.004402539173941816, 0.008805078347883633, 0.036796843279403746, 0.010732412623159425, 0.38330045082712233, 0.5519526491910562, 0.004599605409925468, 0.0015332018033084895, 0.0015332018033084895, 0.003066403606616979, 0.006132807213233958, 0.0315324998063665, 0.004729874970954975, 0.32005487303462, 0.6274967461466934, 0.00315324998063665, 0.001576624990318325, 0.001576624990318325, 0.00315324998063665, 0.0063064999612733, 0.40597640832351845, 0.13761912146559946, 0.11009529717247958, 0.24083346256479907, 0.02064286821983992, 0.034404780366399865, 0.006880956073279974, 0.006880956073279974, 0.013761912146559948, 0.027523824293119895, 0.13812261156083255, 0.1971296460939806, 0.23767637932066893, 0.20405225908390298, 0.10449849132406663, 0.11603617964060396, 0.0003296482376153522, 0.0003296482376153522, 0.0006592964752307044, 0.0013185929504614087, 0.01096517149933457, 0.04386068599733828, 0.7968024622849786, 0.02193034299866914, 0.0913764291611214, 0.007310114332889713, 0.0036550571664448563, 0.0036550571664448563, 0.007310114332889713, 0.014620228665779425, 0.30063324463248164, 0.05953133557078844, 0.017859400671236533, 0.05953133557078844, 0.5387585869156354, 0.002976566778539422, 0.002976566778539422, 0.005953133557078844, 0.011906267114157688, 0.03168222780075479, 0.021121485200503193, 0.9187846062218888, 0.0035202475334171987, 0.0035202475334171987, 0.0035202475334171987, 0.007040495066834397, 0.014080990133668795, 0.4269116714416037, 0.30793628759722236, 0.03499275995422981, 0.1119768318535354, 0.03499275995422981, 0.02799420796338385, 0.006998551990845962, 0.006998551990845962, 0.013997103981691924, 0.02799420796338385, 0.41468350342644994, 0.12401749635183551, 0.14145745677631238, 0.12595526973233293, 0.10173310247611506, 0.0852620287418869, 0.0009688866902487149, 0.0009688866902487149, 0.0019377733804974298, 0.0038755467609948597, 0.22524108778717747, 0.09385045324465728, 0.028155135973397184, 0.037540181297862914, 0.03284765863563005, 0.5443326288190122, 0.004692522662232864, 0.004692522662232864, 0.009385045324465728, 0.018770090648931457, 0.2634452510537184, 0.11376044931865112, 0.0928045770757417, 0.1377100175962619, 0.04789913655522152, 0.1526784977697686, 0.16764697794327535, 0.002993696034701345, 0.00598739206940269, 0.01197478413880538, 0.3306701980237737, 0.08131234377633778, 0.027104114592112594, 0.09757481253160534, 0.38487842720799886, 0.03252493751053511, 0.005420822918422519, 0.005420822918422519, 0.010841645836845038, 0.021683291673690076, 0.07680275222038928, 0.16356141676564384, 0.25743144725723077, 0.24320871536456606, 0.20622961244363788, 0.04124592248872758, 0.001422273189266468, 0.001422273189266468, 0.002844546378532936, 0.005689092757065872, 0.10294976411807892, 0.429510843847469, 0.022139734218941703, 0.006641920265682511, 0.14944320597785649, 0.28117462458055964, 0.0011069867109470852, 0.0011069867109470852, 0.0022139734218941704, 0.004427946843788341, 0.11238347937926953, 0.029574599836649874, 0.017744759901989926, 0.7275351559815869, 0.05323427970596977, 0.01182983993465995, 0.005914919967329975, 0.005914919967329975, 0.01182983993465995, 0.0236596798693199, 0.09147086820976158, 0.23589855485675354, 0.05777107465879679, 0.03851404977253119, 0.4284688037194095, 0.11554214931759357, 0.004814256221566399, 0.004814256221566399, 0.009628512443132798, 0.019257024886265597, 0.15399194309706946, 0.005048916167117032, 0.010097832334234063, 0.20195664668468125, 0.015146748501351094, 0.007573374250675547, 0.5856742753855756, 0.002524458083558516, 0.005048916167117032, 0.010097832334234063, 0.570013367880273, 0.10988209501306469, 0.054941047506532344, 0.0480734165682158, 0.10301446407474814, 0.061808678444848886, 0.006867630938316543, 0.006867630938316543, 0.013735261876633086, 0.027470523753266172, 0.6904503360833829, 0.04425963692842198, 0.013277891078526595, 0.06638945539263297, 0.07966734647115957, 0.07524138277831736, 0.004425963692842198, 0.004425963692842198, 0.008851927385684397, 0.017703854771368793, 0.6442954909860801, 0.08345796515363732, 0.06676637212290985, 0.04005982327374591, 0.10348787679051027, 0.03672150466760042, 0.0033383186061454926, 0.0033383186061454926, 0.006676637212290985, 0.01335327442458197, 0.1676221509710337, 0.09838691470038934, 0.10931879411154372, 0.11660671371897996, 0.4263432970350205, 0.05830335685948998, 0.0036439598037181237, 0.0036439598037181237, 0.0072879196074362475, 0.014575839214872495, 0.2740897823439048, 0.2248941803847424, 0.15461474901451042, 0.0843353176442784, 0.15461474901451042, 0.0491956019591624, 0.0070279431370232, 0.0070279431370232, 0.0140558862740464, 0.0281117725480928, 0.16590814766361542, 0.5723831094394732, 0.07880637014021732, 0.041477036915903855, 0.020738518457951927, 0.08295407383180771, 0.004147703691590386, 0.004147703691590386, 0.008295407383180771, 0.016590814766361543, 0.1403085842732865, 0.22726038297785842, 0.2667839278435729, 0.13899113277776268, 0.10012631365981008, 0.12120553758819115, 0.0006587257477619084, 0.0006587257477619084, 0.0013174514955238167, 0.0026349029910476334, 0.6489275568446441, 0.13150073839142568, 0.011434846816645711, 0.1543704320247171, 0.005717423408322856, 0.028587117041614277, 0.002858711704161428, 0.002858711704161428, 0.005717423408322856, 0.011434846816645711, 0.24201932888041813, 0.32009008013216594, 0.12491320200279646, 0.12491320200279646, 0.05464952587622345, 0.07807075125174778, 0.007807075125174779, 0.007807075125174779, 0.015614150250349557, 0.031228300500699115, 0.39847898812848553, 0.1350968649210535, 0.12374418719659523, 0.07946874407120795, 0.04427544312538728, 0.21115980567492398, 0.0011352677724458277, 0.0011352677724458277, 0.0022705355448916554, 0.004541071089783311, 0.0808150982763214, 0.24244529482896418, 0.04233171814473978, 0.11160180238158669, 0.01924169006579081, 0.47334557561845386, 0.003848338013158162, 0.003848338013158162, 0.007696676026316324, 0.015393352052632647, 0.05309302450891957, 0.04343974732547965, 0.04826638591719961, 0.7095158729828343, 0.09653277183439922, 0.009653277183439921, 0.004826638591719961, 0.004826638591719961, 0.009653277183439921, 0.019306554366879843, 0.02674743006580484, 0.03269130341376147, 0.7637877252124271, 0.09213003689332777, 0.06241067015354462, 0.0029719366739783155, 0.0029719366739783155, 0.0029719366739783155, 0.005943873347956631, 0.011887746695913262, 0.05309494969932779, 0.026547474849663896, 0.8760666700389085, 0.011377489221284526, 0.003792496407094842, 0.003792496407094842, 0.003792496407094842, 0.007584992814189684, 0.015169985628379368, 0.0911081926095787, 0.8045025309676005, 0.01890924752274275, 0.024066315028945316, 0.046413607555823105, 0.0017190225020675225, 0.0017190225020675225, 0.003438045004135045, 0.00687609000827009, 0.05945213880212385, 0.013872165720495565, 0.06737909064240702, 0.8442203709901586, 0.001981737960070795, 0.00396347592014159, 0.00792695184028318, 0.6717941006088474, 0.05098437370692145, 0.04798529290063195, 0.06298069693207943, 0.0989696666075534, 0.044986212094342455, 0.002999080806289497, 0.002999080806289497, 0.005998161612578994, 0.011996323225157987, 0.2871612982066987, 0.05583691909574697, 0.2113826222910421, 0.3549632713943915, 0.04786021636778312, 0.01196505409194578, 0.003988351363981926, 0.003988351363981926, 0.007976702727963853, 0.015953405455927706, 0.3530662229192922, 0.041054211967359554, 0.1560060054759663, 0.39001501368991576, 0.024632527180415732, 0.004105421196735955, 0.004105421196735955, 0.004105421196735955, 0.00821084239347191, 0.01642168478694382, 0.15259838388806413, 0.24936809074390964, 0.08932588325154972, 0.02233147081288743, 0.15259838388806413, 0.30519676777612825, 0.003721911802147905, 0.00744382360429581, 0.01488764720859162, 0.7021908359162998, 0.07826275570584147, 0.0500012050342876, 0.034783446980373986, 0.06956689396074797, 0.04782723959801423, 0.002173965436273374, 0.002173965436273374, 0.004347930872546748, 0.008695861745093496, 0.610959269931338, 0.10043166081063089, 0.07532374560797317, 0.028455637229678754, 0.08704077270254677, 0.08536691168903626, 0.0016738610135105148, 0.0016738610135105148, 0.0033477220270210295, 0.006695444054042059, 0.08393553624366043, 0.7674106170848953, 0.09592632713561192, 0.005995395445975745, 0.005995395445975745, 0.005995395445975745, 0.01199079089195149, 0.02398158178390298, 0.43724369466288876, 0.1204528084470768, 0.0975667748421322, 0.11081658377131065, 0.13490714546072602, 0.0903396063353076, 0.001204528084470768, 0.001204528084470768, 0.002409056168941536, 0.004818112337883072, 0.2615163156132481, 0.04754842102059057, 0.10460652624529924, 0.4754842102059057, 0.009509684204118114, 0.0665677894288268, 0.004754842102059057, 0.004754842102059057, 0.009509684204118114, 0.019019368408236228, 0.20342355915700122, 0.10171177957850061, 0.17949137572676577, 0.41881321002912014, 0.029915229287794297, 0.017949137572676577, 0.005983045857558859, 0.005983045857558859, 0.011966091715117718, 0.023932183430235437, 0.07769010516749732, 0.260816781633741, 0.260816781633741, 0.29966183421748965, 0.06104222548874789, 0.005549293226249808, 0.005549293226249808, 0.011098586452499616, 0.022197172904999233, 0.1031238894534634, 0.024264444577285507, 0.5338177807002812, 0.27904111263878334, 0.012132222288642754, 0.006066111144321377, 0.006066111144321377, 0.012132222288642754, 0.024264444577285507, 0.5059694535357748, 0.12739159819473003, 0.08602679689855887, 0.006294643675504307, 0.1570663469506789, 0.11540180071757897, 0.00029974493692877654, 0.00029974493692877654, 0.0005994898738575531, 0.0011989797477151062, 0.7044209955558939, 0.026284365505816937, 0.010513746202326774, 0.0420549848093071, 0.15770619303490163, 0.015770619303490163, 0.005256873101163387, 0.005256873101163387, 0.010513746202326774, 0.02102749240465355, 0.03329195511586368, 0.00041614943894829594, 0.9633859511653051, 0.0008322988778965919, 0.0016645977557931838, 0.6905146209558766, 0.052730207418448756, 0.04519732064438465, 0.0326425093542778, 0.11550426386898299, 0.04519732064438465, 0.0025109622580213693, 0.0025109622580213693, 0.005021924516042739, 0.010043849032085477, 0.19241363600929454, 0.1399371898249415, 0.19914138552010904, 0.25969113111743947, 0.08611519373842552, 0.1116806418795206, 0.0013455499021628988, 0.0013455499021628988, 0.0026910998043257976, 0.005382199608651595, 0.16400376841071074, 0.18209241933836265, 0.4136271512123072, 0.12059100618434612, 0.061501413154016527, 0.049442312535581914, 0.0012059100618434613, 0.0012059100618434613, 0.0024118201236869225, 0.004823640247373845, 0.42080676711042364, 0.0693637528203995, 0.018497000752106533, 0.416182516922397, 0.027745501128159798, 0.013872750564079899, 0.004624250188026633, 0.004624250188026633, 0.009248500376053266, 0.018497000752106533, 0.22399160324724263, 0.13439496194834558, 0.11759559170480238, 0.044798320649448525, 0.05599790081181066, 0.3807857255203125, 0.005599790081181066, 0.005599790081181066, 0.011199580162362131, 0.022399160324724263, 0.747214353226217, 0.01956058516298997, 0.011736351097793984, 0.11345139394534184, 0.06650598955416591, 0.02738481922818596, 0.001956058516298997, 0.001956058516298997, 0.003912117032597994, 0.007824234065195989, 0.3227729785120024, 0.020993364456065196, 0.06822843448221189, 0.34901468408208386, 0.005248341114016299, 0.023617535013073343, 0.19156445066159491, 0.0026241705570081496, 0.005248341114016299, 0.010496682228032598, 0.1955752718670879, 0.21335484203682314, 0.07556317322137486, 0.017779570169735262, 0.02555813211899444, 0.46226882441311684, 0.0011112231356084539, 0.0011112231356084539, 0.0022224462712169078, 0.0044448925424338155, 0.2537642168868754, 0.06166233307531552, 0.0166013973664311, 0.03794605112327109, 0.6142517025579507, 0.002371628195204443, 0.002371628195204443, 0.004743256390408886, 0.009486512780817772, 0.4946721084784254, 0.133180952282653, 0.14196211397161912, 0.07171282045989008, 0.06878576656356804, 0.07903045520069518, 0.001463526948161022, 0.001463526948161022, 0.002927053896322044, 0.005854107792644088, 0.11328674742110044, 0.29688940703460803, 0.20834344353305828, 0.02864722348579551, 0.21485417614346633, 0.12761035916399818, 0.0013021465220816142, 0.0013021465220816142, 0.0026042930441632283, 0.005208586088326457, 0.6980236626165636, 0.0330295108493642, 0.017615739119660908, 0.07046295647864363, 0.12551214122758397, 0.03743344562927943, 0.0022019673899576135, 0.0022019673899576135, 0.004403934779915227, 0.008807869559830454, 0.0600282838542756, 0.015796916803756736, 0.3917635367331671, 0.10425965090479447, 0.02527506688601078, 0.006318766721502695, 0.372807236568659, 0.0031593833607513476, 0.006318766721502695, 0.01263753344300539, 0.453482674127714, 0.17754807939663614, 0.09160123841482501, 0.027141107678466673, 0.16623928453060835, 0.07463804611578334, 0.001130879486602778, 0.001130879486602778, 0.002261758973205556, 0.004523517946411112, 0.5651012133599347, 0.07969376085845234, 0.10142842291075752, 0.07244887350768393, 0.06520398615691554, 0.05795909880614715, 0.007244887350768394, 0.007244887350768394, 0.014489774701536787, 0.028979549403073575, 0.3420405510480977, 0.08419459718107021, 0.05788378556198577, 0.018417568133359107, 0.0657770290477111, 0.4104486612577173, 0.002631081161908444, 0.002631081161908444, 0.005262162323816888, 0.010524324647633776, 0.14296849952029766, 0.044369534333885484, 0.039439586074564874, 0.034509637815244264, 0.6901927563048853, 0.009859896518641218, 0.004929948259320609, 0.004929948259320609, 0.009859896518641218, 0.019719793037282437, 0.710518132742991, 0.024500625266999688, 0.003062578158374961, 0.17150437686899783, 0.02756320342537465, 0.039813516058874496, 0.003062578158374961, 0.003062578158374961, 0.006125156316749922, 0.012250312633499844, 0.6791008680081642, 0.062250912900748384, 0.007545565200090713, 0.14525213010174623, 0.009431956500113392, 0.07922843460095248, 0.0018863913000226782, 0.0018863913000226782, 0.0037727826000453564, 0.007545565200090713, 0.693223889199002, 0.046214925946600136, 0.07109988607169251, 0.053324914553769386, 0.06754489176810789, 0.04265993164301551, 0.003554994303584626, 0.003554994303584626, 0.007109988607169252, 0.014219977214338504, 0.24191867081719334, 0.2829851118509762, 0.18591897849839858, 0.06794629334680431, 0.08213288206756564, 0.13439926156510743, 0.0007466625642505968, 0.0007466625642505968, 0.0014933251285011936, 0.0029866502570023872, 0.5189669353720442, 0.15857323025256906, 0.02162362230716851, 0.04324724461433702, 0.10811811153584255, 0.09370236333106355, 0.0072078741023895035, 0.0072078741023895035, 0.014415748204779007, 0.028831496409558014, 0.24065924154916807, 0.22840749834302862, 0.12164230754667041, 0.23978411703444383, 0.05775821797180034, 0.10589006628163396, 0.0008751245147242475, 0.0008751245147242475, 0.001750249029448495, 0.00350049805889699], \"Term\": [\"000\", \"000\", \"000\", \"000\", \"000\", \"000\", \"000\", \"000\", \"000\", \"000\", \"11\", \"11\", \"11\", \"11\", \"11\", \"11\", \"11\", \"11\", \"11\", \"11\", \"12\", \"12\", \"12\", \"12\", \"12\", \"12\", \"12\", \"12\", \"12\", \"12\", \"13\", \"13\", \"13\", \"13\", \"13\", \"13\", \"13\", \"13\", \"13\", \"13\", \"14\", \"14\", \"14\", \"14\", \"14\", \"14\", \"14\", \"14\", \"14\", \"14\", \"2016\", \"2016\", \"2016\", \"2016\", \"2016\", \"2016\", \"2016\", \"2016\", \"2016\", \"2016\", \"21st\", \"21st\", \"21st\", \"21st\", \"21st\", \"21st\", \"21st\", \"21st\", \"21st\", \"21st\", \"25\", \"25\", \"25\", \"25\", \"25\", \"25\", \"25\", \"25\", \"25\", \"25\", \"30\", \"30\", \"30\", \"30\", \"30\", \"30\", \"30\", \"30\", \"30\", \"30\", \"abort\", \"abort\", \"abort\", \"abort\", \"abort\", \"abort\", \"abort\", \"abort\", \"abort\", \"abus\", \"abus\", \"abus\", \"abus\", \"abus\", \"abus\", \"abus\", \"abus\", \"abus\", \"abus\", \"actual\", \"actual\", \"actual\", \"actual\", \"actual\", \"actual\", \"actual\", \"actual\", \"actual\", \"actual\", \"administr\", \"administr\", \"administr\", \"administr\", \"administr\", \"administr\", \"administr\", \"administr\", \"administr\", \"administr\", \"admit\", \"admit\", \"admit\", \"admit\", \"admit\", \"admit\", \"admit\", \"admit\", \"admit\", \"admit\", \"advis\", \"advis\", \"advis\", \"advis\", \"advis\", \"advis\", \"advis\", \"advis\", \"advis\", \"advis\", \"agenc\", \"agenc\", \"agenc\", \"agenc\", \"agenc\", \"agenc\", \"agenc\", \"agenc\", \"agenc\", \"agenc\", \"agent\", \"agent\", \"agent\", \"agent\", \"agent\", \"agent\", \"agent\", \"agent\", \"agent\", \"agent\", \"al\", \"al\", \"al\", \"al\", \"al\", \"al\", \"al\", \"al\", \"al\", \"al\", \"alleg\", \"alleg\", \"alleg\", \"alleg\", \"alleg\", \"alleg\", \"alleg\", \"alleg\", \"alleg\", \"alleg\", \"ambassador\", \"ambassador\", \"ambassador\", \"ambassador\", \"ambassador\", \"ambassador\", \"ambassador\", \"ambassador\", \"ambassador\", \"amend\", \"amend\", \"amend\", \"amend\", \"amend\", \"amend\", \"amend\", \"amend\", \"amend\", \"amend\", \"america\", \"america\", \"america\", \"america\", \"america\", \"america\", \"america\", \"america\", \"america\", \"america\", \"american\", \"american\", \"american\", \"american\", \"american\", \"american\", \"american\", \"american\", \"american\", \"american\", \"anoth\", \"anoth\", \"anoth\", \"anoth\", \"anoth\", \"anoth\", \"anoth\", \"anoth\", \"anoth\", \"anoth\", \"answer\", \"answer\", \"answer\", \"answer\", \"answer\", \"answer\", \"answer\", \"answer\", \"answer\", \"answer\", \"arabia\", \"arabia\", \"arabia\", \"arabia\", \"arabia\", \"arabia\", \"arabia\", \"arabia\", \"area\", \"area\", \"area\", \"area\", \"area\", \"area\", \"area\", \"area\", \"area\", \"area\", \"arm\", \"arm\", \"arm\", \"arm\", \"arm\", \"arm\", \"arm\", \"arm\", \"arm\", \"arm\", \"armi\", \"armi\", \"armi\", \"armi\", \"armi\", \"armi\", \"armi\", \"armi\", \"armi\", \"armi\", \"arrest\", \"arrest\", \"arrest\", \"arrest\", \"arrest\", \"arrest\", \"arrest\", \"arrest\", \"arrest\", \"arrest\", \"arriv\", \"arriv\", \"arriv\", \"arriv\", \"arriv\", \"arriv\", \"arriv\", \"arriv\", \"arriv\", \"arriv\", \"assault\", \"assault\", \"assault\", \"assault\", \"assault\", \"assault\", \"assault\", \"assault\", \"assault\", \"assault\", \"attack\", \"attack\", \"attack\", \"attack\", \"attack\", \"attack\", \"attack\", \"attack\", \"attack\", \"attack\", \"attorney\", \"attorney\", \"attorney\", \"attorney\", \"attorney\", \"attorney\", \"attorney\", \"attorney\", \"attorney\", \"author\", \"author\", \"author\", \"author\", \"author\", \"author\", \"author\", \"author\", \"author\", \"author\", \"bank\", \"bank\", \"bank\", \"bank\", \"bank\", \"bank\", \"bank\", \"bank\", \"bank\", \"bank\", \"beij\", \"beij\", \"beij\", \"beij\", \"beij\", \"beij\", \"berni\", \"berni\", \"berni\", \"berni\", \"berni\", \"berni\", \"berni\", \"berni\", \"biggest\", \"biggest\", \"biggest\", \"biggest\", \"biggest\", \"biggest\", \"biggest\", \"biggest\", \"biggest\", \"biggest\", \"bill\", \"bill\", \"bill\", \"bill\", \"bill\", \"bill\", \"bill\", \"bill\", \"bill\", \"bill\", \"billion\", \"billion\", \"billion\", \"billion\", \"billion\", \"billion\", \"billion\", \"billion\", \"billion\", \"black\", \"black\", \"black\", \"black\", \"black\", \"black\", \"black\", \"black\", \"black\", \"black\", \"bodi\", \"bodi\", \"bodi\", \"bodi\", \"bodi\", \"bodi\", \"bodi\", \"bodi\", \"bodi\", \"bodi\", \"bomb\", \"bomb\", \"bomb\", \"bomb\", \"bomb\", \"bomb\", \"bomb\", \"bomb\", \"bomb\", \"bomb\", \"britain\", \"britain\", \"britain\", \"britain\", \"britain\", \"britain\", \"britain\", \"britain\", \"britain\", \"budget\", \"budget\", \"budget\", \"budget\", \"budget\", \"budget\", \"budget\", \"budget\", \"budget\", \"bush\", \"bush\", \"bush\", \"bush\", \"bush\", \"bush\", \"bush\", \"bush\", \"bush\", \"campaign\", \"campaign\", \"campaign\", \"campaign\", \"campaign\", \"campaign\", \"campaign\", \"campaign\", \"campaign\", \"campaign\", \"candid\", \"candid\", \"candid\", \"candid\", \"candid\", \"candid\", \"candid\", \"candid\", \"candid\", \"candid\", \"car\", \"car\", \"car\", \"car\", \"car\", \"car\", \"car\", \"car\", \"car\", \"car\", \"carolina\", \"carolina\", \"carolina\", \"carolina\", \"carolina\", \"carolina\", \"carolina\", \"carolina\", \"carolina\", \"carolina\", \"celebr\", \"celebr\", \"celebr\", \"celebr\", \"celebr\", \"celebr\", \"celebr\", \"celebr\", \"celebr\", \"celebr\", \"centuri\", \"centuri\", \"centuri\", \"centuri\", \"centuri\", \"centuri\", \"centuri\", \"centuri\", \"centuri\", \"centuri\", \"charg\", \"charg\", \"charg\", \"charg\", \"charg\", \"charg\", \"charg\", \"charg\", \"charg\", \"charg\", \"check\", \"check\", \"check\", \"check\", \"check\", \"check\", \"check\", \"check\", \"check\", \"check\", \"china\", \"china\", \"china\", \"china\", \"china\", \"china\", \"china\", \"china\", \"china\", \"chines\", \"chines\", \"chines\", \"chines\", \"chines\", \"chines\", \"chines\", \"chines\", \"chines\", \"church\", \"church\", \"church\", \"church\", \"church\", \"church\", \"church\", \"church\", \"church\", \"church\", \"cia\", \"cia\", \"cia\", \"cia\", \"cia\", \"cia\", \"cia\", \"cia\", \"cia\", \"citi\", \"citi\", \"citi\", \"citi\", \"citi\", \"citi\", \"citi\", \"citi\", \"citi\", \"citi\", \"climat\", \"climat\", \"climat\", \"climat\", \"climat\", \"climat\", \"climat\", \"climat\", \"climat\", \"climat\", \"clinton\", \"clinton\", \"clinton\", \"clinton\", \"clinton\", \"clinton\", \"clinton\", \"clinton\", \"clinton\", \"cnn\", \"cnn\", \"cnn\", \"cnn\", \"cnn\", \"cnn\", \"cnn\", \"cnn\", \"cnn\", \"cnn\", \"coalit\", \"coalit\", \"coalit\", \"coalit\", \"coalit\", \"coalit\", \"coalit\", \"coalit\", \"coalit\", \"comey\", \"comey\", \"comey\", \"comey\", \"comey\", \"comey\", \"committe\", \"committe\", \"committe\", \"committe\", \"committe\", \"committe\", \"committe\", \"committe\", \"committe\", \"committe\", \"compani\", \"compani\", \"compani\", \"compani\", \"compani\", \"compani\", \"compani\", \"compani\", \"compani\", \"compani\", \"congress\", \"congress\", \"congress\", \"congress\", \"congress\", \"congress\", \"congress\", \"congress\", \"congress\", \"congress\", \"contact\", \"contact\", \"contact\", \"contact\", \"contact\", \"contact\", \"contact\", \"contact\", \"contact\", \"contact\", \"control\", \"control\", \"control\", \"control\", \"control\", \"control\", \"control\", \"control\", \"control\", \"control\", \"convent\", \"convent\", \"convent\", \"convent\", \"convent\", \"convent\", \"convent\", \"convent\", \"convent\", \"corpor\", \"corpor\", \"corpor\", \"corpor\", \"corpor\", \"corpor\", \"corpor\", \"corpor\", \"corpor\", \"cost\", \"cost\", \"cost\", \"cost\", \"cost\", \"cost\", \"cost\", \"cost\", \"cost\", \"cost\", \"countri\", \"countri\", \"countri\", \"countri\", \"countri\", \"countri\", \"countri\", \"countri\", \"countri\", \"countri\", \"court\", \"court\", \"court\", \"court\", \"court\", \"court\", \"court\", \"court\", \"court\", \"court\", \"crime\", \"crime\", \"crime\", \"crime\", \"crime\", \"crime\", \"crime\", \"crime\", \"crime\", \"crime\", \"cruz\", \"cruz\", \"cruz\", \"cruz\", \"cruz\", \"cruz\", \"cruz\", \"deal\", \"deal\", \"deal\", \"deal\", \"deal\", \"deal\", \"deal\", \"deal\", \"deal\", \"deal\", \"death\", \"death\", \"death\", \"death\", \"death\", \"death\", \"death\", \"death\", \"death\", \"death\", \"debt\", \"debt\", \"debt\", \"debt\", \"debt\", \"debt\", \"debt\", \"debt\", \"debt\", \"decemb\", \"decemb\", \"decemb\", \"decemb\", \"decemb\", \"decemb\", \"decemb\", \"decemb\", \"decemb\", \"decemb\", \"deleg\", \"deleg\", \"deleg\", \"deleg\", \"deleg\", \"deleg\", \"deleg\", \"deleg\", \"deleg\", \"democrat\", \"democrat\", \"democrat\", \"democrat\", \"democrat\", \"democrat\", \"democrat\", \"democrat\", \"democrat\", \"democrat\", \"depart\", \"depart\", \"depart\", \"depart\", \"depart\", \"depart\", \"depart\", \"depart\", \"depart\", \"depart\", \"determin\", \"determin\", \"determin\", \"determin\", \"determin\", \"determin\", \"determin\", \"determin\", \"determin\", \"determin\", \"die\", \"die\", \"die\", \"die\", \"die\", \"die\", \"die\", \"die\", \"die\", \"die\", \"diplomat\", \"diplomat\", \"diplomat\", \"diplomat\", \"diplomat\", \"diplomat\", \"diplomat\", \"diplomat\", \"diplomat\", \"director\", \"director\", \"director\", \"director\", \"director\", \"director\", \"director\", \"director\", \"director\", \"director\", \"document\", \"document\", \"document\", \"document\", \"document\", \"document\", \"document\", \"document\", \"document\", \"document\", \"donald\", \"donald\", \"donald\", \"donald\", \"donald\", \"donald\", \"donald\", \"donald\", \"donald\", \"donald\", \"dozen\", \"dozen\", \"dozen\", \"dozen\", \"dozen\", \"dozen\", \"dozen\", \"dozen\", \"dozen\", \"dozen\", \"econom\", \"econom\", \"econom\", \"econom\", \"econom\", \"econom\", \"econom\", \"econom\", \"econom\", \"econom\", \"economi\", \"economi\", \"economi\", \"economi\", \"economi\", \"economi\", \"economi\", \"economi\", \"economi\", \"elect\", \"elect\", \"elect\", \"elect\", \"elect\", \"elect\", \"elect\", \"elect\", \"elect\", \"elect\", \"elector\", \"elector\", \"elector\", \"elector\", \"elector\", \"elector\", \"elector\", \"elector\", \"elector\", \"email\", \"email\", \"email\", \"email\", \"email\", \"email\", \"email\", \"email\", \"email\", \"email\", \"employe\", \"employe\", \"employe\", \"employe\", \"employe\", \"employe\", \"employe\", \"employe\", \"employe\", \"employe\", \"endors\", \"endors\", \"endors\", \"endors\", \"endors\", \"endors\", \"endors\", \"endors\", \"endors\", \"endors\", \"energi\", \"energi\", \"energi\", \"energi\", \"energi\", \"energi\", \"energi\", \"energi\", \"energi\", \"energi\", \"engag\", \"engag\", \"engag\", \"engag\", \"engag\", \"engag\", \"engag\", \"engag\", \"engag\", \"engag\", \"eu\", \"eu\", \"eu\", \"eu\", \"eu\", \"eu\", \"eu\", \"eu\", \"europ\", \"europ\", \"europ\", \"europ\", \"europ\", \"europ\", \"europ\", \"europ\", \"europ\", \"europ\", \"european\", \"european\", \"european\", \"european\", \"european\", \"european\", \"european\", \"european\", \"european\", \"european\", \"even\", \"even\", \"even\", \"even\", \"even\", \"even\", \"even\", \"even\", \"even\", \"even\", \"everyon\", \"everyon\", \"everyon\", \"everyon\", \"everyon\", \"everyon\", \"everyon\", \"everyon\", \"everyon\", \"everyon\", \"extrem\", \"extrem\", \"extrem\", \"extrem\", \"extrem\", \"extrem\", \"extrem\", \"extrem\", \"extrem\", \"extrem\", \"fact\", \"fact\", \"fact\", \"fact\", \"fact\", \"fact\", \"fact\", \"fact\", \"fact\", \"fact\", \"fall\", \"fall\", \"fall\", \"fall\", \"fall\", \"fall\", \"fall\", \"fall\", \"fall\", \"fall\", \"fals\", \"fals\", \"fals\", \"fals\", \"fals\", \"fals\", \"fals\", \"fals\", \"fals\", \"fals\", \"fbi\", \"fbi\", \"fbi\", \"fbi\", \"fbi\", \"fbi\", \"fbi\", \"fbi\", \"fbi\", \"featur\", \"featur\", \"featur\", \"featur\", \"featur\", \"featur\", \"featur\", \"featur\", \"featur\", \"featur\", \"feder\", \"feder\", \"feder\", \"feder\", \"feder\", \"feder\", \"feder\", \"feder\", \"feder\", \"feder\", \"feel\", \"feel\", \"feel\", \"feel\", \"feel\", \"feel\", \"feel\", \"feel\", \"feel\", \"feel\", \"financ\", \"financ\", \"financ\", \"financ\", \"financ\", \"financ\", \"financ\", \"financ\", \"financ\", \"financi\", \"financi\", \"financi\", \"financi\", \"financi\", \"financi\", \"financi\", \"financi\", \"financi\", \"flynn\", \"flynn\", \"flynn\", \"flynn\", \"flynn\", \"flynn\", \"forc\", \"forc\", \"forc\", \"forc\", \"forc\", \"forc\", \"forc\", \"forc\", \"forc\", \"forc\", \"foreign\", \"foreign\", \"foreign\", \"foreign\", \"foreign\", \"foreign\", \"foreign\", \"foreign\", \"foreign\", \"foreign\", \"former\", \"former\", \"former\", \"former\", \"former\", \"former\", \"former\", \"former\", \"former\", \"former\", \"foundat\", \"foundat\", \"foundat\", \"foundat\", \"foundat\", \"foundat\", \"foundat\", \"foundat\", \"foundat\", \"franc\", \"franc\", \"franc\", \"franc\", \"franc\", \"franc\", \"franc\", \"franc\", \"franc\", \"fund\", \"fund\", \"fund\", \"fund\", \"fund\", \"fund\", \"fund\", \"fund\", \"fund\", \"fund\", \"gain\", \"gain\", \"gain\", \"gain\", \"gain\", \"gain\", \"gain\", \"gain\", \"gain\", \"gain\", \"german\", \"german\", \"german\", \"german\", \"german\", \"german\", \"german\", \"german\", \"german\", \"germani\", \"germani\", \"germani\", \"germani\", \"germani\", \"germani\", \"germani\", \"germani\", \"germani\", \"get\", \"get\", \"get\", \"get\", \"get\", \"get\", \"get\", \"get\", \"get\", \"get\", \"girl\", \"girl\", \"girl\", \"girl\", \"girl\", \"girl\", \"girl\", \"girl\", \"girl\", \"global\", \"global\", \"global\", \"global\", \"global\", \"global\", \"global\", \"global\", \"global\", \"go\", \"go\", \"go\", \"go\", \"go\", \"go\", \"go\", \"go\", \"go\", \"go\", \"gop\", \"gop\", \"gop\", \"gop\", \"gop\", \"gop\", \"gop\", \"gop\", \"gop\", \"got\", \"got\", \"got\", \"got\", \"got\", \"got\", \"got\", \"got\", \"got\", \"got\", \"govern\", \"govern\", \"govern\", \"govern\", \"govern\", \"govern\", \"govern\", \"govern\", \"govern\", \"govern\", \"grant\", \"grant\", \"grant\", \"grant\", \"grant\", \"grant\", \"grant\", \"grant\", \"grant\", \"grant\", \"great\", \"great\", \"great\", \"great\", \"great\", \"great\", \"great\", \"great\", \"great\", \"great\", \"group\", \"group\", \"group\", \"group\", \"group\", \"group\", \"group\", \"group\", \"group\", \"group\", \"gun\", \"gun\", \"gun\", \"gun\", \"gun\", \"gun\", \"gun\", \"gun\", \"gun\", \"gun\", \"guy\", \"guy\", \"guy\", \"guy\", \"guy\", \"guy\", \"guy\", \"guy\", \"guy\", \"guy\", \"hack\", \"hack\", \"hack\", \"hack\", \"hack\", \"hack\", \"hack\", \"hack\", \"hack\", \"hate\", \"hate\", \"hate\", \"hate\", \"hate\", \"hate\", \"hate\", \"hate\", \"hate\", \"hate\", \"health\", \"health\", \"health\", \"health\", \"health\", \"health\", \"health\", \"health\", \"health\", \"health\", \"healthcar\", \"healthcar\", \"healthcar\", \"healthcar\", \"healthcar\", \"healthcar\", \"healthcar\", \"healthcar\", \"healthcar\", \"hillari\", \"hillari\", \"hillari\", \"hillari\", \"hillari\", \"hillari\", \"hillari\", \"hillari\", \"hillari\", \"hillari\", \"hous\", \"hous\", \"hous\", \"hous\", \"hous\", \"hous\", \"hous\", \"hous\", \"hous\", \"hous\", \"imag\", \"imag\", \"imag\", \"imag\", \"imag\", \"imag\", \"imag\", \"imag\", \"imag\", \"imag\", \"incid\", \"incid\", \"incid\", \"incid\", \"incid\", \"incid\", \"incid\", \"incid\", \"incid\", \"incid\", \"incom\", \"incom\", \"incom\", \"incom\", \"incom\", \"incom\", \"incom\", \"incom\", \"incom\", \"independ\", \"independ\", \"independ\", \"independ\", \"independ\", \"independ\", \"independ\", \"independ\", \"independ\", \"independ\", \"industri\", \"industri\", \"industri\", \"industri\", \"industri\", \"industri\", \"industri\", \"industri\", \"industri\", \"industri\", \"inform\", \"inform\", \"inform\", \"inform\", \"inform\", \"inform\", \"inform\", \"inform\", \"inform\", \"inform\", \"insur\", \"insur\", \"insur\", \"insur\", \"insur\", \"insur\", \"insur\", \"insur\", \"insur\", \"intellig\", \"intellig\", \"intellig\", \"intellig\", \"intellig\", \"intellig\", \"intellig\", \"intellig\", \"intellig\", \"intellig\", \"intern\", \"intern\", \"intern\", \"intern\", \"intern\", \"intern\", \"intern\", \"intern\", \"intern\", \"intern\", \"invest\", \"invest\", \"invest\", \"invest\", \"invest\", \"invest\", \"invest\", \"invest\", \"invest\", \"invest\", \"investig\", \"investig\", \"investig\", \"investig\", \"investig\", \"investig\", \"investig\", \"investig\", \"investig\", \"investig\", \"iran\", \"iran\", \"iran\", \"iran\", \"iran\", \"iran\", \"iran\", \"iran\", \"iran\", \"iraq\", \"iraq\", \"iraq\", \"iraq\", \"iraq\", \"iraq\", \"iraq\", \"iraq\", \"iraq\", \"iraq\", \"iraqi\", \"iraqi\", \"iraqi\", \"iraqi\", \"iraqi\", \"iraqi\", \"isi\", \"isi\", \"isi\", \"isi\", \"isi\", \"isi\", \"isi\", \"isi\", \"isi\", \"isi\", \"islam\", \"islam\", \"islam\", \"islam\", \"islam\", \"islam\", \"islam\", \"islam\", \"islam\", \"islam\", \"israel\", \"israel\", \"israel\", \"israel\", \"israel\", \"israel\", \"israel\", \"israel\", \"israel\", \"jame\", \"jame\", \"jame\", \"jame\", \"jame\", \"jame\", \"jame\", \"jame\", \"jame\", \"jame\", \"johnson\", \"johnson\", \"johnson\", \"johnson\", \"johnson\", \"johnson\", \"johnson\", \"johnson\", \"johnson\", \"juli\", \"juli\", \"juli\", \"juli\", \"juli\", \"juli\", \"juli\", \"juli\", \"juli\", \"juli\", \"kid\", \"kid\", \"kid\", \"kid\", \"kid\", \"kid\", \"kid\", \"kid\", \"kid\", \"kill\", \"kill\", \"kill\", \"kill\", \"kill\", \"kill\", \"kill\", \"kill\", \"kill\", \"kill\", \"know\", \"know\", \"know\", \"know\", \"know\", \"know\", \"know\", \"know\", \"know\", \"know\", \"korea\", \"korea\", \"korea\", \"korea\", \"korea\", \"korea\", \"korea\", \"korea\", \"korea\", \"korean\", \"korean\", \"korean\", \"korean\", \"korean\", \"korean\", \"korean\", \"korean\", \"lack\", \"lack\", \"lack\", \"lack\", \"lack\", \"lack\", \"lack\", \"lack\", \"lack\", \"lack\", \"law\", \"law\", \"law\", \"law\", \"law\", \"law\", \"law\", \"law\", \"law\", \"law\", \"lawsuit\", \"lawsuit\", \"lawsuit\", \"lawsuit\", \"lawsuit\", \"lawsuit\", \"lawsuit\", \"lawsuit\", \"lawsuit\", \"leader\", \"leader\", \"leader\", \"leader\", \"leader\", \"leader\", \"leader\", \"leader\", \"leader\", \"leader\", \"leak\", \"leak\", \"leak\", \"leak\", \"leak\", \"leak\", \"leak\", \"leak\", \"leak\", \"learn\", \"learn\", \"learn\", \"learn\", \"learn\", \"learn\", \"learn\", \"learn\", \"learn\", \"learn\", \"legisl\", \"legisl\", \"legisl\", \"legisl\", \"legisl\", \"legisl\", \"legisl\", \"legisl\", \"legisl\", \"legisl\", \"level\", \"level\", \"level\", \"level\", \"level\", \"level\", \"level\", \"level\", \"level\", \"level\", \"lie\", \"lie\", \"lie\", \"lie\", \"lie\", \"lie\", \"lie\", \"lie\", \"lie\", \"lie\", \"like\", \"like\", \"like\", \"like\", \"like\", \"like\", \"like\", \"like\", \"like\", \"like\", \"local\", \"local\", \"local\", \"local\", \"local\", \"local\", \"local\", \"local\", \"local\", \"local\", \"lost\", \"lost\", \"lost\", \"lost\", \"lost\", \"lost\", \"lost\", \"lost\", \"lost\", \"lost\", \"love\", \"love\", \"love\", \"love\", \"love\", \"love\", \"love\", \"love\", \"love\", \"love\", \"mainstream\", \"mainstream\", \"mainstream\", \"mainstream\", \"mainstream\", \"mainstream\", \"mainstream\", \"mainstream\", \"mainstream\", \"mainstream\", \"make\", \"make\", \"make\", \"make\", \"make\", \"make\", \"make\", \"make\", \"make\", \"make\", \"man\", \"man\", \"man\", \"man\", \"man\", \"man\", \"man\", \"man\", \"man\", \"man\", \"market\", \"market\", \"market\", \"market\", \"market\", \"market\", \"market\", \"market\", \"market\", \"market\", \"mass\", \"mass\", \"mass\", \"mass\", \"mass\", \"mass\", \"mass\", \"mass\", \"mass\", \"mass\", \"mayor\", \"mayor\", \"mayor\", \"mayor\", \"mayor\", \"mayor\", \"mayor\", \"mayor\", \"mayor\", \"mayor\", \"measur\", \"measur\", \"measur\", \"measur\", \"measur\", \"measur\", \"measur\", \"measur\", \"measur\", \"measur\", \"media\", \"media\", \"media\", \"media\", \"media\", \"media\", \"media\", \"media\", \"media\", \"media\", \"meet\", \"meet\", \"meet\", \"meet\", \"meet\", \"meet\", \"meet\", \"meet\", \"meet\", \"meet\", \"merkel\", \"merkel\", \"merkel\", \"merkel\", \"merkel\", \"merkel\", \"merkel\", \"merkel\", \"michael\", \"michael\", \"michael\", \"michael\", \"michael\", \"michael\", \"michael\", \"michael\", \"michael\", \"michael\", \"migrant\", \"migrant\", \"migrant\", \"migrant\", \"migrant\", \"migrant\", \"migrant\", \"migrant\", \"milit\", \"milit\", \"milit\", \"milit\", \"milit\", \"milit\", \"milit\", \"milit\", \"milit\", \"militari\", \"militari\", \"militari\", \"militari\", \"militari\", \"militari\", \"militari\", \"militari\", \"militari\", \"militari\", \"million\", \"million\", \"million\", \"million\", \"million\", \"million\", \"million\", \"million\", \"million\", \"million\", \"minist\", \"minist\", \"minist\", \"minist\", \"minist\", \"minist\", \"minist\", \"minist\", \"minist\", \"minist\", \"ministri\", \"ministri\", \"ministri\", \"ministri\", \"ministri\", \"ministri\", \"ministri\", \"ministri\", \"ministri\", \"ministri\", \"missil\", \"missil\", \"missil\", \"missil\", \"missil\", \"missil\", \"missil\", \"missil\", \"moscow\", \"moscow\", \"moscow\", \"moscow\", \"moscow\", \"moscow\", \"moscow\", \"murder\", \"murder\", \"murder\", \"murder\", \"murder\", \"murder\", \"murder\", \"murder\", \"murder\", \"murder\", \"muslim\", \"muslim\", \"muslim\", \"muslim\", \"muslim\", \"muslim\", \"muslim\", \"muslim\", \"muslim\", \"muslim\", \"myanmar\", \"myanmar\", \"myanmar\", \"myanmar\", \"myanmar\", \"near\", \"near\", \"near\", \"near\", \"near\", \"near\", \"near\", \"near\", \"near\", \"near\", \"negoti\", \"negoti\", \"negoti\", \"negoti\", \"negoti\", \"negoti\", \"negoti\", \"negoti\", \"negoti\", \"negoti\", \"new\", \"new\", \"new\", \"new\", \"new\", \"new\", \"new\", \"new\", \"new\", \"new\", \"news\", \"news\", \"news\", \"news\", \"news\", \"news\", \"news\", \"news\", \"news\", \"news\", \"nomin\", \"nomin\", \"nomin\", \"nomin\", \"nomin\", \"nomin\", \"nomin\", \"nomin\", \"nomin\", \"nomine\", \"nomine\", \"nomine\", \"nomine\", \"nomine\", \"nomine\", \"nomine\", \"nomine\", \"nomine\", \"north\", \"north\", \"north\", \"north\", \"north\", \"north\", \"north\", \"north\", \"north\", \"north\", \"nov\", \"nov\", \"nov\", \"nov\", \"nov\", \"nov\", \"nov\", \"nov\", \"nov\", \"nov\", \"nuclear\", \"nuclear\", \"nuclear\", \"nuclear\", \"nuclear\", \"nuclear\", \"nuclear\", \"nuclear\", \"nuclear\", \"obama\", \"obama\", \"obama\", \"obama\", \"obama\", \"obama\", \"obama\", \"obama\", \"obama\", \"obama\", \"obamacar\", \"obamacar\", \"obamacar\", \"obamacar\", \"obamacar\", \"obamacar\", \"obamacar\", \"octob\", \"octob\", \"octob\", \"octob\", \"octob\", \"octob\", \"octob\", \"octob\", \"octob\", \"octob\", \"offic\", \"offic\", \"offic\", \"offic\", \"offic\", \"offic\", \"offic\", \"offic\", \"offic\", \"offic\", \"offici\", \"offici\", \"offici\", \"offici\", \"offici\", \"offici\", \"offici\", \"offici\", \"offici\", \"offici\", \"oil\", \"oil\", \"oil\", \"oil\", \"oil\", \"oil\", \"oil\", \"oil\", \"oil\", \"one\", \"one\", \"one\", \"one\", \"one\", \"one\", \"one\", \"one\", \"one\", \"one\", \"opportun\", \"opportun\", \"opportun\", \"opportun\", \"opportun\", \"opportun\", \"opportun\", \"opportun\", \"opportun\", \"opportun\", \"opposit\", \"opposit\", \"opposit\", \"opposit\", \"opposit\", \"opposit\", \"opposit\", \"opposit\", \"opposit\", \"opposit\", \"parliament\", \"parliament\", \"parliament\", \"parliament\", \"parliament\", \"parliament\", \"parliament\", \"parliament\", \"parti\", \"parti\", \"parti\", \"parti\", \"parti\", \"parti\", \"parti\", \"parti\", \"parti\", \"parti\", \"pass\", \"pass\", \"pass\", \"pass\", \"pass\", \"pass\", \"pass\", \"pass\", \"pass\", \"pass\", \"paul\", \"paul\", \"paul\", \"paul\", \"paul\", \"paul\", \"paul\", \"paul\", \"paul\", \"paul\", \"peopl\", \"peopl\", \"peopl\", \"peopl\", \"peopl\", \"peopl\", \"peopl\", \"peopl\", \"peopl\", \"peopl\", \"percent\", \"percent\", \"percent\", \"percent\", \"percent\", \"percent\", \"percent\", \"percent\", \"percent\", \"percent\", \"photo\", \"photo\", \"photo\", \"photo\", \"photo\", \"photo\", \"photo\", \"photo\", \"photo\", \"photo\", \"plan\", \"plan\", \"plan\", \"plan\", \"plan\", \"plan\", \"plan\", \"plan\", \"plan\", \"plan\", \"polic\", \"polic\", \"polic\", \"polic\", \"polic\", \"polic\", \"polic\", \"polic\", \"polic\", \"polic\", \"polit\", \"polit\", \"polit\", \"polit\", \"polit\", \"polit\", \"polit\", \"polit\", \"polit\", \"polit\", \"poll\", \"poll\", \"poll\", \"poll\", \"poll\", \"poll\", \"poll\", \"poll\", \"poll\", \"poll\", \"practic\", \"practic\", \"practic\", \"practic\", \"practic\", \"practic\", \"practic\", \"practic\", \"practic\", \"practic\", \"presid\", \"presid\", \"presid\", \"presid\", \"presid\", \"presid\", \"presid\", \"presid\", \"presid\", \"presid\", \"presidenti\", \"presidenti\", \"presidenti\", \"presidenti\", \"presidenti\", \"presidenti\", \"presidenti\", \"presidenti\", \"presidenti\", \"presidenti\", \"pretti\", \"pretti\", \"pretti\", \"pretti\", \"pretti\", \"pretti\", \"pretti\", \"pretti\", \"pretti\", \"pretti\", \"price\", \"price\", \"price\", \"price\", \"price\", \"price\", \"price\", \"price\", \"price\", \"price\", \"primari\", \"primari\", \"primari\", \"primari\", \"primari\", \"primari\", \"primari\", \"primari\", \"primari\", \"prime\", \"prime\", \"prime\", \"prime\", \"prime\", \"prime\", \"prime\", \"prime\", \"prime\", \"prime\", \"prison\", \"prison\", \"prison\", \"prison\", \"prison\", \"prison\", \"prison\", \"prison\", \"prison\", \"prison\", \"propos\", \"propos\", \"propos\", \"propos\", \"propos\", \"propos\", \"propos\", \"propos\", \"propos\", \"propos\", \"prosecutor\", \"prosecutor\", \"prosecutor\", \"prosecutor\", \"prosecutor\", \"prosecutor\", \"prosecutor\", \"prosecutor\", \"prosecutor\", \"prosecutor\", \"protest\", \"protest\", \"protest\", \"protest\", \"protest\", \"protest\", \"protest\", \"protest\", \"protest\", \"protest\", \"prove\", \"prove\", \"prove\", \"prove\", \"prove\", \"prove\", \"prove\", \"prove\", \"prove\", \"prove\", \"putin\", \"putin\", \"putin\", \"putin\", \"putin\", \"putin\", \"putin\", \"putin\", \"race\", \"race\", \"race\", \"race\", \"race\", \"race\", \"race\", \"race\", \"race\", \"race\", \"racist\", \"racist\", \"racist\", \"racist\", \"racist\", \"racist\", \"racist\", \"racist\", \"racist\", \"racist\", \"realli\", \"realli\", \"realli\", \"realli\", \"realli\", \"realli\", \"realli\", \"realli\", \"realli\", \"realli\", \"reform\", \"reform\", \"reform\", \"reform\", \"reform\", \"reform\", \"reform\", \"reform\", \"reform\", \"reform\", \"refuge\", \"refuge\", \"refuge\", \"refuge\", \"refuge\", \"refuge\", \"refuge\", \"refuge\", \"refuge\", \"region\", \"region\", \"region\", \"region\", \"region\", \"region\", \"region\", \"region\", \"region\", \"regul\", \"regul\", \"regul\", \"regul\", \"regul\", \"regul\", \"regul\", \"regul\", \"regul\", \"regul\", \"religi\", \"religi\", \"religi\", \"religi\", \"religi\", \"religi\", \"religi\", \"religi\", \"religi\", \"repeal\", \"repeal\", \"repeal\", \"repeal\", \"repeal\", \"repeal\", \"repeal\", \"repeal\", \"repeatedli\", \"repeatedli\", \"repeatedli\", \"repeatedli\", \"repeatedli\", \"repeatedli\", \"repeatedli\", \"repeatedli\", \"repeatedli\", \"repeatedli\", \"report\", \"report\", \"report\", \"report\", \"report\", \"report\", \"report\", \"report\", \"report\", \"report\", \"republican\", \"republican\", \"republican\", \"republican\", \"republican\", \"republican\", \"republican\", \"republican\", \"republican\", \"republican\", \"resid\", \"resid\", \"resid\", \"resid\", \"resid\", \"resid\", \"resid\", \"resid\", \"resid\", \"resid\", \"restrict\", \"restrict\", \"restrict\", \"restrict\", \"restrict\", \"restrict\", \"restrict\", \"restrict\", \"restrict\", \"restrict\", \"result\", \"result\", \"result\", \"result\", \"result\", \"result\", \"result\", \"result\", \"result\", \"result\", \"reuter\", \"reuter\", \"reuter\", \"reuter\", \"reuter\", \"reuter\", \"reuter\", \"reuter\", \"reuter\", \"reuter\", \"right\", \"right\", \"right\", \"right\", \"right\", \"right\", \"right\", \"right\", \"right\", \"right\", \"rival\", \"rival\", \"rival\", \"rival\", \"rival\", \"rival\", \"rival\", \"rival\", \"rival\", \"rival\", \"room\", \"room\", \"room\", \"room\", \"room\", \"room\", \"room\", \"room\", \"room\", \"room\", \"rubio\", \"rubio\", \"rubio\", \"rubio\", \"rubio\", \"rubio\", \"rubio\", \"rubio\", \"rubio\", \"rule\", \"rule\", \"rule\", \"rule\", \"rule\", \"rule\", \"rule\", \"rule\", \"rule\", \"rule\", \"run\", \"run\", \"run\", \"run\", \"run\", \"run\", \"run\", \"run\", \"run\", \"run\", \"russia\", \"russia\", \"russia\", \"russia\", \"russia\", \"russia\", \"russia\", \"russia\", \"russia\", \"russian\", \"russian\", \"russian\", \"russian\", \"russian\", \"russian\", \"russian\", \"russian\", \"russian\", \"safe\", \"safe\", \"safe\", \"safe\", \"safe\", \"safe\", \"safe\", \"safe\", \"safe\", \"safe\", \"said\", \"said\", \"said\", \"said\", \"said\", \"said\", \"said\", \"said\", \"said\", \"said\", \"sanction\", \"sanction\", \"sanction\", \"sanction\", \"sanction\", \"sanction\", \"sanction\", \"sanction\", \"sanction\", \"sanction\", \"sander\", \"sander\", \"sander\", \"sander\", \"sander\", \"sander\", \"sander\", \"sander\", \"sander\", \"saudi\", \"saudi\", \"saudi\", \"saudi\", \"saudi\", \"saudi\", \"saudi\", \"saudi\", \"save\", \"save\", \"save\", \"save\", \"save\", \"save\", \"save\", \"save\", \"save\", \"save\", \"say\", \"say\", \"say\", \"say\", \"say\", \"say\", \"say\", \"say\", \"say\", \"say\", \"seat\", \"seat\", \"seat\", \"seat\", \"seat\", \"seat\", \"seat\", \"seat\", \"seat\", \"seat\", \"second\", \"second\", \"second\", \"second\", \"second\", \"second\", \"second\", \"second\", \"second\", \"second\", \"secret\", \"secret\", \"secret\", \"secret\", \"secret\", \"secret\", \"secret\", \"secret\", \"secret\", \"secret\", \"secur\", \"secur\", \"secur\", \"secur\", \"secur\", \"secur\", \"secur\", \"secur\", \"secur\", \"secur\", \"senat\", \"senat\", \"senat\", \"senat\", \"senat\", \"senat\", \"senat\", \"senat\", \"senat\", \"senat\", \"sentenc\", \"sentenc\", \"sentenc\", \"sentenc\", \"sentenc\", \"sentenc\", \"sentenc\", \"sentenc\", \"sentenc\", \"sentenc\", \"session\", \"session\", \"session\", \"session\", \"session\", \"session\", \"session\", \"session\", \"session\", \"session\", \"shoot\", \"shoot\", \"shoot\", \"shoot\", \"shoot\", \"shoot\", \"shoot\", \"shoot\", \"shoot\", \"shoot\", \"simpli\", \"simpli\", \"simpli\", \"simpli\", \"simpli\", \"simpli\", \"simpli\", \"simpli\", \"simpli\", \"simpli\", \"someon\", \"someon\", \"someon\", \"someon\", \"someon\", \"someon\", \"someon\", \"someon\", \"someon\", \"someon\", \"someth\", \"someth\", \"someth\", \"someth\", \"someth\", \"someth\", \"someth\", \"someth\", \"someth\", \"someth\", \"special\", \"special\", \"special\", \"special\", \"special\", \"special\", \"special\", \"special\", \"special\", \"special\", \"specif\", \"specif\", \"specif\", \"specif\", \"specif\", \"specif\", \"specif\", \"specif\", \"specif\", \"specif\", \"spend\", \"spend\", \"spend\", \"spend\", \"spend\", \"spend\", \"spend\", \"spend\", \"spend\", \"spend\", \"state\", \"state\", \"state\", \"state\", \"state\", \"state\", \"state\", \"state\", \"state\", \"state\", \"student\", \"student\", \"student\", \"student\", \"student\", \"student\", \"student\", \"student\", \"student\", \"student\", \"studi\", \"studi\", \"studi\", \"studi\", \"studi\", \"studi\", \"studi\", \"studi\", \"studi\", \"studi\", \"support\", \"support\", \"support\", \"support\", \"support\", \"support\", \"support\", \"support\", \"support\", \"support\", \"suprem\", \"suprem\", \"suprem\", \"suprem\", \"suprem\", \"suprem\", \"suprem\", \"suprem\", \"suprem\", \"suprem\", \"suspect\", \"suspect\", \"suspect\", \"suspect\", \"suspect\", \"suspect\", \"suspect\", \"suspect\", \"suspect\", \"suspect\", \"syria\", \"syria\", \"syria\", \"syria\", \"syria\", \"syria\", \"syria\", \"syria\", \"syria\", \"syria\", \"syrian\", \"syrian\", \"syrian\", \"syrian\", \"syrian\", \"syrian\", \"syrian\", \"syrian\", \"syrian\", \"tax\", \"tax\", \"tax\", \"tax\", \"tax\", \"tax\", \"tax\", \"tax\", \"tax\", \"ted\", \"ted\", \"ted\", \"ted\", \"ted\", \"ted\", \"ted\", \"tell\", \"tell\", \"tell\", \"tell\", \"tell\", \"tell\", \"tell\", \"tell\", \"tell\", \"tell\", \"terror\", \"terror\", \"terror\", \"terror\", \"terror\", \"terror\", \"terror\", \"terror\", \"terror\", \"terror\", \"terrorist\", \"terrorist\", \"terrorist\", \"terrorist\", \"terrorist\", \"terrorist\", \"terrorist\", \"terrorist\", \"terrorist\", \"terrorist\", \"texa\", \"texa\", \"texa\", \"texa\", \"texa\", \"texa\", \"texa\", \"texa\", \"texa\", \"thing\", \"thing\", \"thing\", \"thing\", \"thing\", \"thing\", \"thing\", \"thing\", \"thing\", \"thing\", \"think\", \"think\", \"think\", \"think\", \"think\", \"think\", \"think\", \"think\", \"think\", \"think\", \"tillerson\", \"tillerson\", \"tillerson\", \"tillerson\", \"tillerson\", \"tillerson\", \"tillerson\", \"tillerson\", \"time\", \"time\", \"time\", \"time\", \"time\", \"time\", \"time\", \"time\", \"time\", \"time\", \"town\", \"town\", \"town\", \"town\", \"town\", \"town\", \"town\", \"town\", \"town\", \"town\", \"train\", \"train\", \"train\", \"train\", \"train\", \"train\", \"train\", \"train\", \"train\", \"train\", \"transit\", \"transit\", \"transit\", \"transit\", \"transit\", \"transit\", \"transit\", \"transit\", \"transit\", \"troop\", \"troop\", \"troop\", \"troop\", \"troop\", \"troop\", \"troop\", \"troop\", \"troop\", \"trump\", \"trump\", \"trump\", \"trump\", \"trump\", \"trump\", \"trump\", \"trump\", \"trump\", \"trump\", \"truth\", \"truth\", \"truth\", \"truth\", \"truth\", \"truth\", \"truth\", \"truth\", \"truth\", \"truth\", \"turkey\", \"turkey\", \"turkey\", \"turkey\", \"turkey\", \"tweet\", \"tweet\", \"tweet\", \"tweet\", \"tweet\", \"tweet\", \"tweet\", \"tweet\", \"tweet\", \"tweet\", \"two\", \"two\", \"two\", \"two\", \"two\", \"two\", \"two\", \"two\", \"two\", \"two\", \"unit\", \"unit\", \"unit\", \"unit\", \"unit\", \"unit\", \"unit\", \"unit\", \"unit\", \"unit\", \"victim\", \"victim\", \"victim\", \"victim\", \"victim\", \"victim\", \"victim\", \"victim\", \"victim\", \"victim\", \"victori\", \"victori\", \"victori\", \"victori\", \"victori\", \"victori\", \"victori\", \"victori\", \"victori\", \"victori\", \"video\", \"video\", \"video\", \"video\", \"video\", \"video\", \"video\", \"video\", \"video\", \"video\", \"violenc\", \"violenc\", \"violenc\", \"violenc\", \"violenc\", \"violenc\", \"violenc\", \"violenc\", \"violenc\", \"violenc\", \"vote\", \"vote\", \"vote\", \"vote\", \"vote\", \"vote\", \"vote\", \"vote\", \"vote\", \"vote\", \"voter\", \"voter\", \"voter\", \"voter\", \"voter\", \"voter\", \"voter\", \"voter\", \"voter\", \"want\", \"want\", \"want\", \"want\", \"want\", \"want\", \"want\", \"want\", \"want\", \"want\", \"washington\", \"washington\", \"washington\", \"washington\", \"washington\", \"washington\", \"washington\", \"washington\", \"washington\", \"washington\", \"watch\", \"watch\", \"watch\", \"watch\", \"watch\", \"watch\", \"watch\", \"watch\", \"watch\", \"watch\", \"weapon\", \"weapon\", \"weapon\", \"weapon\", \"weapon\", \"weapon\", \"weapon\", \"weapon\", \"weapon\", \"weapon\", \"white\", \"white\", \"white\", \"white\", \"white\", \"white\", \"white\", \"white\", \"white\", \"white\", \"whole\", \"whole\", \"whole\", \"whole\", \"whole\", \"whole\", \"whole\", \"whole\", \"whole\", \"whole\", \"win\", \"win\", \"win\", \"win\", \"win\", \"win\", \"win\", \"win\", \"win\", \"win\", \"wire\", \"wire\", \"wire\", \"wire\", \"wire\", \"wire\", \"wire\", \"wire\", \"wire\", \"wire\", \"woman\", \"woman\", \"woman\", \"woman\", \"woman\", \"woman\", \"woman\", \"woman\", \"woman\", \"woman\", \"women\", \"women\", \"women\", \"women\", \"women\", \"women\", \"women\", \"women\", \"women\", \"women\", \"word\", \"word\", \"word\", \"word\", \"word\", \"word\", \"word\", \"word\", \"word\", \"word\", \"would\", \"would\", \"would\", \"would\", \"would\", \"would\", \"would\", \"would\", \"would\", \"would\", \"write\", \"write\", \"write\", \"write\", \"write\", \"write\", \"write\", \"write\", \"write\", \"write\", \"year\", \"year\", \"year\", \"year\", \"year\", \"year\", \"year\", \"year\", \"year\", \"year\"]}, \"R\": 30, \"lambda.step\": 0.01, \"plot.opts\": {\"xlab\": \"PC1\", \"ylab\": \"PC2\"}, \"topic.order\": [10, 6, 9, 8, 4, 1, 2, 5, 3, 7]};\n",
       "\n",
       "function LDAvis_load_lib(url, callback){\n",
       "  var s = document.createElement('script');\n",
       "  s.src = url;\n",
       "  s.async = true;\n",
       "  s.onreadystatechange = s.onload = callback;\n",
       "  s.onerror = function(){console.warn(\"failed to load library \" + url);};\n",
       "  document.getElementsByTagName(\"head\")[0].appendChild(s);\n",
       "}\n",
       "\n",
       "if(typeof(LDAvis) !== \"undefined\"){\n",
       "   // already loaded: just create the visualization\n",
       "   !function(LDAvis){\n",
       "       new LDAvis(\"#\" + \"ldavis_el1582021573090732327794906018\", ldavis_el1582021573090732327794906018_data);\n",
       "   }(LDAvis);\n",
       "}else if(typeof define === \"function\" && define.amd){\n",
       "   // require.js is available: use it to load d3/LDAvis\n",
       "   require.config({paths: {d3: \"https://cdnjs.cloudflare.com/ajax/libs/d3/3.5.5/d3.min\"}});\n",
       "   require([\"d3\"], function(d3){\n",
       "      window.d3 = d3;\n",
       "      LDAvis_load_lib(\"https://cdn.rawgit.com/bmabey/pyLDAvis/files/ldavis.v1.0.0.js\", function(){\n",
       "        new LDAvis(\"#\" + \"ldavis_el1582021573090732327794906018\", ldavis_el1582021573090732327794906018_data);\n",
       "      });\n",
       "    });\n",
       "}else{\n",
       "    // require.js not available: dynamically load d3 & LDAvis\n",
       "    LDAvis_load_lib(\"https://cdnjs.cloudflare.com/ajax/libs/d3/3.5.5/d3.min.js\", function(){\n",
       "         LDAvis_load_lib(\"https://cdn.rawgit.com/bmabey/pyLDAvis/files/ldavis.v1.0.0.js\", function(){\n",
       "                 new LDAvis(\"#\" + \"ldavis_el1582021573090732327794906018\", ldavis_el1582021573090732327794906018_data);\n",
       "            })\n",
       "         });\n",
       "}\n",
       "</script>"
      ],
      "text/plain": [
       "PreparedData(topic_coordinates=              x         y  topics  cluster       Freq\n",
       "topic                                                \n",
       "9     -0.072978 -0.004790       1        1  28.113156\n",
       "5     -0.082315 -0.004252       2        1  17.006739\n",
       "8     -0.082393  0.001709       3        1  14.827332\n",
       "7     -0.076175 -0.011036       4        1  13.416746\n",
       "3     -0.093377  0.000503       5        1  11.124753\n",
       "0     -0.082129 -0.008268       6        1  10.427181\n",
       "1      0.303881 -0.264881       7        1   1.400599\n",
       "4      0.263109  0.297286       8        1   1.273279\n",
       "2     -0.039521 -0.002403       9        1   1.217713\n",
       "6     -0.038102 -0.003868      10        1   1.192501, topic_info=    Category         Freq        Term        Total  loglift  logprob\n",
       "930  Default  2402.000000      turkey  2402.000000  30.0000  30.0000\n",
       "410  Default  1374.000000         gun  1374.000000  29.0000  29.0000\n",
       "252  Default  1309.000000      decemb  1309.000000  28.0000  28.0000\n",
       "238  Default  1232.000000        cruz  1232.000000  27.0000  27.0000\n",
       "480  Default  1070.000000     johnson  1070.000000  26.0000  26.0000\n",
       "16   Default   722.000000        2016   722.000000  25.0000  25.0000\n",
       "889  Default   504.000000         ted   504.000000  24.0000  24.0000\n",
       "823  Default   396.000000       shoot   396.000000  23.0000  23.0000\n",
       "217  Default   468.000000     control   468.000000  22.0000  22.0000\n",
       "967  Default   316.000000      weapon   316.000000  21.0000  21.0000\n",
       "952  Default   381.000000     violenc   381.000000  20.0000  20.0000\n",
       "187  Default  1151.000000     clinton  1151.000000  19.0000  19.0000\n",
       "669  Default   717.000000       polic   717.000000  18.0000  18.0000\n",
       "783  Default   634.000000     russian   634.000000  17.0000  17.0000\n",
       "168  Default   240.000000       check   240.000000  16.0000  16.0000\n",
       "896  Default   268.000000        texa   268.000000  15.0000  15.0000\n",
       "556  Default   231.000000        mass   231.000000  14.0000  14.0000\n",
       "782  Default   652.000000      russia   652.000000  13.0000  13.0000\n",
       "299  Default  1150.000000       elect  1150.000000  12.0000  12.0000\n",
       "650  Default  1039.000000       parti  1039.000000  11.0000  11.0000\n",
       "798  Default   334.000000      second   334.000000  10.0000  10.0000\n",
       "68   Default   236.000000       amend   236.000000   9.0000   9.0000\n",
       "927  Default  3336.000000       trump  3336.000000   8.0000   8.0000\n",
       "6    Default   211.000000          14   211.000000   7.0000   7.0000\n",
       "494  Default   450.000000       korea   450.000000   6.0000   6.0000\n",
       "956  Default   899.000000        vote   899.000000   5.0000   5.0000\n",
       "757  Default  1195.000000  republican  1195.000000   4.0000   4.0000\n",
       "466  Default   626.000000    investig   626.000000   3.0000   3.0000\n",
       "172  Default   491.000000       china   491.000000   2.0000   2.0000\n",
       "673  Default   418.000000        poll   418.000000   1.0000   1.0000\n",
       "..       ...          ...         ...          ...      ...      ...\n",
       "752  Topic10     3.848409      repeal   145.735491   0.7950  -6.9077\n",
       "126  Topic10     3.848825     billion   363.798386  -0.1197  -6.9076\n",
       "396  Topic10     3.848824      global   218.203986   0.3915  -6.9076\n",
       "356  Topic10     3.848789      financ   192.406490   0.5173  -6.9077\n",
       "294  Topic10     3.848776     economi   242.830345   0.2845  -6.9077\n",
       "921  Topic10     3.848753     transit   180.203128   0.5828  -6.9077\n",
       "293  Topic10     3.848735      econom   318.200055   0.0142  -6.9077\n",
       "357  Topic10     3.848667     financi   269.907341   0.1788  -6.9077\n",
       "138  Topic10     3.848661     britain   296.252953   0.0856  -6.9077\n",
       "20   Topic10     3.848633          25   182.765184   0.5686  -6.9077\n",
       "275  Topic10     3.848622    diplomat   220.808604   0.3795  -6.9077\n",
       "578  Topic10     3.848620       milit   282.897821   0.1317  -6.9077\n",
       "632  Topic10     3.848614         oil   231.070230   0.3341  -6.9077\n",
       "512  Topic10     3.848591        leak   151.769572   0.7545  -6.9077\n",
       "390  Topic10     3.848559      german   200.743362   0.4748  -6.9077\n",
       "692  Topic10     3.848551     primari   176.563496   0.6031  -6.9077\n",
       "449  Topic10     3.848545       incom   160.561054   0.6981  -6.9077\n",
       "601  Topic10     3.848541     myanmar   330.857844  -0.0249  -6.9077\n",
       "470  Topic10     3.848536       iraqi   174.273740   0.6162  -6.9077\n",
       "377  Topic10     3.848525       franc   185.753082   0.5524  -6.9077\n",
       "67   Topic10     3.848505  ambassador   171.500443   0.6322  -6.9077\n",
       "191  Topic10     3.848500      coalit   280.222649   0.1412  -6.9077\n",
       "374  Topic10     3.848500     foundat   177.259685   0.5992  -6.9077\n",
       "222  Topic10     3.848499      corpor   153.360544   0.7440  -6.9077\n",
       "143  Topic10     3.848498        bush   204.866453   0.4544  -6.9077\n",
       "748  Topic10     3.848495      religi   161.876144   0.6900  -6.9077\n",
       "219  Topic10     3.848491     convent   182.880546   0.5680  -6.9077\n",
       "648  Topic10     3.848491  parliament   308.074628   0.0465  -6.9077\n",
       "881  Topic10     3.848486      syrian   263.678562   0.2021  -6.9077\n",
       "742  Topic10     3.848481      region   453.200788  -0.3395  -6.9077\n",
       "\n",
       "[559 rows x 6 columns], token_table=      Topic      Freq   Term\n",
       "term                        \n",
       "0         1  0.130658    000\n",
       "0         2  0.263358    000\n",
       "0         3  0.093910    000\n",
       "0         4  0.361351    000\n",
       "0         5  0.063287    000\n",
       "0         6  0.069412    000\n",
       "0         7  0.002042    000\n",
       "0         8  0.002042    000\n",
       "0         9  0.004083    000\n",
       "0        10  0.008166    000\n",
       "3         1  0.369768     11\n",
       "3         2  0.118854     11\n",
       "3         3  0.074834     11\n",
       "3         4  0.167276     11\n",
       "3         5  0.123256     11\n",
       "3         6  0.114452     11\n",
       "3         7  0.004402     11\n",
       "3         8  0.004402     11\n",
       "3         9  0.008804     11\n",
       "3        10  0.017608     11\n",
       "4         1  0.296013     12\n",
       "4         2  0.174696     12\n",
       "4         3  0.106759     12\n",
       "4         4  0.203812     12\n",
       "4         5  0.053379     12\n",
       "4         6  0.126170     12\n",
       "4         7  0.004853     12\n",
       "4         8  0.004853     12\n",
       "4         9  0.009705     12\n",
       "4        10  0.019411     12\n",
       "...     ...       ...    ...\n",
       "992       1  0.241919  would\n",
       "992       2  0.282985  would\n",
       "992       3  0.185919  would\n",
       "992       4  0.067946  would\n",
       "992       5  0.082133  would\n",
       "992       6  0.134399  would\n",
       "992       7  0.000747  would\n",
       "992       8  0.000747  would\n",
       "992       9  0.001493  would\n",
       "992      10  0.002987  would\n",
       "993       1  0.518967  write\n",
       "993       2  0.158573  write\n",
       "993       3  0.021624  write\n",
       "993       4  0.043247  write\n",
       "993       5  0.108118  write\n",
       "993       6  0.093702  write\n",
       "993       7  0.007208  write\n",
       "993       8  0.007208  write\n",
       "993       9  0.014416  write\n",
       "993      10  0.028831  write\n",
       "996       1  0.240659   year\n",
       "996       2  0.228407   year\n",
       "996       3  0.121642   year\n",
       "996       4  0.239784   year\n",
       "996       5  0.057758   year\n",
       "996       6  0.105890   year\n",
       "996       7  0.000875   year\n",
       "996       8  0.000875   year\n",
       "996       9  0.001750   year\n",
       "996      10  0.003500   year\n",
       "\n",
       "[3259 rows x 3 columns], R=30, lambda_step=0.01, plot_opts={'xlab': 'PC1', 'ylab': 'PC2'}, topic_order=[10, 6, 9, 8, 4, 1, 2, 5, 3, 7])"
      ]
     },
     "execution_count": 97,
     "metadata": {},
     "output_type": "execute_result"
    }
   ],
   "source": [
    "##représentation du graphique interactif\n",
    "\n",
    "pyLDAvis.sklearn.prepare(lda, tfidf, tfidf_vectorizer)"
   ]
  }
 ],
 "metadata": {
  "kernelspec": {
   "display_name": "Python 3",
   "language": "python",
   "name": "python3"
  },
  "language_info": {
   "codemirror_mode": {
    "name": "ipython",
    "version": 3
   },
   "file_extension": ".py",
   "mimetype": "text/x-python",
   "name": "python",
   "nbconvert_exporter": "python",
   "pygments_lexer": "ipython3",
   "version": "3.7.3"
  }
 },
 "nbformat": 4,
 "nbformat_minor": 2
}
